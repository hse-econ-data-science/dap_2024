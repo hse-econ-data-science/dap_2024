{
 "cells": [
  {
   "cell_type": "markdown",
   "id": "088c2c88",
   "metadata": {},
   "source": [
    "# Семинар 2"
   ]
  },
  {
   "cell_type": "markdown",
   "id": "27e63dea",
   "metadata": {},
   "source": [
    "## Контест \n",
    "\n",
    "### U. Симметричное число*\n",
    "\n",
    "Дано четырехзначное число. Определите, является ли его десятичная запись симметричной. Если число симметричное, то выведите 1, иначе выведите любое другое целое число. Число может иметь меньше четырех знаков, тогда нужно считать, что его десятичная запись дополняется слева незначащими нулями."
   ]
  },
  {
   "cell_type": "code",
   "execution_count": 1,
   "id": "aafcd53c",
   "metadata": {},
   "outputs": [
    {
     "name": "stdout",
     "output_type": "stream",
     "text": [
      "2002\n"
     ]
    },
    {
     "data": {
      "text/plain": [
       "2002"
      ]
     },
     "execution_count": 1,
     "metadata": {},
     "output_type": "execute_result"
    }
   ],
   "source": [
    "x = int(input())\n",
    "x"
   ]
  },
  {
   "cell_type": "code",
   "execution_count": 2,
   "id": "954e65df",
   "metadata": {},
   "outputs": [],
   "source": [
    "d = x % 10\n",
    "c = x // 10 % 10\n",
    "b = x // 100 % 10\n",
    "a = x // 1000"
   ]
  },
  {
   "cell_type": "code",
   "execution_count": 3,
   "id": "eb73f34f",
   "metadata": {},
   "outputs": [
    {
     "data": {
      "text/plain": [
       "True"
      ]
     },
     "execution_count": 3,
     "metadata": {},
     "output_type": "execute_result"
    }
   ],
   "source": [
    "res = (a == d) and (c == b)\n",
    "res"
   ]
  },
  {
   "cell_type": "code",
   "execution_count": 4,
   "id": "31895c40",
   "metadata": {},
   "outputs": [
    {
     "data": {
      "text/plain": [
       "1"
      ]
     },
     "execution_count": 4,
     "metadata": {},
     "output_type": "execute_result"
    }
   ],
   "source": [
    "int(res)"
   ]
  },
  {
   "cell_type": "markdown",
   "id": "21b107e1",
   "metadata": {},
   "source": [
    "## Логический тип данных (bool) "
   ]
  },
  {
   "cell_type": "code",
   "execution_count": 5,
   "id": "7897d320",
   "metadata": {},
   "outputs": [
    {
     "data": {
      "text/plain": [
       "True"
      ]
     },
     "execution_count": 5,
     "metadata": {},
     "output_type": "execute_result"
    }
   ],
   "source": [
    "b = 5 > 4\n",
    "b"
   ]
  },
  {
   "cell_type": "code",
   "execution_count": 6,
   "id": "4a89d3f1",
   "metadata": {},
   "outputs": [
    {
     "data": {
      "text/plain": [
       "bool"
      ]
     },
     "execution_count": 6,
     "metadata": {},
     "output_type": "execute_result"
    }
   ],
   "source": [
    "type(b)"
   ]
  },
  {
   "cell_type": "code",
   "execution_count": 7,
   "id": "b7e28b4e",
   "metadata": {},
   "outputs": [
    {
     "data": {
      "text/plain": [
       "True"
      ]
     },
     "execution_count": 7,
     "metadata": {},
     "output_type": "execute_result"
    }
   ],
   "source": [
    "5 >= 4 # 5 > 4 or 5 == 5"
   ]
  },
  {
   "cell_type": "code",
   "execution_count": 50,
   "id": "832e3afd",
   "metadata": {},
   "outputs": [
    {
     "data": {
      "text/plain": [
       "True"
      ]
     },
     "execution_count": 50,
     "metadata": {},
     "output_type": "execute_result"
    }
   ],
   "source": [
    "age = 17\n",
    "age >= 18 or age < 40"
   ]
  },
  {
   "cell_type": "code",
   "execution_count": 49,
   "id": "78a1cc30",
   "metadata": {},
   "outputs": [
    {
     "data": {
      "text/plain": [
       "False"
      ]
     },
     "execution_count": 49,
     "metadata": {},
     "output_type": "execute_result"
    }
   ],
   "source": [
    "age = 17\n",
    "age >= 18 and age < 40"
   ]
  },
  {
   "cell_type": "markdown",
   "id": "c314420a",
   "metadata": {},
   "source": [
    "## Условия/ветвление"
   ]
  },
  {
   "cell_type": "code",
   "execution_count": 11,
   "id": "aaa01153",
   "metadata": {},
   "outputs": [
    {
     "name": "stdout",
     "output_type": "stream",
     "text": [
      "Неправильный ввод\n"
     ]
    }
   ],
   "source": [
    "age = -1\n",
    "\n",
    "if age >= 18 and age < 40:\n",
    "    print(\"Можно продать!\")\n",
    "elif age > 40:\n",
    "    print(\"Тебе уже поздно :-(\")\n",
    "elif age > 16:\n",
    "    print(\"Нет, пока рано\")\n",
    "elif age > 0:\n",
    "    print(\"Совсем рано\")\n",
    "else:\n",
    "    print(\"Неправильный ввод\")"
   ]
  },
  {
   "cell_type": "markdown",
   "id": "d9a3a7ba",
   "metadata": {},
   "source": [
    "## Списки (list)"
   ]
  },
  {
   "cell_type": "code",
   "execution_count": 12,
   "id": "15d47045",
   "metadata": {},
   "outputs": [
    {
     "data": {
      "text/plain": [
       "[31, 24, 12, 90, 'слишком стар']"
      ]
     },
     "execution_count": 12,
     "metadata": {},
     "output_type": "execute_result"
    }
   ],
   "source": [
    "ages = [31, 24, 12, 90, \"слишком стар\"]\n",
    "ages"
   ]
  },
  {
   "cell_type": "code",
   "execution_count": 13,
   "id": "9c7448c0",
   "metadata": {},
   "outputs": [
    {
     "data": {
      "text/plain": [
       "list"
      ]
     },
     "execution_count": 13,
     "metadata": {},
     "output_type": "execute_result"
    }
   ],
   "source": [
    "type(ages)"
   ]
  },
  {
   "cell_type": "code",
   "execution_count": 18,
   "id": "d3b00e6e",
   "metadata": {},
   "outputs": [
    {
     "data": {
      "text/plain": [
       "[31, 125, 12, 90, 'слишком стар']"
      ]
     },
     "execution_count": 18,
     "metadata": {},
     "output_type": "execute_result"
    }
   ],
   "source": [
    "ages[1] = 125\n",
    "ages"
   ]
  },
  {
   "cell_type": "code",
   "execution_count": 19,
   "id": "68485132",
   "metadata": {},
   "outputs": [
    {
     "data": {
      "text/plain": [
       "[31, 125, 12, 90, 30]"
      ]
     },
     "execution_count": 19,
     "metadata": {},
     "output_type": "execute_result"
    }
   ],
   "source": [
    "ages[-1] = 30\n",
    "ages"
   ]
  },
  {
   "cell_type": "code",
   "execution_count": 20,
   "id": "4be95c74",
   "metadata": {},
   "outputs": [
    {
     "data": {
      "text/plain": [
       "[31, 125, 12, 90, 30, 19]"
      ]
     },
     "execution_count": 20,
     "metadata": {},
     "output_type": "execute_result"
    }
   ],
   "source": [
    "ages.append(19)\n",
    "ages"
   ]
  },
  {
   "cell_type": "code",
   "execution_count": 21,
   "id": "b18426d9",
   "metadata": {},
   "outputs": [
    {
     "data": {
      "text/plain": [
       "[31, 125, 12, 90, 30, 19, 64, 32, 85, 13, 51]"
      ]
     },
     "execution_count": 21,
     "metadata": {},
     "output_type": "execute_result"
    }
   ],
   "source": [
    "ages_group2 = [64, 32, 85]\n",
    "ages_full = ages + ages_group2 + [13, 51]\n",
    "ages_full"
   ]
  },
  {
   "cell_type": "code",
   "execution_count": 22,
   "id": "b22c9532",
   "metadata": {},
   "outputs": [
    {
     "data": {
      "text/plain": [
       "[31, 90]"
      ]
     },
     "execution_count": 22,
     "metadata": {},
     "output_type": "execute_result"
    }
   ],
   "source": [
    "ages[:-1:3]"
   ]
  },
  {
   "cell_type": "markdown",
   "id": "de04e065",
   "metadata": {},
   "source": [
    "## Оператор = в питоне "
   ]
  },
  {
   "cell_type": "markdown",
   "id": "f629a614",
   "metadata": {},
   "source": [
    "### Неизменяемые типы данных (int, float, str) "
   ]
  },
  {
   "cell_type": "code",
   "execution_count": 23,
   "id": "35a5b9f1",
   "metadata": {},
   "outputs": [
    {
     "data": {
      "text/plain": [
       "(1, 2)"
      ]
     },
     "execution_count": 23,
     "metadata": {},
     "output_type": "execute_result"
    }
   ],
   "source": [
    "a = 1\n",
    "b = a\n",
    "b = 2\n",
    "a, b"
   ]
  },
  {
   "cell_type": "markdown",
   "id": "c40490b6",
   "metadata": {},
   "source": [
    "### Изменяемые типы данных (list) "
   ]
  },
  {
   "cell_type": "code",
   "execution_count": 26,
   "id": "fb10a990",
   "metadata": {},
   "outputs": [
    {
     "data": {
      "text/plain": [
       "([2, 1], [2, 1])"
      ]
     },
     "execution_count": 26,
     "metadata": {},
     "output_type": "execute_result"
    }
   ],
   "source": [
    "a = [1, 1]\n",
    "b = a\n",
    "b[0] = 2\n",
    "a, b"
   ]
  },
  {
   "cell_type": "markdown",
   "id": "2f52619a",
   "metadata": {},
   "source": [
    "Первый список тоже изменился!!!\n",
    "\n",
    "Чтобы такого не было - используем `copy()`:"
   ]
  },
  {
   "cell_type": "code",
   "execution_count": 29,
   "id": "9fa6b8f9",
   "metadata": {},
   "outputs": [
    {
     "data": {
      "text/plain": [
       "([1, 1], [2, 1])"
      ]
     },
     "execution_count": 29,
     "metadata": {},
     "output_type": "execute_result"
    }
   ],
   "source": [
    "a = [1, 1]\n",
    "b = a.copy()\n",
    "b[0] = 2\n",
    "a, b"
   ]
  },
  {
   "cell_type": "markdown",
   "id": "9af4c547",
   "metadata": {},
   "source": [
    "## Циклы "
   ]
  },
  {
   "cell_type": "code",
   "execution_count": 33,
   "id": "30eb2702",
   "metadata": {},
   "outputs": [
    {
     "name": "stdout",
     "output_type": "stream",
     "text": [
      "Итерация: age: 31 , count: 1\n",
      "Итерация: age: 125 , count: 2\n",
      "Итерация: age: 12 , count: 3\n",
      "Итерация: age: 90 , count: 4\n",
      "Итерация: age: 30 , count: 5\n",
      "Итерация: age: 19 , count: 6\n",
      "Число элементов: 6\n"
     ]
    }
   ],
   "source": [
    "count = 0\n",
    "for age in ages:\n",
    "    count = count + 1\n",
    "    print(\"Итерация:\", \"age:\", age, \", count:\", count)\n",
    "print(\"Число элементов:\", count)"
   ]
  },
  {
   "cell_type": "markdown",
   "id": "5889be08",
   "metadata": {},
   "source": [
    "### Диапазон значений (range)"
   ]
  },
  {
   "cell_type": "code",
   "execution_count": 34,
   "id": "cb8694fd",
   "metadata": {},
   "outputs": [
    {
     "name": "stdout",
     "output_type": "stream",
     "text": [
      "0\n",
      "1\n",
      "2\n",
      "3\n",
      "4\n",
      "5\n",
      "6\n",
      "7\n",
      "8\n",
      "9\n"
     ]
    }
   ],
   "source": [
    "for i in range(0, 10):\n",
    "    print(i)"
   ]
  },
  {
   "cell_type": "markdown",
   "id": "5ef19098",
   "metadata": {},
   "source": [
    "`range` - не список, а генератор (он не хранит весь диапазон, а только следующее значение)"
   ]
  },
  {
   "cell_type": "code",
   "execution_count": 37,
   "id": "74f1fe65",
   "metadata": {},
   "outputs": [
    {
     "data": {
      "text/plain": [
       "range"
      ]
     },
     "execution_count": 37,
     "metadata": {},
     "output_type": "execute_result"
    }
   ],
   "source": [
    "type(range(10))"
   ]
  },
  {
   "cell_type": "markdown",
   "id": "e0e5d6a9",
   "metadata": {},
   "source": [
    "Но его можно привести к списку:"
   ]
  },
  {
   "cell_type": "code",
   "execution_count": 39,
   "id": "2a2fa049",
   "metadata": {},
   "outputs": [
    {
     "data": {
      "text/plain": [
       "[0, 1, 2, 3, 4, 5, 6, 7, 8, 9]"
      ]
     },
     "execution_count": 39,
     "metadata": {},
     "output_type": "execute_result"
    }
   ],
   "source": [
    "list(range(0, 10))"
   ]
  },
  {
   "cell_type": "markdown",
   "id": "f43cf0d0",
   "metadata": {},
   "source": [
    "## Как можно считать list из строки ввода "
   ]
  },
  {
   "cell_type": "code",
   "execution_count": 51,
   "id": "050b4292",
   "metadata": {},
   "outputs": [
    {
     "name": "stdout",
     "output_type": "stream",
     "text": [
      "4 2 3 1\n"
     ]
    },
    {
     "data": {
      "text/plain": [
       "[4, 2, 3, 1]"
      ]
     },
     "execution_count": 51,
     "metadata": {},
     "output_type": "execute_result"
    }
   ],
   "source": [
    "arr = list(map(int, input().split(\" \")))\n",
    "arr"
   ]
  },
  {
   "cell_type": "markdown",
   "id": "af4c4390",
   "metadata": {},
   "source": [
    "### Подробнее "
   ]
  },
  {
   "cell_type": "markdown",
   "id": "1e0c59d5",
   "metadata": {},
   "source": [
    "Получаем введённую строку:"
   ]
  },
  {
   "cell_type": "code",
   "execution_count": 45,
   "id": "fcd45bf1",
   "metadata": {},
   "outputs": [
    {
     "name": "stdout",
     "output_type": "stream",
     "text": [
      "4 2 3 1\n"
     ]
    }
   ],
   "source": [
    "s_input = input()"
   ]
  },
  {
   "cell_type": "markdown",
   "id": "5e22ddf1",
   "metadata": {},
   "source": [
    "Разбиваем её по пробелам - получаем список:"
   ]
  },
  {
   "cell_type": "code",
   "execution_count": 46,
   "id": "93027ee5",
   "metadata": {},
   "outputs": [
    {
     "data": {
      "text/plain": [
       "['4', '2', '3', '1']"
      ]
     },
     "execution_count": 46,
     "metadata": {},
     "output_type": "execute_result"
    }
   ],
   "source": [
    "s_input.split(\" \")"
   ]
  },
  {
   "cell_type": "markdown",
   "id": "04c93f38",
   "metadata": {},
   "source": [
    "Приводим каждый элемент списка к целому типу (сейчас это строки).\n",
    "\n",
    "Подробнее про функцию map: https://pyneng.readthedocs.io/ru/latest/book/10_useful_functions/map.html"
   ]
  },
  {
   "cell_type": "code",
   "execution_count": 47,
   "id": "379ea5c4",
   "metadata": {},
   "outputs": [
    {
     "data": {
      "text/plain": [
       "<map at 0x7d371e60c0d0>"
      ]
     },
     "execution_count": 47,
     "metadata": {},
     "output_type": "execute_result"
    }
   ],
   "source": [
    "map(int, s_input.split(\" \"))"
   ]
  },
  {
   "cell_type": "markdown",
   "id": "bbe395f9",
   "metadata": {},
   "source": [
    "`map` тоже генератор (как и `range`) - приводим к списку:"
   ]
  },
  {
   "cell_type": "code",
   "execution_count": 48,
   "id": "7012f7ec",
   "metadata": {},
   "outputs": [
    {
     "data": {
      "text/plain": [
       "[4, 2, 3, 1]"
      ]
     },
     "execution_count": 48,
     "metadata": {},
     "output_type": "execute_result"
    }
   ],
   "source": [
    "list(map(int, s_input.split(\" \")))"
   ]
  },
  {
   "cell_type": "markdown",
   "id": "ee7463c2",
   "metadata": {},
   "source": [
    "# Контесты"
   ]
  },
  {
   "cell_type": "markdown",
   "id": "4fffa6c6",
   "metadata": {},
   "source": [
    "https://github.com/hse-econ-data-science/dap_2024/tree/main/sem02_loops"
   ]
  }
 ],
 "metadata": {
  "kernelspec": {
   "display_name": "Python 3 (ipykernel)",
   "language": "python",
   "name": "python3"
  },
  "language_info": {
   "codemirror_mode": {
    "name": "ipython",
    "version": 3
   },
   "file_extension": ".py",
   "mimetype": "text/x-python",
   "name": "python",
   "nbconvert_exporter": "python",
   "pygments_lexer": "ipython3",
   "version": "3.10.12"
  }
 },
 "nbformat": 4,
 "nbformat_minor": 5
}
