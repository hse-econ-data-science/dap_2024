{
 "cells": [
  {
   "cell_type": "markdown",
   "id": "6788be26",
   "metadata": {},
   "source": [
    "## Дз на дом\n",
    "\n",
    "1. Реализовать факториал через рекурсию и через циклы for, while\n",
    "2. Посмотреть ролик про mypy (проверка кода на правильность с учетом аннотации типов)\n",
    "3. Посмотреть ролик про матрешку :)"
   ]
  },
  {
   "cell_type": "markdown",
   "id": "873b4770",
   "metadata": {},
   "source": [
    "# Программирование на Python \n",
    "\n",
    "# Функции\n",
    "\n",
    "\n",
    "*Автор: Паршина Анастасия, НИУ ВШЭ (tg: @aaparshina)*\n",
    "\n",
    "*Дополнила: Лика Капустина, НИУ ВШЭ (tg: @lika_kapustina)*\n",
    "\n",
    "## Содержание\n",
    "\n",
    "1. [О модулях и импорте функций](#par1)\n",
    "2. [Определение собственной функции](#par2)\n",
    "   1. [Определение функции через `def`](#par2.1)\n",
    "   2. [Пара слов про аннотации к функции](#par2.2)\n",
    "   3. [Аргументы функции](#par2.3)\n",
    "   4. [Глобальные и локальные переменные](#par2.4)\n",
    "3. [Анонимная функция](#par3)\n",
    "3. [Про собрата `map()` — `filter()`](#par4)\n",
    "4. [Дополнительные материалы](#parlast)"
   ]
  },
  {
   "cell_type": "markdown",
   "id": "3118e04e",
   "metadata": {},
   "source": [
    "## О модулях и импорте функций <a name=\"par1\"></a>\n",
    "\n",
    "На самом деле, с функциями мы уже работали. Например, импользовали встроенные функции типа `print()`, `len()`, `round()` (они еще подсвечиваются для нас зеленым). Также мы уже импортировали функции из модулей, и вот теперь подробнее разберемся о том, как это работает. \n",
    "\n",
    "Зачастую в модуль объединены сюжетно похожие функции, переменные и инструменты. Например, в модуле `math` хранится все для математических операций. Как узнать, какой модуль нам нужен? Загуглить. Это нормальная практика, никто и не требует от вас знать название всех модулей и функций в этих модулей. \n",
    "\n",
    "Для примера сейчас импортируем пару функций. Предположим, что нам нужно вычислить квадратный корень. "
   ]
  },
  {
   "cell_type": "code",
   "execution_count": 1,
   "id": "09543e6e",
   "metadata": {},
   "outputs": [],
   "source": [
    "import math  # обратились к модулю"
   ]
  },
  {
   "cell_type": "markdown",
   "id": "c3f7fad1",
   "metadata": {},
   "source": [
    "Если мы хотим использовать функции из модуля, то так нужно к нему обращаться:"
   ]
  },
  {
   "cell_type": "code",
   "execution_count": 2,
   "id": "21d76109",
   "metadata": {},
   "outputs": [
    {
     "data": {
      "text/plain": [
       "5.0"
      ]
     },
     "execution_count": 2,
     "metadata": {},
     "output_type": "execute_result"
    }
   ],
   "source": [
    "math.sqrt(25) # вызвали функцию"
   ]
  },
  {
   "cell_type": "markdown",
   "id": "386f81a2",
   "metadata": {},
   "source": [
    "Чтобы каждый раз так не делать, можно импортировать сразу необходимые функции (или вообще все):"
   ]
  },
  {
   "cell_type": "code",
   "execution_count": 3,
   "id": "0362c363",
   "metadata": {},
   "outputs": [],
   "source": [
    "# from math import *      # а так можно импортировать вообще все\n",
    "from math import sqrt, pi # импортировали только функцию sqrt и переменную с числом пи"
   ]
  },
  {
   "cell_type": "code",
   "execution_count": 4,
   "id": "30c5ad32",
   "metadata": {},
   "outputs": [
    {
     "data": {
      "text/plain": [
       "5.0"
      ]
     },
     "execution_count": 4,
     "metadata": {},
     "output_type": "execute_result"
    }
   ],
   "source": [
    "sqrt(25)"
   ]
  },
  {
   "cell_type": "code",
   "execution_count": 5,
   "id": "c03225d0",
   "metadata": {},
   "outputs": [
    {
     "data": {
      "text/plain": [
       "3.141592653589793"
      ]
     },
     "execution_count": 5,
     "metadata": {},
     "output_type": "execute_result"
    }
   ],
   "source": [
    "pi "
   ]
  },
  {
   "cell_type": "markdown",
   "id": "6aad5bdb",
   "metadata": {},
   "source": [
    "Также, если вдруг нужно сократить название модуля, то можно импортировать его под псевдонимом. Например при работе с API YouTube — `import googleapiclient.discovery as api` (сократили вот это все до просто `api`).\n",
    "\n",
    "Также мы можем посмотреть документацию к импортированной функции:"
   ]
  },
  {
   "cell_type": "code",
   "execution_count": 6,
   "id": "1e7f86b6",
   "metadata": {},
   "outputs": [
    {
     "name": "stdout",
     "output_type": "stream",
     "text": [
      "Help on built-in function sqrt in module math:\n",
      "\n",
      "sqrt(x, /)\n",
      "    Return the square root of x.\n",
      "\n"
     ]
    }
   ],
   "source": [
    "help(sqrt)"
   ]
  },
  {
   "cell_type": "markdown",
   "id": "c4e310f0",
   "metadata": {},
   "source": [
    "Обратите внимание, что мы видим при работе функции (по крайней мере пока):\n",
    "    \n",
    "   + у нее есть название (как бы очевидно это ни было) — `sqrt`\n",
    "   + мы ей что-то «скармливаем», то есть подаем в качестве аргумента — `25`\n",
    "   + и она нам что-то возвращает — `5.0`\n",
    "\n",
    "   + и можно также прописать документацию \n",
    "\n",
    "Нам ничего не мешает написать что-то такое же. "
   ]
  },
  {
   "cell_type": "markdown",
   "id": "c074b239",
   "metadata": {},
   "source": [
    "## Определение собственной функции <a name=\"par2\"></a>\n",
    "\n",
    "### Определение функции через `def` <a name=\"par2.1\"></a>\n",
    "\n",
    "Давайте сделаем функцию, которая возведет некое число в степень, которую мы хотим. Я намеренно назову ее `sqrt` и посмотрим, как оно будет работать с функцией, которую мы импортировали ранее. Но вообще к названиям функций применимы все те правила, которые применимы к названиям переменных. "
   ]
  },
  {
   "cell_type": "code",
   "execution_count": null,
   "id": "7df33cbb",
   "metadata": {},
   "outputs": [],
   "source": [
    "''\n",
    "\"\"\n",
    "'''\n",
    "asdf\n",
    "asdf\n",
    "adsf\n",
    "'''"
   ]
  },
  {
   "cell_type": "code",
   "execution_count": 1,
   "id": "cb5be1a8",
   "metadata": {},
   "outputs": [],
   "source": [
    "def sqrt(number, degree):\n",
    "    '''\n",
    "    number — число, которое возведется в степень degree\n",
    "    '''\n",
    "    return number ** degree"
   ]
  },
  {
   "cell_type": "code",
   "execution_count": 2,
   "id": "bb6d188d",
   "metadata": {},
   "outputs": [
    {
     "name": "stdout",
     "output_type": "stream",
     "text": [
      "Help on function sqrt in module __main__:\n",
      "\n",
      "sqrt(number, degree)\n",
      "    number — число, которое возведется в степень degree\n",
      "\n"
     ]
    }
   ],
   "source": [
    "help(sqrt)"
   ]
  },
  {
   "cell_type": "markdown",
   "id": "5d183e4e",
   "metadata": {},
   "source": [
    "Итак, у нас есть: \n",
    "+ название — `sqrt`\n",
    "+ два аргумента — number, degree\n",
    "+ строка документации\n",
    "+ возвращаемое значение — number ** degree\n",
    "\n",
    "Вроде бы должно работать. Но сначала проверим, работает ли функция, которую мы импортировали из модуля `math`:"
   ]
  },
  {
   "cell_type": "code",
   "execution_count": 3,
   "id": "b5220738",
   "metadata": {},
   "outputs": [
    {
     "ename": "TypeError",
     "evalue": "sqrt() missing 1 required positional argument: 'degree'",
     "output_type": "error",
     "traceback": [
      "\u001b[1;31m---------------------------------------------------------------------------\u001b[0m",
      "\u001b[1;31mTypeError\u001b[0m                                 Traceback (most recent call last)",
      "\u001b[1;32m~\\AppData\\Local\\Temp/ipykernel_2412/3140457483.py\u001b[0m in \u001b[0;36m<cell line: 1>\u001b[1;34m()\u001b[0m\n\u001b[1;32m----> 1\u001b[1;33m \u001b[0msqrt\u001b[0m\u001b[1;33m(\u001b[0m\u001b[1;36m25\u001b[0m\u001b[1;33m)\u001b[0m\u001b[1;33m\u001b[0m\u001b[1;33m\u001b[0m\u001b[0m\n\u001b[0m",
      "\u001b[1;31mTypeError\u001b[0m: sqrt() missing 1 required positional argument: 'degree'"
     ]
    }
   ],
   "source": [
    "sqrt(25)"
   ]
  },
  {
   "cell_type": "markdown",
   "id": "4336042e",
   "metadata": {},
   "source": [
    "Ошибка указывает на то, что отсутствует второй аргумент нашей функции. Делаем вывод, что, назвав функцию `sqrt`, мы забыли о той, которая берет квадратный корень. Работает все также, как и с переменными. "
   ]
  },
  {
   "cell_type": "code",
   "execution_count": 4,
   "id": "786b0ec7",
   "metadata": {},
   "outputs": [
    {
     "data": {
      "text/plain": [
       "256"
      ]
     },
     "execution_count": 4,
     "metadata": {},
     "output_type": "execute_result"
    }
   ],
   "source": [
    "sqrt(2, 8) # возвели 2 в 8 степень"
   ]
  },
  {
   "cell_type": "markdown",
   "id": "b5d941f6",
   "metadata": {},
   "source": [
    "Обратите внимание, что поменять местами аргументы можно, но тогда мы возведем 8 в степень 2.\n",
    "\n",
    "Либо, если мы знаем, как называются аргументы, то мы можем точно указать, какое значение принимает каждый."
   ]
  },
  {
   "cell_type": "code",
   "execution_count": 5,
   "id": "f37cb714",
   "metadata": {},
   "outputs": [
    {
     "data": {
      "text/plain": [
       "256"
      ]
     },
     "execution_count": 5,
     "metadata": {},
     "output_type": "execute_result"
    }
   ],
   "source": [
    "sqrt(degree = 8, number = 2) # возвели 2 в 8 степень"
   ]
  },
  {
   "cell_type": "markdown",
   "id": "be950e7d",
   "metadata": {},
   "source": [
    "Откуда узнать названия аргументов? Это прописывают в документации. К слову, у нашей функции она тоже есть:"
   ]
  },
  {
   "cell_type": "code",
   "execution_count": 11,
   "id": "4ec8ebd7",
   "metadata": {},
   "outputs": [
    {
     "name": "stdout",
     "output_type": "stream",
     "text": [
      "Help on function sqrt in module __main__:\n",
      "\n",
      "sqrt(number, degree)\n",
      "    number — число, которое возведется в степень degree\n",
      "\n"
     ]
    }
   ],
   "source": [
    "help(sqrt)"
   ]
  },
  {
   "cell_type": "markdown",
   "id": "146ae9c9",
   "metadata": {},
   "source": [
    "Но как проконтролировать, что нашей функции скормлено именно число? "
   ]
  },
  {
   "cell_type": "code",
   "execution_count": 12,
   "id": "055108c4",
   "metadata": {},
   "outputs": [
    {
     "ename": "TypeError",
     "evalue": "unsupported operand type(s) for ** or pow(): 'str' and 'int'",
     "output_type": "error",
     "traceback": [
      "\u001b[0;31m---------------------------------------------------------------------------\u001b[0m",
      "\u001b[0;31mTypeError\u001b[0m                                 Traceback (most recent call last)",
      "Input \u001b[0;32mIn [12]\u001b[0m, in \u001b[0;36m<cell line: 1>\u001b[0;34m()\u001b[0m\n\u001b[0;32m----> 1\u001b[0m \u001b[43msqrt\u001b[49m\u001b[43m(\u001b[49m\u001b[38;5;124;43m'\u001b[39;49m\u001b[38;5;124;43m2\u001b[39;49m\u001b[38;5;124;43m'\u001b[39;49m\u001b[43m,\u001b[49m\u001b[43m \u001b[49m\u001b[38;5;241;43m8\u001b[39;49m\u001b[43m)\u001b[49m\n",
      "Input \u001b[0;32mIn [7]\u001b[0m, in \u001b[0;36msqrt\u001b[0;34m(number, degree)\u001b[0m\n\u001b[1;32m      1\u001b[0m \u001b[38;5;28;01mdef\u001b[39;00m \u001b[38;5;21msqrt\u001b[39m(number, degree):\n\u001b[1;32m      2\u001b[0m     \u001b[38;5;124;03m'''\u001b[39;00m\n\u001b[1;32m      3\u001b[0m \u001b[38;5;124;03m    number — число, которое возведется в степень degree\u001b[39;00m\n\u001b[1;32m      4\u001b[0m \u001b[38;5;124;03m    '''\u001b[39;00m\n\u001b[0;32m----> 5\u001b[0m     \u001b[38;5;28;01mreturn\u001b[39;00m \u001b[43mnumber\u001b[49m\u001b[43m \u001b[49m\u001b[38;5;241;43m*\u001b[39;49m\u001b[38;5;241;43m*\u001b[39;49m\u001b[43m \u001b[49m\u001b[43mdegree\u001b[49m\n",
      "\u001b[0;31mTypeError\u001b[0m: unsupported operand type(s) for ** or pow(): 'str' and 'int'"
     ]
    }
   ],
   "source": [
    "sqrt('2', 8)"
   ]
  },
  {
   "cell_type": "markdown",
   "id": "8538292e",
   "metadata": {},
   "source": [
    "Обратите внимание, на каком моменте возникла ошибка — функция съела все, что мы ей дали, но выдала ошибку, когда попыталась возвести строку в степень.\n",
    "\n",
    "Конечно, можно проверять тип данных через условную конструкцию (обратите внимание на два `return`, подумайте, как они работают):"
   ]
  },
  {
   "cell_type": "code",
   "execution_count": 6,
   "id": "adb5ae98",
   "metadata": {},
   "outputs": [
    {
     "data": {
      "text/plain": [
       "True"
      ]
     },
     "execution_count": 6,
     "metadata": {},
     "output_type": "execute_result"
    }
   ],
   "source": [
    "number = 2\n",
    "type(number) is int"
   ]
  },
  {
   "cell_type": "code",
   "execution_count": 10,
   "id": "171954e2",
   "metadata": {},
   "outputs": [],
   "source": [
    "def sqrt(number, degree):\n",
    "    '''\n",
    "    number — число, которое возведется в степень degree\n",
    "    '''\n",
    "    checker = False\n",
    "    if type(number) is int and type(degree) is int: # тут еще и float быть может, но пока опустим это\n",
    "        checker = True\n",
    "    return number ** degree if checker else 'Неправильный тип данных'"
   ]
  },
  {
   "cell_type": "code",
   "execution_count": 8,
   "id": "9ea61c84",
   "metadata": {},
   "outputs": [
    {
     "name": "stdout",
     "output_type": "stream",
     "text": [
      "10\n"
     ]
    },
    {
     "data": {
      "text/plain": [
       "1"
      ]
     },
     "execution_count": 8,
     "metadata": {},
     "output_type": "execute_result"
    }
   ],
   "source": [
    "num = int(input())\n",
    "\n",
    "1 if num > 5 else 0"
   ]
  },
  {
   "cell_type": "code",
   "execution_count": 13,
   "id": "7232b167",
   "metadata": {},
   "outputs": [
    {
     "data": {
      "text/plain": [
       "'Неправильный тип данных'"
      ]
     },
     "execution_count": 13,
     "metadata": {},
     "output_type": "execute_result"
    }
   ],
   "source": [
    "sqrt('2', 8)"
   ]
  },
  {
   "cell_type": "markdown",
   "id": "fb7ec84a",
   "metadata": {},
   "source": [
    "Но, это очень длинно. Можно просто заранее указать, какой тип данных ожидается у функции на входе и какой тип данных она выдает на выходе.\n",
    "\n",
    "### Пара слов про аннотации к функции <a name=\"par2.2\"></a>\n",
    "\n",
    "Сейчас речь пойдет о так называемых аннотациях, которые <b>не</b> являются обязательными при создании функции. Фактически мы вроде как говорим: аргументы являются целыми числами, вывод является целым числом. Это не так работает, дочитайте до конца!!!"
   ]
  },
  {
   "cell_type": "code",
   "execution_count": 16,
   "id": "2b18d5aa",
   "metadata": {},
   "outputs": [],
   "source": [
    "number = 5\n",
    "number = '5'"
   ]
  },
  {
   "cell_type": "code",
   "execution_count": 14,
   "id": "aa7d1a0d",
   "metadata": {},
   "outputs": [],
   "source": [
    "def sqrt(number: int, degree: int) -> int:\n",
    "    '''\n",
    "    number — число, которое возведется в степень degree\n",
    "    '''\n",
    "    return number ** degree"
   ]
  },
  {
   "cell_type": "markdown",
   "id": "98909b58",
   "metadata": {},
   "source": [
    "Казалось бы — теперь функция не должна работать вообще, но:"
   ]
  },
  {
   "cell_type": "code",
   "execution_count": 15,
   "id": "8088c235",
   "metadata": {},
   "outputs": [
    {
     "ename": "TypeError",
     "evalue": "unsupported operand type(s) for ** or pow(): 'str' and 'int'",
     "output_type": "error",
     "traceback": [
      "\u001b[1;31m---------------------------------------------------------------------------\u001b[0m",
      "\u001b[1;31mTypeError\u001b[0m                                 Traceback (most recent call last)",
      "\u001b[1;32m~\\AppData\\Local\\Temp/ipykernel_2412/697310558.py\u001b[0m in \u001b[0;36m<cell line: 1>\u001b[1;34m()\u001b[0m\n\u001b[1;32m----> 1\u001b[1;33m \u001b[0msqrt\u001b[0m\u001b[1;33m(\u001b[0m\u001b[1;34m'2'\u001b[0m\u001b[1;33m,\u001b[0m \u001b[1;36m8\u001b[0m\u001b[1;33m)\u001b[0m\u001b[1;33m\u001b[0m\u001b[1;33m\u001b[0m\u001b[0m\n\u001b[0m",
      "\u001b[1;32m~\\AppData\\Local\\Temp/ipykernel_2412/3828974132.py\u001b[0m in \u001b[0;36msqrt\u001b[1;34m(number, degree)\u001b[0m\n\u001b[0;32m      3\u001b[0m     \u001b[0mnumber\u001b[0m\u001b[0;31m \u001b[0m\u001b[0;31m—\u001b[0m \u001b[0mчисло\u001b[0m\u001b[1;33m,\u001b[0m \u001b[0mкоторое\u001b[0m \u001b[0mвозведется\u001b[0m \u001b[0mв\u001b[0m \u001b[0mстепень\u001b[0m \u001b[0mdegree\u001b[0m\u001b[1;33m\u001b[0m\u001b[1;33m\u001b[0m\u001b[0m\n\u001b[0;32m      4\u001b[0m     '''\n\u001b[1;32m----> 5\u001b[1;33m     \u001b[1;32mreturn\u001b[0m \u001b[0mnumber\u001b[0m \u001b[1;33m**\u001b[0m \u001b[0mdegree\u001b[0m\u001b[1;33m\u001b[0m\u001b[1;33m\u001b[0m\u001b[0m\n\u001b[0m",
      "\u001b[1;31mTypeError\u001b[0m: unsupported operand type(s) for ** or pow(): 'str' and 'int'"
     ]
    }
   ],
   "source": [
    "sqrt('2', 8)"
   ]
  },
  {
   "cell_type": "markdown",
   "id": "b4f1f907",
   "metadata": {},
   "source": [
    "Аннотация никак не влияет на работу функции, но позволяет сторонним инструментам проверки кода отлавливать ошибки (более подробно описано в статье из Доп. материалов)."
   ]
  },
  {
   "cell_type": "markdown",
   "id": "b4fdf61f",
   "metadata": {},
   "source": [
    "### Аргументы функции <a name=\"par2.3\"></a>\n",
    "\n",
    "Об этом мы уже начали говорить. Добавим лишь то, что при объявлении функции можно выставить какое-то дефолтное значение аргумента, которое будет подставяться, если мы ничего не указали."
   ]
  },
  {
   "cell_type": "code",
   "execution_count": 17,
   "id": "1676d777",
   "metadata": {},
   "outputs": [],
   "source": [
    "def get_degree(number, degree = 2):\n",
    "    '''\n",
    "    number — число, которое возведется в степень degree\n",
    "    '''\n",
    "    return number ** degree"
   ]
  },
  {
   "cell_type": "markdown",
   "id": "7b1f695b",
   "metadata": {},
   "source": [
    "Например, сейчас, если я вызову функцию, не подставив второй аргумент, то по умолчанию вместо него будет стоять 2."
   ]
  },
  {
   "cell_type": "code",
   "execution_count": 18,
   "id": "00e5a381",
   "metadata": {},
   "outputs": [
    {
     "data": {
      "text/plain": [
       "25"
      ]
     },
     "execution_count": 18,
     "metadata": {},
     "output_type": "execute_result"
    }
   ],
   "source": [
    "get_degree(5)"
   ]
  },
  {
   "cell_type": "code",
   "execution_count": 19,
   "id": "fa3b9919",
   "metadata": {},
   "outputs": [
    {
     "data": {
      "text/plain": [
       "125"
      ]
     },
     "execution_count": 19,
     "metadata": {},
     "output_type": "execute_result"
    }
   ],
   "source": [
    "get_degree(5, 3)"
   ]
  },
  {
   "cell_type": "markdown",
   "id": "f5d9198c",
   "metadata": {},
   "source": [
    "Помимо таких нюансов, есть еще возможность передавать функции неограниченное число *неименованных* аргументов (тут нам поможет знак `*`)."
   ]
  },
  {
   "cell_type": "code",
   "execution_count": 20,
   "id": "d5ef33ee",
   "metadata": {},
   "outputs": [
    {
     "name": "stdout",
     "output_type": "stream",
     "text": [
      "(1, 9, 'qwerty', 8, 2, 1, 10, 111, 10022)\n"
     ]
    }
   ],
   "source": [
    "def our_sum(*args): # args = arguments\n",
    "    return args\n",
    "\n",
    "print(our_sum(1, 9, 'qwerty', 8, 2, 1, 10, 111, 10022))"
   ]
  },
  {
   "cell_type": "markdown",
   "id": "3f91a71c",
   "metadata": {},
   "source": [
    "В итоге все наши аргументы преобразовались в один — кортеж, итерируемый объект, с которым дальше можно делать все, что хотим."
   ]
  },
  {
   "cell_type": "code",
   "execution_count": 23,
   "id": "94a64d9c",
   "metadata": {},
   "outputs": [
    {
     "ename": "TypeError",
     "evalue": "sum() takes at most 2 arguments (5 given)",
     "output_type": "error",
     "traceback": [
      "\u001b[1;31m---------------------------------------------------------------------------\u001b[0m",
      "\u001b[1;31mTypeError\u001b[0m                                 Traceback (most recent call last)",
      "\u001b[1;32m~\\AppData\\Local\\Temp/ipykernel_2412/175621936.py\u001b[0m in \u001b[0;36m<cell line: 2>\u001b[1;34m()\u001b[0m\n\u001b[0;32m      1\u001b[0m \u001b[0msum\u001b[0m\u001b[1;33m(\u001b[0m\u001b[1;33m[\u001b[0m\u001b[1;36m2\u001b[0m\u001b[1;33m,\u001b[0m\u001b[1;36m3\u001b[0m\u001b[1;33m,\u001b[0m\u001b[1;36m4\u001b[0m\u001b[1;33m,\u001b[0m\u001b[1;36m5\u001b[0m\u001b[1;33m]\u001b[0m\u001b[1;33m)\u001b[0m\u001b[1;33m\u001b[0m\u001b[1;33m\u001b[0m\u001b[0m\n\u001b[1;32m----> 2\u001b[1;33m \u001b[0msum\u001b[0m\u001b[1;33m(\u001b[0m\u001b[1;36m4\u001b[0m\u001b[1;33m,\u001b[0m \u001b[1;36m5\u001b[0m\u001b[1;33m,\u001b[0m \u001b[1;36m6\u001b[0m\u001b[1;33m,\u001b[0m \u001b[1;36m10\u001b[0m\u001b[1;33m,\u001b[0m \u001b[1;36m12\u001b[0m\u001b[1;33m)\u001b[0m\u001b[1;33m\u001b[0m\u001b[1;33m\u001b[0m\u001b[0m\n\u001b[0m",
      "\u001b[1;31mTypeError\u001b[0m: sum() takes at most 2 arguments (5 given)"
     ]
    }
   ],
   "source": [
    "sum([2,3,4,5])\n",
    "sum(4, 5, 6, 10, 12)"
   ]
  },
  {
   "cell_type": "code",
   "execution_count": 26,
   "id": "d333bf81",
   "metadata": {},
   "outputs": [
    {
     "ename": "TypeError",
     "evalue": "unsupported operand type(s) for +=: 'int' and 'list'",
     "output_type": "error",
     "traceback": [
      "\u001b[1;31m---------------------------------------------------------------------------\u001b[0m",
      "\u001b[1;31mTypeError\u001b[0m                                 Traceback (most recent call last)",
      "\u001b[1;32m~\\AppData\\Local\\Temp/ipykernel_2412/3986544010.py\u001b[0m in \u001b[0;36m<cell line: 9>\u001b[1;34m()\u001b[0m\n\u001b[0;32m      7\u001b[0m     \u001b[1;32mreturn\u001b[0m \u001b[0msumma\u001b[0m\u001b[1;33m\u001b[0m\u001b[1;33m\u001b[0m\u001b[0m\n\u001b[0;32m      8\u001b[0m \u001b[1;33m\u001b[0m\u001b[0m\n\u001b[1;32m----> 9\u001b[1;33m \u001b[0mprint\u001b[0m\u001b[1;33m(\u001b[0m\u001b[0mour_sum\u001b[0m\u001b[1;33m(\u001b[0m\u001b[1;36m1\u001b[0m\u001b[1;33m,\u001b[0m \u001b[1;36m9\u001b[0m\u001b[1;33m,\u001b[0m \u001b[1;36m3\u001b[0m\u001b[1;33m,\u001b[0m \u001b[1;36m8\u001b[0m\u001b[1;33m,\u001b[0m \u001b[1;36m10\u001b[0m\u001b[1;33m,\u001b[0m \u001b[1;36m11\u001b[0m\u001b[1;33m,\u001b[0m \u001b[1;36m12\u001b[0m\u001b[1;33m,\u001b[0m \u001b[1;36m13\u001b[0m\u001b[1;33m,\u001b[0m \u001b[1;36m40\u001b[0m\u001b[1;33m,\u001b[0m \u001b[1;36m31\u001b[0m\u001b[1;33m,\u001b[0m \u001b[1;33m[\u001b[0m\u001b[1;36m2\u001b[0m\u001b[1;33m,\u001b[0m\u001b[1;36m3\u001b[0m\u001b[1;33m,\u001b[0m\u001b[1;36m4\u001b[0m\u001b[1;33m]\u001b[0m\u001b[1;33m)\u001b[0m\u001b[1;33m)\u001b[0m\u001b[1;33m\u001b[0m\u001b[1;33m\u001b[0m\u001b[0m\n\u001b[0m",
      "\u001b[1;32m~\\AppData\\Local\\Temp/ipykernel_2412/3986544010.py\u001b[0m in \u001b[0;36mour_sum\u001b[1;34m(*args)\u001b[0m\n\u001b[0;32m      3\u001b[0m \u001b[1;33m\u001b[0m\u001b[0m\n\u001b[0;32m      4\u001b[0m     \u001b[1;32mfor\u001b[0m \u001b[0mvar\u001b[0m \u001b[1;32min\u001b[0m \u001b[0margs\u001b[0m\u001b[1;33m:\u001b[0m\u001b[1;33m\u001b[0m\u001b[1;33m\u001b[0m\u001b[0m\n\u001b[1;32m----> 5\u001b[1;33m         \u001b[0msumma\u001b[0m \u001b[1;33m+=\u001b[0m \u001b[0mvar\u001b[0m\u001b[1;33m\u001b[0m\u001b[1;33m\u001b[0m\u001b[0m\n\u001b[0m\u001b[0;32m      6\u001b[0m \u001b[1;33m\u001b[0m\u001b[0m\n\u001b[0;32m      7\u001b[0m     \u001b[1;32mreturn\u001b[0m \u001b[0msumma\u001b[0m\u001b[1;33m\u001b[0m\u001b[1;33m\u001b[0m\u001b[0m\n",
      "\u001b[1;31mTypeError\u001b[0m: unsupported operand type(s) for +=: 'int' and 'list'"
     ]
    }
   ],
   "source": [
    "def our_sum(*args): # args = arguments\n",
    "    summa = 0\n",
    "    \n",
    "#     if var is list:\n",
    "#         for num in var:\n",
    "#             s...\n",
    "    \n",
    "    for var in args:\n",
    "        summa += var\n",
    "        \n",
    "    return summa\n",
    "\n",
    "print(our_sum(1, 9, 3, 8, 10, 11, 12, 13, 40, 31))"
   ]
  },
  {
   "cell_type": "markdown",
   "id": "8da0adf9",
   "metadata": {},
   "source": [
    "Именнованные аргументы также можно передать, но для этого мы используем уже два знака `**`."
   ]
  },
  {
   "cell_type": "code",
   "execution_count": 32,
   "id": "a0cfa4d4",
   "metadata": {},
   "outputs": [
    {
     "name": "stdout",
     "output_type": "stream",
     "text": [
      "name — Anastasia\n",
      "hello — 123\n",
      "Добро пожаловать, Anastasia 123\n"
     ]
    }
   ],
   "source": [
    "def welcome(**kwargs): # kwargs = keyword arguments\n",
    "    '''\n",
    "    Введите либо имя, либо фамилию, либо имя + фамилия, либо ФИО\n",
    "    '''\n",
    "    \n",
    "    for key, value in kwargs.items(): # (key, value)\n",
    "        print(f'{key} — {value}')\n",
    "    \n",
    "    print(f'Добро пожаловать, {\" \".join(kwargs.values())}') # (Anastis, Parshina)\n",
    "    \n",
    "welcome(name = 'Anastasia', hello = '123')"
   ]
  },
  {
   "cell_type": "code",
   "execution_count": 45,
   "id": "dfba2886",
   "metadata": {},
   "outputs": [],
   "source": [
    "x = 5\n",
    "\n",
    "def my_func(x: int) -> int:\n",
    "    print(5)\n",
    "#     return(x + 1)\n",
    "\n",
    "result = None"
   ]
  },
  {
   "cell_type": "code",
   "execution_count": null,
   "id": "3cb5ac05",
   "metadata": {},
   "outputs": [],
   "source": [
    "None"
   ]
  },
  {
   "cell_type": "code",
   "execution_count": 44,
   "id": "b8b918e1",
   "metadata": {},
   "outputs": [
    {
     "data": {
      "text/plain": [
       "NoneType"
      ]
     },
     "execution_count": 44,
     "metadata": {},
     "output_type": "execute_result"
    }
   ],
   "source": [
    "type(result)"
   ]
  },
  {
   "cell_type": "code",
   "execution_count": 42,
   "id": "eefe530b",
   "metadata": {},
   "outputs": [
    {
     "ename": "TypeError",
     "evalue": "unsupported operand type(s) for +=: 'NoneType' and 'int'",
     "output_type": "error",
     "traceback": [
      "\u001b[1;31m---------------------------------------------------------------------------\u001b[0m",
      "\u001b[1;31mTypeError\u001b[0m                                 Traceback (most recent call last)",
      "\u001b[1;32m~\\AppData\\Local\\Temp/ipykernel_2412/3853369958.py\u001b[0m in \u001b[0;36m<cell line: 1>\u001b[1;34m()\u001b[0m\n\u001b[1;32m----> 1\u001b[1;33m \u001b[0mresult\u001b[0m \u001b[1;33m+=\u001b[0m \u001b[1;36m2\u001b[0m\u001b[1;33m\u001b[0m\u001b[1;33m\u001b[0m\u001b[0m\n\u001b[0m\u001b[0;32m      2\u001b[0m \u001b[0mprint\u001b[0m\u001b[1;33m(\u001b[0m\u001b[0mresult\u001b[0m\u001b[1;33m)\u001b[0m\u001b[1;33m\u001b[0m\u001b[1;33m\u001b[0m\u001b[0m\n",
      "\u001b[1;31mTypeError\u001b[0m: unsupported operand type(s) for +=: 'NoneType' and 'int'"
     ]
    }
   ],
   "source": [
    "result += 2\n",
    "print(result)"
   ]
  },
  {
   "cell_type": "code",
   "execution_count": null,
   "id": "ca87d67f",
   "metadata": {},
   "outputs": [],
   "source": [
    "input()\n",
    "input()\n",
    "{}\n",
    "welcome()"
   ]
  },
  {
   "cell_type": "code",
   "execution_count": null,
   "id": "8b8b55a3",
   "metadata": {},
   "outputs": [],
   "source": [
    "print()"
   ]
  },
  {
   "cell_type": "code",
   "execution_count": 27,
   "id": "df5be56c",
   "metadata": {},
   "outputs": [
    {
     "data": {
      "text/plain": [
       "{'name': 'asdfasf', 'surname': 'ablalblba'}"
      ]
     },
     "execution_count": 27,
     "metadata": {},
     "output_type": "execute_result"
    }
   ],
   "source": [
    "dict(name='asdfasf', surname='ablalblba')"
   ]
  },
  {
   "cell_type": "markdown",
   "id": "ea3e5305",
   "metadata": {},
   "source": [
    "Обратите внимание, что мы написали функцию, которая ничего не возвращает, а только печатает. Такие функции тоже бывают, как, например, бывают и те, которым не передаются какие либо аргументы. Чем больше вы с ними работаете и пишете свои собственные функции, тем больше узнаете!"
   ]
  },
  {
   "cell_type": "markdown",
   "id": "074a553e",
   "metadata": {},
   "source": [
    "<center><b><font size=4>Задача №1</font></b></center>\n",
    "\n",
    "**Напишите три функции и проаннотируйте переменные, которые они принимают на вход:**\n",
    "\n",
    "**Функция 1. Создайте функцию `return_gpa()`**, которая принимает на вход последовательность с оценками студента по дисциплине и возвращает его средний балл.\n",
    "\n",
    "Пример работы:\n",
    "```\n",
    "print(return_gpa((10, 5, 0))) # 5.0\n",
    "print(return_gpa((10, 9, 9, 8, 10))) # 9.2\n",
    "print(return_gpa((5, 5, 6, 10))) # 6.5\n",
    "```\n",
    "\n",
    "**Функция 2. Создайте функцию `return_last_name()`**, которая должна принимать на ход ФИО студента в формате `Фамилия Имя Отчество` и возвращать его фамилию.\n",
    "\n",
    "Пример работы:\n",
    "```\n",
    "print(return_last_name('Музыка Кирилл Дмитриевич') # Музыка\n",
    "print(return_last_name('Паршина Анастасия Алексеевна') # Паршина\n",
    "print(return_last_name('Капустина Лика Владимировна') # Капустина\n",
    "```\n",
    "\n",
    "**Функция 3. Создайте функцию `return_only_digits()`**, которая должна принимать на вход номер телефона в любом формате (например, `8-800-555-35-35` или `8(800)555-35-35`) и возвращать только цифры. \n",
    "\n",
    "Пример работы:\n",
    "```\n",
    "print(return_only_digits('8-800-555-35-35')) # 88005553535\n",
    "print(return_only_digits('8(800)555-35-35')) # 88005553535\n",
    "print(return_only_digits('+7-(800)-555-35-35-')) # 88005553535\n",
    "```"
   ]
  },
  {
   "cell_type": "code",
   "execution_count": 115,
   "id": "20201c94",
   "metadata": {},
   "outputs": [
    {
     "data": {
      "text/plain": [
       "6.5"
      ]
     },
     "execution_count": 115,
     "metadata": {},
     "output_type": "execute_result"
    }
   ],
   "source": [
    "def return_gpa(*tuple_of_scores: tuple[int]) -> float:\n",
    "    '''\n",
    "    Функция, которая возвращает средний балл\n",
    "    '''\n",
    "    return (sum(tuple_of_scores) / len(tuple_of_scores))\n",
    "\n",
    "return_gpa(10, 5, 0, 11)"
   ]
  },
  {
   "cell_type": "code",
   "execution_count": 127,
   "id": "d714ed78",
   "metadata": {},
   "outputs": [
    {
     "data": {
      "text/plain": [
       "'Музыка'"
      ]
     },
     "execution_count": 127,
     "metadata": {},
     "output_type": "execute_result"
    }
   ],
   "source": [
    "def return_last_name(**kwargs) -> str:\n",
    "    for value in kwargs.values():\n",
    "        return value\n",
    "        \n",
    "return_last_name(asdf='Музыка', qwe='asdffsd', zxcv='anonim')"
   ]
  },
  {
   "cell_type": "code",
   "execution_count": 128,
   "id": "d099113a",
   "metadata": {},
   "outputs": [
    {
     "data": {
      "text/plain": [
       "'Музыка'"
      ]
     },
     "execution_count": 128,
     "metadata": {},
     "output_type": "execute_result"
    }
   ],
   "source": [
    "def return_last_name(my_str: str) -> str:\n",
    "    return my_str.split(' ')[0]\n",
    "\n",
    "return_last_name('Музыка Кирилл Дмитриевич')"
   ]
  },
  {
   "cell_type": "code",
   "execution_count": 131,
   "id": "98eb57be",
   "metadata": {},
   "outputs": [],
   "source": [
    "def return_only_digits(phone_number: str) -> int:\n",
    "    answer_list = []\n",
    "    for charachr in phone_number:\n",
    "        if charachr.isdigit():\n",
    "            answer_list.append(charachr)\n",
    "    return ''.join(answer_list)"
   ]
  },
  {
   "cell_type": "code",
   "execution_count": null,
   "id": "6699ebe4",
   "metadata": {},
   "outputs": [],
   "source": [
    "try int(charach):\n",
    "    lst.append(int(chararch))\n",
    "except:\n",
    "    asdfasdf"
   ]
  },
  {
   "cell_type": "code",
   "execution_count": 133,
   "id": "87570c56",
   "metadata": {},
   "outputs": [
    {
     "data": {
      "text/plain": [
       "'78005553535'"
      ]
     },
     "execution_count": 133,
     "metadata": {},
     "output_type": "execute_result"
    }
   ],
   "source": [
    "return_only_digits('+7-(800)-555-35-35-')"
   ]
  },
  {
   "cell_type": "code",
   "execution_count": 130,
   "id": "ac11874d",
   "metadata": {},
   "outputs": [
    {
     "data": {
      "text/plain": [
       "True"
      ]
     },
     "execution_count": 130,
     "metadata": {},
     "output_type": "execute_result"
    }
   ],
   "source": [
    "'8'.isdigit()"
   ]
  },
  {
   "cell_type": "code",
   "execution_count": 26,
   "id": "53733e7a",
   "metadata": {},
   "outputs": [],
   "source": [
    "# YOUR CODE HERE"
   ]
  },
  {
   "cell_type": "markdown",
   "id": "30f4e339",
   "metadata": {},
   "source": [
    "### Глобальные и локальные переменные <a name=\"par2.4\"></a>\n",
    "\n",
    "Простыми словами: локальные переменные — это те, которые создаются внутри функции. "
   ]
  },
  {
   "cell_type": "code",
   "execution_count": 49,
   "id": "c8ee7018",
   "metadata": {},
   "outputs": [
    {
     "name": "stdout",
     "output_type": "stream",
     "text": [
      "{'__name__': '__main__', '__doc__': 'Automatically created module for IPython interactive environment', '__package__': None, '__loader__': None, '__spec__': None, '__builtin__': <module 'builtins' (built-in)>, '__builtins__': <module 'builtins' (built-in)>, '_ih': ['', \"def sqrt(number, degree):\\n    '''\\n    number — число, которое возведется в степень degree\\n    '''\\n    return number ** degree\", 'help(sqrt)', 'sqrt(25)', 'sqrt(2, 8) # возвели 2 в 8 степень', 'sqrt(degree = 8, number = 2) # возвели 2 в 8 степень', 'number = 2\\ntype(number) is int', 'num = int(input())\\n\\n1 if num > 5 else 0', 'num = int(input())\\n\\n1 if num > 5 else 0', \"def sqrt(number, degree):\\n    '''\\n    number — число, которое возведется в степень degree\\n    '''\\n    checker = False\\n    if type(number) is int and type(degree) is int: # тут еще и float быть может, но пока опустим это\\n        checker = True\\n    return number ** degree if checker else 'Неправильный тип данных'\", \"def sqrt(number, degree):\\n    '''\\n    number — число, которое возведется в степень degree\\n    '''\\n    checker = False\\n    if type(number) is int and type(degree) is int: # тут еще и float быть может, но пока опустим это\\n        checker = True\\n    return number ** degree if checker else 'Неправильный тип данных'\", \"sqrt('2', 8)\", 'sqrt(2, 8)', \"sqrt('2', 8)\", \"def sqrt(number: int, degree: int) -> int:\\n    '''\\n    number — число, которое возведется в степень degree\\n    '''\\n    return number ** degree\", \"sqrt('2', 8)\", \"number = 5\\nnumber = '5'\", \"def get_degree(number, degree = 2):\\n    '''\\n    number — число, которое возведется в степень degree\\n    '''\\n    return number ** degree\", 'get_degree(5)', 'get_degree(5, 3)', \"def our_sum(*args): # args = arguments\\n    return args\\n\\nprint(our_sum(1, 9, 'qwerty', 8, 2, 1, 10, 111, 10022))\", 'sum(2, 3, 4)', 'sum([2,3,4,5])', 'sum([2,3,4,5])\\nsum(4, 5, 6, 10, 12)', 'def our_sum(*args): # args = arguments\\n    summa = 0\\n    \\n    for var in args:\\n        summa += var\\n        \\n    return summa\\n\\nprint(our_sum(1, 9, 3, 8))', 'def our_sum(*args): # args = arguments\\n    summa = 0\\n    \\n    for var in args:\\n        summa += var\\n        \\n    return summa\\n\\nprint(our_sum(1, 9, 3, 8, 10, 11, 12, 13, 40, 31))', 'def our_sum(*args): # args = arguments\\n    summa = 0\\n    \\n    for var in args:\\n        summa += var\\n        \\n    return summa\\n\\nprint(our_sum(1, 9, 3, 8, 10, 11, 12, 13, 40, 31, [2,3,4]))', \"dict(name='asdfasf', surname='ablalblba')\", 'def welcome(**kwargs): # kwargs = keyword arguments\\n    \\n    for key, value in kwargs.items(): # (key, value)\\n        print(f\\'{key} — {value}\\')\\n    \\n    print(f\\'Добро пожаловать, {\" \".join(kwargs.values())}\\')\\n    \\nwelcome(name = \\'Anastasia\\', surname = \\'Parshina\\')', 'def welcome(**kwargs): # kwargs = keyword arguments\\n    \\'\\'\\'\\n    Введите либо имя, либо фамилию, либо имя + фамилия, либо ФИО\\n    \\'\\'\\'\\n    \\n    for key, value in kwargs.items(): # (key, value)\\n        print(f\\'{key} — {value}\\')\\n    \\n    print(f\\'Добро пожаловать, {\" \".join(kwargs.values())}\\') # (Anastis, Parshina)\\n    \\nwelcome(name = \\'Anastasia\\', surname = \\'Parshina\\', middle_name = \\'asdfs\\')', 'def welcome(**kwargs): # kwargs = keyword arguments\\n    \\'\\'\\'\\n    Введите либо имя, либо фамилию, либо имя + фамилия, либо ФИО\\n    \\'\\'\\'\\n    \\n    for key, value in kwargs.items(): # (key, value)\\n        print(f\\'{key} — {value}\\')\\n    \\n    print(f\\'Добро пожаловать, {\" \".join(kwargs.values())}\\') # (Anastis, Parshina)\\n    \\nwelcome(name = \\'Anastasia\\')', 'def welcome(**kwargs): # kwargs = keyword arguments\\n    \\'\\'\\'\\n    Введите либо имя, либо фамилию, либо имя + фамилия, либо ФИО\\n    \\'\\'\\'\\n    \\n    for key, value in kwargs.items(): # (key, value)\\n        print(f\\'{key} — {value}\\')\\n    \\n    print(f\\'Добро пожаловать, {\" \".join(kwargs.values())}\\') # (Anastis, Parshina)\\n    \\nwelcome(name = \\'Anastasia\\', hello = 123)', 'def welcome(**kwargs): # kwargs = keyword arguments\\n    \\'\\'\\'\\n    Введите либо имя, либо фамилию, либо имя + фамилия, либо ФИО\\n    \\'\\'\\'\\n    \\n    for key, value in kwargs.items(): # (key, value)\\n        print(f\\'{key} — {value}\\')\\n    \\n    print(f\\'Добро пожаловать, {\" \".join(kwargs.values())}\\') # (Anastis, Parshina)\\n    \\nwelcome(name = \\'Anastasia\\', hello = \\'123\\')', 'def my_func(x: int) -> int | None:\\n    print(x)\\nmy_func(x)', 'def my_func(x: int) -> int:\\n    print(x)\\nmy_func(x)', 'x=5\\ndef my_func(x: int) -> int:\\n    print(x)\\nmy_func(x)', 'x = 5\\n\\ndef my_func(x: int) -> int:\\n#     print(x)\\n    return(x)\\n\\nmy_func(x)', 'x = 5\\n\\ndef my_func(x: int) -> int:\\n#     print(x)\\n    return(x)\\n\\nresult = my_func(x)', 'print(result)', 'result += 2\\nprint(result)', 'x = 5\\n\\ndef my_func(x: int) -> int:\\n#     print(x)\\n    return(x)\\n\\nresult = my_func(x)', 'x = 5\\n\\ndef my_func(x: int) -> int:\\n    print(x)\\n#     return(x)\\n\\nresult = my_func(x)', 'result += 2\\nprint(result)', 'print(result)', 'type(result)', 'x = 5\\n\\ndef my_func(x: int) -> int:\\n#     print(x)\\n    return(x + 1)\\n\\nresult = my_func(x)', 'def our_sum(3): \\n    summa = 0\\n    \\n    for var in range(1, 4): 1,2,3\\n        summa += var # 1, 3, 6\\n    \\n    print(summa) # 6\\n    return summa # 6\\n\\n#print(summa)\\n\\nsumma = 10   # глобальная переменная\\nprint(summa)\\n\\nsumma = 6  # здесь напечаталось 6\\nprint(summa)', 'def our_sum(number): \\n    summa = 0\\n    \\n    for var in range(1, number+1):\\n        summa += var\\n    \\n    print(summa)\\n    return summa\\n\\n#print(summa)\\n\\nsumma = 10   # глобальная переменная\\nprint(summa)\\n\\nsumma = our_sum(3)  # здесь напечаталось 6\\nprint(summa)', 'def our_sum(number): \\n    summa = 0\\n    \\n    for var in range(1, number+1):\\n        summa += var\\n    \\n    print(summa)\\n    return summa\\n\\n#print(summa)\\n\\nsumma = 10   # глобальная переменная\\nprint(summa)\\n\\nour_sum(3)  # здесь напечаталось 6\\nprint(summa)', 'print(globals())'], '_oh': {4: 256, 5: 256, 6: True, 7: 0, 8: 1, 11: 'Неправильный тип данных', 12: 256, 13: 'Неправильный тип данных', 18: 25, 19: 125, 22: 14, 27: {'name': 'asdfasf', 'surname': 'ablalblba'}, 36: 5, 44: <class 'NoneType'>}, '_dh': ['C:\\\\Users\\\\Yuriy\\\\Python HSE\\\\Economstat'], 'In': ['', \"def sqrt(number, degree):\\n    '''\\n    number — число, которое возведется в степень degree\\n    '''\\n    return number ** degree\", 'help(sqrt)', 'sqrt(25)', 'sqrt(2, 8) # возвели 2 в 8 степень', 'sqrt(degree = 8, number = 2) # возвели 2 в 8 степень', 'number = 2\\ntype(number) is int', 'num = int(input())\\n\\n1 if num > 5 else 0', 'num = int(input())\\n\\n1 if num > 5 else 0', \"def sqrt(number, degree):\\n    '''\\n    number — число, которое возведется в степень degree\\n    '''\\n    checker = False\\n    if type(number) is int and type(degree) is int: # тут еще и float быть может, но пока опустим это\\n        checker = True\\n    return number ** degree if checker else 'Неправильный тип данных'\", \"def sqrt(number, degree):\\n    '''\\n    number — число, которое возведется в степень degree\\n    '''\\n    checker = False\\n    if type(number) is int and type(degree) is int: # тут еще и float быть может, но пока опустим это\\n        checker = True\\n    return number ** degree if checker else 'Неправильный тип данных'\", \"sqrt('2', 8)\", 'sqrt(2, 8)', \"sqrt('2', 8)\", \"def sqrt(number: int, degree: int) -> int:\\n    '''\\n    number — число, которое возведется в степень degree\\n    '''\\n    return number ** degree\", \"sqrt('2', 8)\", \"number = 5\\nnumber = '5'\", \"def get_degree(number, degree = 2):\\n    '''\\n    number — число, которое возведется в степень degree\\n    '''\\n    return number ** degree\", 'get_degree(5)', 'get_degree(5, 3)', \"def our_sum(*args): # args = arguments\\n    return args\\n\\nprint(our_sum(1, 9, 'qwerty', 8, 2, 1, 10, 111, 10022))\", 'sum(2, 3, 4)', 'sum([2,3,4,5])', 'sum([2,3,4,5])\\nsum(4, 5, 6, 10, 12)', 'def our_sum(*args): # args = arguments\\n    summa = 0\\n    \\n    for var in args:\\n        summa += var\\n        \\n    return summa\\n\\nprint(our_sum(1, 9, 3, 8))', 'def our_sum(*args): # args = arguments\\n    summa = 0\\n    \\n    for var in args:\\n        summa += var\\n        \\n    return summa\\n\\nprint(our_sum(1, 9, 3, 8, 10, 11, 12, 13, 40, 31))', 'def our_sum(*args): # args = arguments\\n    summa = 0\\n    \\n    for var in args:\\n        summa += var\\n        \\n    return summa\\n\\nprint(our_sum(1, 9, 3, 8, 10, 11, 12, 13, 40, 31, [2,3,4]))', \"dict(name='asdfasf', surname='ablalblba')\", 'def welcome(**kwargs): # kwargs = keyword arguments\\n    \\n    for key, value in kwargs.items(): # (key, value)\\n        print(f\\'{key} — {value}\\')\\n    \\n    print(f\\'Добро пожаловать, {\" \".join(kwargs.values())}\\')\\n    \\nwelcome(name = \\'Anastasia\\', surname = \\'Parshina\\')', 'def welcome(**kwargs): # kwargs = keyword arguments\\n    \\'\\'\\'\\n    Введите либо имя, либо фамилию, либо имя + фамилия, либо ФИО\\n    \\'\\'\\'\\n    \\n    for key, value in kwargs.items(): # (key, value)\\n        print(f\\'{key} — {value}\\')\\n    \\n    print(f\\'Добро пожаловать, {\" \".join(kwargs.values())}\\') # (Anastis, Parshina)\\n    \\nwelcome(name = \\'Anastasia\\', surname = \\'Parshina\\', middle_name = \\'asdfs\\')', 'def welcome(**kwargs): # kwargs = keyword arguments\\n    \\'\\'\\'\\n    Введите либо имя, либо фамилию, либо имя + фамилия, либо ФИО\\n    \\'\\'\\'\\n    \\n    for key, value in kwargs.items(): # (key, value)\\n        print(f\\'{key} — {value}\\')\\n    \\n    print(f\\'Добро пожаловать, {\" \".join(kwargs.values())}\\') # (Anastis, Parshina)\\n    \\nwelcome(name = \\'Anastasia\\')', 'def welcome(**kwargs): # kwargs = keyword arguments\\n    \\'\\'\\'\\n    Введите либо имя, либо фамилию, либо имя + фамилия, либо ФИО\\n    \\'\\'\\'\\n    \\n    for key, value in kwargs.items(): # (key, value)\\n        print(f\\'{key} — {value}\\')\\n    \\n    print(f\\'Добро пожаловать, {\" \".join(kwargs.values())}\\') # (Anastis, Parshina)\\n    \\nwelcome(name = \\'Anastasia\\', hello = 123)', 'def welcome(**kwargs): # kwargs = keyword arguments\\n    \\'\\'\\'\\n    Введите либо имя, либо фамилию, либо имя + фамилия, либо ФИО\\n    \\'\\'\\'\\n    \\n    for key, value in kwargs.items(): # (key, value)\\n        print(f\\'{key} — {value}\\')\\n    \\n    print(f\\'Добро пожаловать, {\" \".join(kwargs.values())}\\') # (Anastis, Parshina)\\n    \\nwelcome(name = \\'Anastasia\\', hello = \\'123\\')', 'def my_func(x: int) -> int | None:\\n    print(x)\\nmy_func(x)', 'def my_func(x: int) -> int:\\n    print(x)\\nmy_func(x)', 'x=5\\ndef my_func(x: int) -> int:\\n    print(x)\\nmy_func(x)', 'x = 5\\n\\ndef my_func(x: int) -> int:\\n#     print(x)\\n    return(x)\\n\\nmy_func(x)', 'x = 5\\n\\ndef my_func(x: int) -> int:\\n#     print(x)\\n    return(x)\\n\\nresult = my_func(x)', 'print(result)', 'result += 2\\nprint(result)', 'x = 5\\n\\ndef my_func(x: int) -> int:\\n#     print(x)\\n    return(x)\\n\\nresult = my_func(x)', 'x = 5\\n\\ndef my_func(x: int) -> int:\\n    print(x)\\n#     return(x)\\n\\nresult = my_func(x)', 'result += 2\\nprint(result)', 'print(result)', 'type(result)', 'x = 5\\n\\ndef my_func(x: int) -> int:\\n#     print(x)\\n    return(x + 1)\\n\\nresult = my_func(x)', 'def our_sum(3): \\n    summa = 0\\n    \\n    for var in range(1, 4): 1,2,3\\n        summa += var # 1, 3, 6\\n    \\n    print(summa) # 6\\n    return summa # 6\\n\\n#print(summa)\\n\\nsumma = 10   # глобальная переменная\\nprint(summa)\\n\\nsumma = 6  # здесь напечаталось 6\\nprint(summa)', 'def our_sum(number): \\n    summa = 0\\n    \\n    for var in range(1, number+1):\\n        summa += var\\n    \\n    print(summa)\\n    return summa\\n\\n#print(summa)\\n\\nsumma = 10   # глобальная переменная\\nprint(summa)\\n\\nsumma = our_sum(3)  # здесь напечаталось 6\\nprint(summa)', 'def our_sum(number): \\n    summa = 0\\n    \\n    for var in range(1, number+1):\\n        summa += var\\n    \\n    print(summa)\\n    return summa\\n\\n#print(summa)\\n\\nsumma = 10   # глобальная переменная\\nprint(summa)\\n\\nour_sum(3)  # здесь напечаталось 6\\nprint(summa)', 'print(globals())'], 'Out': {4: 256, 5: 256, 6: True, 7: 0, 8: 1, 11: 'Неправильный тип данных', 12: 256, 13: 'Неправильный тип данных', 18: 25, 19: 125, 22: 14, 27: {'name': 'asdfasf', 'surname': 'ablalblba'}, 36: 5, 44: <class 'NoneType'>}, 'get_ipython': <bound method InteractiveShell.get_ipython of <ipykernel.zmqshell.ZMQInteractiveShell object at 0x000001CC5496D730>>, 'exit': <IPython.core.autocall.ZMQExitAutocall object at 0x000001CC549313A0>, 'quit': <IPython.core.autocall.ZMQExitAutocall object at 0x000001CC549313A0>, '_': <class 'NoneType'>, '__': 5, '___': {'name': 'asdfasf', 'surname': 'ablalblba'}, '_i': 'def our_sum(number): \\n    summa = 0\\n    \\n    for var in range(1, number+1):\\n        summa += var\\n    \\n    print(summa)\\n    return summa\\n\\n#print(summa)\\n\\nsumma = 10   # глобальная переменная\\nprint(summa)\\n\\nour_sum(3)  # здесь напечаталось 6\\nprint(summa)', '_ii': 'def our_sum(number): \\n    summa = 0\\n    \\n    for var in range(1, number+1):\\n        summa += var\\n    \\n    print(summa)\\n    return summa\\n\\n#print(summa)\\n\\nsumma = 10   # глобальная переменная\\nprint(summa)\\n\\nsumma = our_sum(3)  # здесь напечаталось 6\\nprint(summa)', '_iii': 'def our_sum(3): \\n    summa = 0\\n    \\n    for var in range(1, 4): 1,2,3\\n        summa += var # 1, 3, 6\\n    \\n    print(summa) # 6\\n    return summa # 6\\n\\n#print(summa)\\n\\nsumma = 10   # глобальная переменная\\nprint(summa)\\n\\nsumma = 6  # здесь напечаталось 6\\nprint(summa)', '_i1': \"def sqrt(number, degree):\\n    '''\\n    number — число, которое возведется в степень degree\\n    '''\\n    return number ** degree\", 'sqrt': <function sqrt at 0x000001CC55A5CC10>, '_i2': 'help(sqrt)', '_i3': 'sqrt(25)', '_i4': 'sqrt(2, 8) # возвели 2 в 8 степень', '_4': 256, '_i5': 'sqrt(degree = 8, number = 2) # возвели 2 в 8 степень', '_5': 256, '_i6': 'number = 2\\ntype(number) is int', 'number': '5', '_6': True, '_i7': 'num = int(input())\\n\\n1 if num > 5 else 0', 'num': 10, '_7': 0, '_i8': 'num = int(input())\\n\\n1 if num > 5 else 0', '_8': 1, '_i9': \"def sqrt(number, degree):\\n    '''\\n    number — число, которое возведется в степень degree\\n    '''\\n    checker = False\\n    if type(number) is int and type(degree) is int: # тут еще и float быть может, но пока опустим это\\n        checker = True\\n    return number ** degree if checker else 'Неправильный тип данных'\", '_i10': \"def sqrt(number, degree):\\n    '''\\n    number — число, которое возведется в степень degree\\n    '''\\n    checker = False\\n    if type(number) is int and type(degree) is int: # тут еще и float быть может, но пока опустим это\\n        checker = True\\n    return number ** degree if checker else 'Неправильный тип данных'\", '_i11': \"sqrt('2', 8)\", '_11': 'Неправильный тип данных', '_i12': 'sqrt(2, 8)', '_12': 256, '_i13': \"sqrt('2', 8)\", '_13': 'Неправильный тип данных', '_i14': \"def sqrt(number: int, degree: int) -> int:\\n    '''\\n    number — число, которое возведется в степень degree\\n    '''\\n    return number ** degree\", '_i15': \"sqrt('2', 8)\", '_i16': \"number = 5\\nnumber = '5'\", '_i17': \"def get_degree(number, degree = 2):\\n    '''\\n    number — число, которое возведется в степень degree\\n    '''\\n    return number ** degree\", 'get_degree': <function get_degree at 0x000001CC55A5CF70>, '_i18': 'get_degree(5)', '_18': 25, '_i19': 'get_degree(5, 3)', '_19': 125, '_i20': \"def our_sum(*args): # args = arguments\\n    return args\\n\\nprint(our_sum(1, 9, 'qwerty', 8, 2, 1, 10, 111, 10022))\", 'our_sum': <function our_sum at 0x000001CC55A65DC0>, '_i21': 'sum(2, 3, 4)', '_i22': 'sum([2,3,4,5])', '_22': 14, '_i23': 'sum([2,3,4,5])\\nsum(4, 5, 6, 10, 12)', '_i24': 'def our_sum(*args): # args = arguments\\n    summa = 0\\n    \\n    for var in args:\\n        summa += var\\n        \\n    return summa\\n\\nprint(our_sum(1, 9, 3, 8))', '_i25': 'def our_sum(*args): # args = arguments\\n    summa = 0\\n    \\n    for var in args:\\n        summa += var\\n        \\n    return summa\\n\\nprint(our_sum(1, 9, 3, 8, 10, 11, 12, 13, 40, 31))', '_i26': 'def our_sum(*args): # args = arguments\\n    summa = 0\\n    \\n    for var in args:\\n        summa += var\\n        \\n    return summa\\n\\nprint(our_sum(1, 9, 3, 8, 10, 11, 12, 13, 40, 31, [2,3,4]))', '_i27': \"dict(name='asdfasf', surname='ablalblba')\", '_27': {'name': 'asdfasf', 'surname': 'ablalblba'}, '_i28': 'def welcome(**kwargs): # kwargs = keyword arguments\\n    \\n    for key, value in kwargs.items(): # (key, value)\\n        print(f\\'{key} — {value}\\')\\n    \\n    print(f\\'Добро пожаловать, {\" \".join(kwargs.values())}\\')\\n    \\nwelcome(name = \\'Anastasia\\', surname = \\'Parshina\\')', 'welcome': <function welcome at 0x000001CC55A65160>, '_i29': 'def welcome(**kwargs): # kwargs = keyword arguments\\n    \\'\\'\\'\\n    Введите либо имя, либо фамилию, либо имя + фамилия, либо ФИО\\n    \\'\\'\\'\\n    \\n    for key, value in kwargs.items(): # (key, value)\\n        print(f\\'{key} — {value}\\')\\n    \\n    print(f\\'Добро пожаловать, {\" \".join(kwargs.values())}\\') # (Anastis, Parshina)\\n    \\nwelcome(name = \\'Anastasia\\', surname = \\'Parshina\\', middle_name = \\'asdfs\\')', '_i30': 'def welcome(**kwargs): # kwargs = keyword arguments\\n    \\'\\'\\'\\n    Введите либо имя, либо фамилию, либо имя + фамилия, либо ФИО\\n    \\'\\'\\'\\n    \\n    for key, value in kwargs.items(): # (key, value)\\n        print(f\\'{key} — {value}\\')\\n    \\n    print(f\\'Добро пожаловать, {\" \".join(kwargs.values())}\\') # (Anastis, Parshina)\\n    \\nwelcome(name = \\'Anastasia\\')', '_i31': 'def welcome(**kwargs): # kwargs = keyword arguments\\n    \\'\\'\\'\\n    Введите либо имя, либо фамилию, либо имя + фамилия, либо ФИО\\n    \\'\\'\\'\\n    \\n    for key, value in kwargs.items(): # (key, value)\\n        print(f\\'{key} — {value}\\')\\n    \\n    print(f\\'Добро пожаловать, {\" \".join(kwargs.values())}\\') # (Anastis, Parshina)\\n    \\nwelcome(name = \\'Anastasia\\', hello = 123)', '_i32': 'def welcome(**kwargs): # kwargs = keyword arguments\\n    \\'\\'\\'\\n    Введите либо имя, либо фамилию, либо имя + фамилия, либо ФИО\\n    \\'\\'\\'\\n    \\n    for key, value in kwargs.items(): # (key, value)\\n        print(f\\'{key} — {value}\\')\\n    \\n    print(f\\'Добро пожаловать, {\" \".join(kwargs.values())}\\') # (Anastis, Parshina)\\n    \\nwelcome(name = \\'Anastasia\\', hello = \\'123\\')', '_i33': 'def my_func(x: int) -> int | None:\\n    print(x)\\nmy_func(x)', '_i34': 'def my_func(x: int) -> int:\\n    print(x)\\nmy_func(x)', 'my_func': <function my_func at 0x000001CC55A65430>, '_i35': 'x=5\\ndef my_func(x: int) -> int:\\n    print(x)\\nmy_func(x)', 'x': 5, '_i36': 'x = 5\\n\\ndef my_func(x: int) -> int:\\n#     print(x)\\n    return(x)\\n\\nmy_func(x)', '_36': 5, '_i37': 'x = 5\\n\\ndef my_func(x: int) -> int:\\n#     print(x)\\n    return(x)\\n\\nresult = my_func(x)', 'result': 6, '_i38': 'print(result)', '_i39': 'result += 2\\nprint(result)', '_i40': 'x = 5\\n\\ndef my_func(x: int) -> int:\\n#     print(x)\\n    return(x)\\n\\nresult = my_func(x)', '_i41': 'x = 5\\n\\ndef my_func(x: int) -> int:\\n    print(x)\\n#     return(x)\\n\\nresult = my_func(x)', '_i42': 'result += 2\\nprint(result)', '_i43': 'print(result)', '_i44': 'type(result)', '_44': <class 'NoneType'>, '_i45': 'x = 5\\n\\ndef my_func(x: int) -> int:\\n#     print(x)\\n    return(x + 1)\\n\\nresult = my_func(x)', '_i46': 'def our_sum(3): \\n    summa = 0\\n    \\n    for var in range(1, 4): 1,2,3\\n        summa += var # 1, 3, 6\\n    \\n    print(summa) # 6\\n    return summa # 6\\n\\n#print(summa)\\n\\nsumma = 10   # глобальная переменная\\nprint(summa)\\n\\nsumma = 6  # здесь напечаталось 6\\nprint(summa)', '_i47': 'def our_sum(number): \\n    summa = 0\\n    \\n    for var in range(1, number+1):\\n        summa += var\\n    \\n    print(summa)\\n    return summa\\n\\n#print(summa)\\n\\nsumma = 10   # глобальная переменная\\nprint(summa)\\n\\nsumma = our_sum(3)  # здесь напечаталось 6\\nprint(summa)', 'summa': 10, '_i48': 'def our_sum(number): \\n    summa = 0\\n    \\n    for var in range(1, number+1):\\n        summa += var\\n    \\n    print(summa)\\n    return summa\\n\\n#print(summa)\\n\\nsumma = 10   # глобальная переменная\\nprint(summa)\\n\\nour_sum(3)  # здесь напечаталось 6\\nprint(summa)', '_i49': 'print(globals())'}\n"
     ]
    }
   ],
   "source": [
    "print(globals())"
   ]
  },
  {
   "cell_type": "code",
   "execution_count": 48,
   "id": "86fc43ec",
   "metadata": {
    "scrolled": true
   },
   "outputs": [
    {
     "name": "stdout",
     "output_type": "stream",
     "text": [
      "10\n",
      "6\n",
      "10\n"
     ]
    }
   ],
   "source": [
    "def our_sum(number): \n",
    "    summa = 0\n",
    "    \n",
    "    for var in range(1, number+1):\n",
    "        summa += var\n",
    "    \n",
    "    print(summa)\n",
    "    return summa\n",
    "\n",
    "#print(summa)\n",
    "\n",
    "summa = 10   # глобальная переменная\n",
    "print(summa)\n",
    "\n",
    "our_sum(3)  # здесь напечаталось 6\n",
    "print(summa)"
   ]
  },
  {
   "cell_type": "code",
   "execution_count": null,
   "id": "c222a8d0",
   "metadata": {},
   "outputs": [],
   "source": [
    "# summa локальная != summa глобальная"
   ]
  },
  {
   "cell_type": "markdown",
   "id": "f36e3ddd",
   "metadata": {},
   "source": [
    "Где это может пригодиться? Представьте, что вы пишете приложение и хотите, чтобы оно приветствовало пользователя в зависимости от выбранного языка.\n",
    "\n",
    "Предположим, что опции всего две: `ru` и `eng`, а если введено что-то еще, то функция взывается снова (к слову, это называется рексурсия)."
   ]
  },
  {
   "cell_type": "code",
   "execution_count": 52,
   "id": "6b9f8bed",
   "metadata": {},
   "outputs": [
    {
     "name": "stdout",
     "output_type": "stream",
     "text": [
      "Wrong language! Try again!\n",
      "asdfsdf\n",
      "Wrong language! Try again!\n",
      "french\n",
      "Wrong language! Try again!\n",
      "ru\n",
      "Добро пожаловать, Anasasia\n",
      "завершаем вызов функции ru\n",
      "завершаем вызов функции french\n",
      "завершаем вызов функции asdfsdf\n"
     ]
    }
   ],
   "source": [
    "def welcome2(name, language):\n",
    "    if language == 'ru':\n",
    "        print(\"Добро пожаловать,\", name)\n",
    "    elif language == 'eng':\n",
    "        print('Welcome,', name)\n",
    "    else:\n",
    "        print('Wrong language! Try again!')\n",
    "        language = input()\n",
    "        welcome2(name, language)\n",
    "        print(f'завершаем вызов функции {language}')\n",
    "        \n",
    "welcome2('Anasasia', 'e')"
   ]
  },
  {
   "cell_type": "markdown",
   "id": "c063517d",
   "metadata": {},
   "source": [
    "Но если это приложение, то язык там может быть задействован не только в приветствии, а указывать каждый раз новое значение языка как-то слошком не рационально. \n",
    "\n",
    "Важно помнить, что глобальные переменные доступны только для чтения, но не для модификации изнутри функции.\n",
    "\n",
    "Ситуация, при которой функция модифицирует глобальную переменную, обычно не очень желательна: функции должны быть изолированы от кода, который из запускает, иначе вы быстро перестанете понимать, что делает ваша программа. "
   ]
  },
  {
   "cell_type": "code",
   "execution_count": 55,
   "id": "d9aa5acb",
   "metadata": {},
   "outputs": [
    {
     "name": "stdout",
     "output_type": "stream",
     "text": [
      "french\n"
     ]
    }
   ],
   "source": [
    "def welcome3(name):\n",
    "    global language # language = 'fr'\n",
    "    language = 'french'\n",
    "    if language == 'ru':\n",
    "        print(\"Добро пожаловать,\", name)\n",
    "    elif language == 'eng':\n",
    "        print('Welcome,', name)\n",
    "    else:\n",
    "        print('Wrong language! Try again!')\n",
    "        language = input()\n",
    "        welcome3(name)\n",
    "\n",
    "language = 'fr'        \n",
    "welcome3('Анастасия')\n",
    "\n",
    "print(language)"
   ]
  },
  {
   "cell_type": "code",
   "execution_count": null,
   "id": "ce7a33fc",
   "metadata": {},
   "outputs": [],
   "source": [
    "1. рекурсия\n",
    "2. через for"
   ]
  },
  {
   "cell_type": "markdown",
   "id": "bbb164c8",
   "metadata": {},
   "source": [
    "Могли ли мы также поступить с нашей переменной `summa`?"
   ]
  },
  {
   "cell_type": "code",
   "execution_count": 56,
   "id": "62a33ded",
   "metadata": {},
   "outputs": [
    {
     "ename": "UnboundLocalError",
     "evalue": "local variable 'summa' referenced before assignment",
     "output_type": "error",
     "traceback": [
      "\u001b[1;31m---------------------------------------------------------------------------\u001b[0m",
      "\u001b[1;31mUnboundLocalError\u001b[0m                         Traceback (most recent call last)",
      "\u001b[1;32m~\\AppData\\Local\\Temp/ipykernel_2412/1651391022.py\u001b[0m in \u001b[0;36m<cell line: 10>\u001b[1;34m()\u001b[0m\n\u001b[0;32m      8\u001b[0m \u001b[1;33m\u001b[0m\u001b[0m\n\u001b[0;32m      9\u001b[0m \u001b[0msumma\u001b[0m \u001b[1;33m=\u001b[0m \u001b[1;36m0\u001b[0m\u001b[1;33m\u001b[0m\u001b[1;33m\u001b[0m\u001b[0m\n\u001b[1;32m---> 10\u001b[1;33m \u001b[0mour_sum2\u001b[0m\u001b[1;33m(\u001b[0m\u001b[1;36m10\u001b[0m\u001b[1;33m)\u001b[0m\u001b[1;33m\u001b[0m\u001b[1;33m\u001b[0m\u001b[0m\n\u001b[0m",
      "\u001b[1;32m~\\AppData\\Local\\Temp/ipykernel_2412/1651391022.py\u001b[0m in \u001b[0;36mour_sum2\u001b[1;34m(number)\u001b[0m\n\u001b[0;32m      2\u001b[0m \u001b[1;33m\u001b[0m\u001b[0m\n\u001b[0;32m      3\u001b[0m     \u001b[1;32mfor\u001b[0m \u001b[0mvar\u001b[0m \u001b[1;32min\u001b[0m \u001b[0mrange\u001b[0m\u001b[1;33m(\u001b[0m\u001b[1;36m1\u001b[0m\u001b[1;33m,\u001b[0m \u001b[0mnumber\u001b[0m\u001b[1;33m+\u001b[0m\u001b[1;36m1\u001b[0m\u001b[1;33m)\u001b[0m\u001b[1;33m:\u001b[0m\u001b[1;33m\u001b[0m\u001b[1;33m\u001b[0m\u001b[0m\n\u001b[1;32m----> 4\u001b[1;33m         \u001b[0msumma\u001b[0m \u001b[1;33m+=\u001b[0m \u001b[0mvar\u001b[0m\u001b[1;33m\u001b[0m\u001b[1;33m\u001b[0m\u001b[0m\n\u001b[0m\u001b[0;32m      5\u001b[0m \u001b[1;33m\u001b[0m\u001b[0m\n\u001b[0;32m      6\u001b[0m     \u001b[0mprint\u001b[0m\u001b[1;33m(\u001b[0m\u001b[0msumma\u001b[0m\u001b[1;33m)\u001b[0m\u001b[1;33m\u001b[0m\u001b[1;33m\u001b[0m\u001b[0m\n",
      "\u001b[1;31mUnboundLocalError\u001b[0m: local variable 'summa' referenced before assignment"
     ]
    }
   ],
   "source": [
    "def our_sum2(number):     \n",
    "    \n",
    "    for var in range(1, number+1):\n",
    "        summa += var\n",
    "    \n",
    "    print(summa)\n",
    "    return summa\n",
    "\n",
    "summa = 0\n",
    "our_sum2(10)"
   ]
  },
  {
   "cell_type": "markdown",
   "id": "1992f360",
   "metadata": {},
   "source": [
    "На нас справделиво ругаются, что мы хотим поменять что-то глобальное. Но если мы все-таки упрямые и очень хотим, то слово `global` в помощь."
   ]
  },
  {
   "cell_type": "code",
   "execution_count": 59,
   "id": "0bba707b",
   "metadata": {},
   "outputs": [
    {
     "name": "stdout",
     "output_type": "stream",
     "text": [
      "15\n"
     ]
    },
    {
     "data": {
      "text/plain": [
       "15"
      ]
     },
     "execution_count": 59,
     "metadata": {},
     "output_type": "execute_result"
    }
   ],
   "source": [
    "def our_sum3(number):     \n",
    "    global summa\n",
    "    for var in range(1, number+1):\n",
    "        summa += var\n",
    "    \n",
    "    print(summa)\n",
    "    return summa\n",
    "\n",
    "summa = 0\n",
    "our_sum3(5)"
   ]
  },
  {
   "cell_type": "code",
   "execution_count": 60,
   "id": "32f6d64e",
   "metadata": {},
   "outputs": [
    {
     "name": "stdout",
     "output_type": "stream",
     "text": [
      "15\n"
     ]
    }
   ],
   "source": [
    "print(summa)"
   ]
  },
  {
   "cell_type": "code",
   "execution_count": 61,
   "id": "0699205c",
   "metadata": {},
   "outputs": [
    {
     "name": "stdout",
     "output_type": "stream",
     "text": [
      "21\n"
     ]
    },
    {
     "data": {
      "text/plain": [
       "21"
      ]
     },
     "execution_count": 61,
     "metadata": {},
     "output_type": "execute_result"
    }
   ],
   "source": [
    "our_sum3(3)"
   ]
  },
  {
   "cell_type": "markdown",
   "id": "c7dcac6d",
   "metadata": {},
   "source": [
    "В таком случае она сработает, но! при повторном применении будет прибавлять что-то уже к 55. "
   ]
  },
  {
   "cell_type": "code",
   "execution_count": 28,
   "id": "fc0ff345",
   "metadata": {},
   "outputs": [
    {
     "name": "stdout",
     "output_type": "stream",
     "text": [
      "61\n"
     ]
    },
    {
     "data": {
      "text/plain": [
       "61"
      ]
     },
     "execution_count": 28,
     "metadata": {},
     "output_type": "execute_result"
    }
   ],
   "source": [
    "our_sum3(3)"
   ]
  },
  {
   "cell_type": "markdown",
   "id": "3421224f",
   "metadata": {},
   "source": [
    "### Mutable defaults arguments"
   ]
  },
  {
   "cell_type": "code",
   "execution_count": 62,
   "id": "6915548e",
   "metadata": {},
   "outputs": [],
   "source": [
    "def function(list_argument = []) -> list[str]: # аргументы по умолчанию общие для всех вызовов функции\n",
    "    list_argument.append(\"Hi!\")  \n",
    "    return list_argument"
   ]
  },
  {
   "cell_type": "code",
   "execution_count": 79,
   "id": "1c5aeca8",
   "metadata": {},
   "outputs": [
    {
     "data": {
      "text/plain": [
       "['hello', 'Hi!']"
      ]
     },
     "execution_count": 79,
     "metadata": {},
     "output_type": "execute_result"
    }
   ],
   "source": [
    "abc = ['hello']\n",
    "function(abc)"
   ]
  },
  {
   "cell_type": "code",
   "execution_count": 82,
   "id": "322499e7",
   "metadata": {},
   "outputs": [],
   "source": [
    "def function(list_argument: list[str] = None) -> list[str]:\n",
    "    if list_argument is None:\n",
    "        list_argument = [] # создается локально для одного вызова\n",
    "    list_argument.append(\"Hi!\")  \n",
    "    return list_argument"
   ]
  },
  {
   "cell_type": "code",
   "execution_count": 103,
   "id": "a41634c3",
   "metadata": {},
   "outputs": [
    {
     "data": {
      "text/plain": [
       "['Hi!']"
      ]
     },
     "execution_count": 103,
     "metadata": {},
     "output_type": "execute_result"
    }
   ],
   "source": [
    "function()"
   ]
  },
  {
   "cell_type": "markdown",
   "id": "c68e5470",
   "metadata": {},
   "source": [
    "## Анонимная функция <a name=\"par3\"></a>\n",
    "\n",
    "А вот ее мы тоже уже встречали! Помните про слово `lambda`? Так вот тут будет речь о нем.\n",
    "\n",
    "Бывает такое, что функция потребуется нам всего раз — здесь и сейчас. Тогда зачем нам как-то ее определять и давать ей название? Можно просто это название заменить словом `lambda`.\n",
    "\n",
    "`lambda`-функции принимают любое количество аргументов, но не могут содержать несколько выражений и всегда возвращают только одно значение.\n",
    "\n",
    "Отдельно синтаксис `lambda`-функций покажется вам странным, но выглядит он так:\n",
    "\n",
    "    `(lambda arguments: exprission)(data)`\n",
    "    \n",
    "Идея такая: \n",
    "\n",
    "+ `arguments` — аргументы, с которыми работает функция\n",
    "+ `exprission` — что функция с этими аргументами должна делать\n",
    "+ `data` — какие значения эти аргументы принимают"
   ]
  },
  {
   "cell_type": "code",
   "execution_count": 29,
   "id": "919d56da",
   "metadata": {},
   "outputs": [
    {
     "data": {
      "text/plain": [
       "9"
      ]
     },
     "execution_count": 29,
     "metadata": {},
     "output_type": "execute_result"
    }
   ],
   "source": [
    "(lambda var1, var2, var3: (var1 + var2) * var3)(1, 2, 3)"
   ]
  },
  {
   "cell_type": "markdown",
   "id": "03a90f66",
   "metadata": {},
   "source": [
    "А вот аналогичное действие, только с созданием функции через `def`:"
   ]
  },
  {
   "cell_type": "code",
   "execution_count": 30,
   "id": "fa76c9f9",
   "metadata": {},
   "outputs": [
    {
     "data": {
      "text/plain": [
       "9"
      ]
     },
     "execution_count": 30,
     "metadata": {},
     "output_type": "execute_result"
    }
   ],
   "source": [
    "def new_func(var1, var2, var3):\n",
    "    return (var1 + var2) * var3\n",
    "\n",
    "new_func(1, 2, 3)"
   ]
  },
  {
   "cell_type": "markdown",
   "id": "58a46cd8",
   "metadata": {},
   "source": [
    "Условные конструкции с ней также работают (но только простой `if-else`):"
   ]
  },
  {
   "cell_type": "code",
   "execution_count": 104,
   "id": "8d19244d",
   "metadata": {},
   "outputs": [
    {
     "data": {
      "text/plain": [
       "[2, 10, 2]"
      ]
     },
     "execution_count": 104,
     "metadata": {},
     "output_type": "execute_result"
    }
   ],
   "source": [
    "(lambda *args: [arg for arg in args if arg % 2 == 0])(1, 2, 3, 10, 2, 5, 11)"
   ]
  },
  {
   "cell_type": "markdown",
   "id": "cf4378c1",
   "metadata": {},
   "source": [
    "Тут нам помогло списковое включение, и фактически `lambda` вернула один объект — список. \n",
    "\n",
    "`lambda`-функции очень часто применяются для преобразования каких-то коллекций через функцию `map()`. "
   ]
  },
  {
   "cell_type": "code",
   "execution_count": 106,
   "id": "51a4cb48",
   "metadata": {},
   "outputs": [
    {
     "data": {
      "text/plain": [
       "[12, 0, 42, 16, 0]"
      ]
     },
     "execution_count": 106,
     "metadata": {},
     "output_type": "execute_result"
    }
   ],
   "source": [
    "numbers = [12, 31, 42, 16, 1231]\n",
    "\n",
    "list(map(lambda x: x if x % 2 == 0 else 0, numbers))"
   ]
  },
  {
   "cell_type": "markdown",
   "id": "63888cf1",
   "metadata": {},
   "source": [
    "<center><b><font size=4>Задача №2</font></b></center>\n",
    "\n",
    "**Напишите анонимную функцию, которая принимает на вход строку с id студента и возвращает информацию о нем в формате `Номер группы: Фамилия`**\n",
    "\n",
    "Пример работы функции:\n",
    "```\n",
    "codes = ['БПЛПТЛ_232_Иванов Иван Иванович',\n",
    "        'БМКС_234_Петров Петр Петрович',\n",
    "        'БЭК_211_Ефимов Ефим Ефимович']\n",
    "list(map(... , codes)) # ['232: Иванов', '234: Петров', '211: Ефимов']\n",
    "```"
   ]
  },
  {
   "cell_type": "code",
   "execution_count": 24,
   "id": "4dbc6cb2",
   "metadata": {},
   "outputs": [],
   "source": [
    "codes = ['БПЛПТЛ_232_Иванов Иван Иванович',\n",
    "        'БМКС_234_Петров Петр Петрович',\n",
    "        'БЭК_211_Ефимов Ефим Ефимович']\n",
    "# YOUR CODE HERE"
   ]
  },
  {
   "cell_type": "markdown",
   "id": "f744bb8c",
   "metadata": {},
   "source": [
    "## Про собрата `map()` — `filter()` <a name=\"par4\"></a>"
   ]
  },
  {
   "cell_type": "markdown",
   "id": "576ee250",
   "metadata": {},
   "source": [
    "Если мы хотим отфильтровать данные, то нам поможет функция `filter()`."
   ]
  },
  {
   "cell_type": "code",
   "execution_count": 33,
   "id": "a2455056",
   "metadata": {},
   "outputs": [
    {
     "name": "stdout",
     "output_type": "stream",
     "text": [
      "[2, 2, 8, 10]\n"
     ]
    }
   ],
   "source": [
    "# старый дедовский способ\n",
    "\n",
    "numbers = [2, 5, 2, 1, 9, 8, 10]\n",
    "res = []\n",
    "\n",
    "for num in numbers:\n",
    "    if num % 2 == 0:\n",
    "        res.append(num)\n",
    "        \n",
    "print(res)"
   ]
  },
  {
   "cell_type": "code",
   "execution_count": 34,
   "id": "764a80f6",
   "metadata": {},
   "outputs": [
    {
     "name": "stdout",
     "output_type": "stream",
     "text": [
      "[2, 2, 8, 10]\n"
     ]
    }
   ],
   "source": [
    "# аналогично, но через списковые включения\n",
    "\n",
    "numbers = [2, 5, 2, 1, 9, 8, 10]\n",
    "res = [num for num in numbers if num % 2 == 0]\n",
    "\n",
    "print(res)"
   ]
  },
  {
   "cell_type": "code",
   "execution_count": 107,
   "id": "a6fb60c7",
   "metadata": {},
   "outputs": [
    {
     "name": "stdout",
     "output_type": "stream",
     "text": [
      "[2, 2, 8, 10]\n"
     ]
    }
   ],
   "source": [
    "# с помощью функции filter()\n",
    "\n",
    "numbers = [2, 5, 2, 1, 9, 8, 10]\n",
    "res = list(filter(lambda num: num % 2 == 0, numbers))\n",
    "\n",
    "print(res)"
   ]
  },
  {
   "cell_type": "markdown",
   "id": "7f5aedc3",
   "metadata": {},
   "source": [
    "Фактически, мы здесь фильтруем по *условию*, не заморачиваясь с использованием цикла. "
   ]
  },
  {
   "cell_type": "markdown",
   "id": "ded422a9",
   "metadata": {},
   "source": [
    "## Дополнительные материалы <a name=\"parlast\"></a>\n",
    "\n",
    "+ Разница между методом и функцией [Python for Data Science](https://pythonru.com/osnovy/3-python-dlja-data-science-vstroennye-funkcii-i-metody-python)\n",
    "+ Документация Python [Built-in Functions](https://docs.python.org/3/library/functions.html)\n",
    "+ Документация Python [Support for type hints](https://docs.python.org/3/library/typing.html)\n",
    "+ Введение в аннотации типов Python [Статья на Хабр](https://habr.com/ru/company/lamoda/blog/432656/)\n",
    "+ Что такое \\*args и \\*\\*kwargs в Python? [Статья на Хабр](https://habr.com/ru/company/ruvds/blog/482464/)"
   ]
  }
 ],
 "metadata": {
  "kernelspec": {
   "display_name": "Python 3 (ipykernel)",
   "language": "python",
   "name": "python3"
  },
  "language_info": {
   "codemirror_mode": {
    "name": "ipython",
    "version": 3
   },
   "file_extension": ".py",
   "mimetype": "text/x-python",
   "name": "python",
   "nbconvert_exporter": "python",
   "pygments_lexer": "ipython3",
   "version": "3.9.7"
  }
 },
 "nbformat": 4,
 "nbformat_minor": 5
}
