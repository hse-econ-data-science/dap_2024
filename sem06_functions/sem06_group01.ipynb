{
 "cells": [
  {
   "cell_type": "markdown",
   "metadata": {},
   "source": [
    "# Анализ данных на Python\n",
    "\n",
    "### Семинар 6. Множества и словари. Задачи."
   ]
  },
  {
   "cell_type": "code",
   "execution_count": 4,
   "metadata": {},
   "outputs": [],
   "source": [
    "def test_problem(func, test_data):\n",
    "    for inputs, true_answer in test_data:\n",
    "        answer = func(inputs)\n",
    "        assert answer == true_answer, f'Expected {true_answer}, got {answer}. Input: {inputs}'\n",
    "    print(\"OK!\")\n",
    "    \n",
    "def test_problem_13(func, test_data):\n",
    "    for inputs, true_answer in test_data:\n",
    "        answer = func(*inputs)\n",
    "        assert answer == true_answer, f'Expected {true_answer}, got {answer}. Input: {inputs}'\n",
    "    print(\"OK!\")"
   ]
  },
  {
   "cell_type": "markdown",
   "metadata": {},
   "source": [
    "## Задачка 1: магазин\n",
    "Вам предостоит обработать базу данных о продажах некоторого интернет-магазина. База данных представляет собой набор кортежей, в каждом кортеже три элемента: (Покупатель, товар, количество), где Покупатель — имя покупателя (строка без пробелов), товар — название товара (строка без пробелов), количество — количество приобретенных единиц товара.\n",
    "\n",
    "Создайте словарь, ключами которого являются имена покупателей, а значениями — словари, ключами которых являются названия товаров, а значениями — количество единиц этого товара, которые купил этот покупатель.\n",
    "\n",
    "Напишите функцию aggregate, принимающую некоторое количество набор кортежей из базы данных и возвращающую сводную информацию в виде словаря."
   ]
  },
  {
   "cell_type": "code",
   "execution_count": 6,
   "metadata": {},
   "outputs": [
    {
     "data": {
      "text/plain": [
       "{'Petrov': {'pens': 5, 'envelope': 20},\n",
       " 'Ivanov': {'marker': 6, 'paper': 7, 'envelope': 5}}"
      ]
     },
     "execution_count": 6,
     "metadata": {},
     "output_type": "execute_result"
    }
   ],
   "source": [
    "def lol_kek(memes):\n",
    "\n",
    "    ans = {}\n",
    "    for name, item, cnt in memes:\n",
    "        # print(ans)\n",
    "        if name not in ans:\n",
    "            ans[name] = {item: cnt}\n",
    "        else:\n",
    "            if item in ans[name]:\n",
    "                ans[name][item] += cnt \n",
    "            else:\n",
    "                ans[name][item] = cnt \n",
    "\n",
    "    return ans\n",
    "\n",
    "\n",
    "x = [(\"Petrov\", \"pens\", 5), (\"Ivanov\", \"marker\", 3), (\"Ivanov\", \"paper\", 7), \n",
    "      (\"Petrov\", \"envelope\", 20), (\"Ivanov\",\"envelope\",5), (\"Ivanov\", \"marker\", 3)]\n",
    "\n",
    "lol_kek(x)"
   ]
  },
  {
   "cell_type": "code",
   "execution_count": 7,
   "metadata": {},
   "outputs": [
    {
     "name": "stdout",
     "output_type": "stream",
     "text": [
      "OK!\n"
     ]
    }
   ],
   "source": [
    "AGG_TESTS_DATA = [\n",
    "    ([(\"Petrov\",\"pens\",5), (\"Ivanov\",\"marker\",3), (\"Ivanov\",\"paper\",7), \n",
    "      (\"Petrov\",\"envelope\",20), (\"Ivanov\",\"envelope\",5)], \n",
    "     {'Petrov': {'pens': 5, 'envelope': 20}, \n",
    "      'Ivanov': {'marker': 3, 'paper': 7, 'envelope': 5}}),\n",
    "    \n",
    "    ([(\"Ivanov\",\"aaa\",1), (\"Petrov\",\"aaa\",2), (\"Sidorov\",\"aaa\",3), (\"Ivanov\",\"aaa\",6), \n",
    "      (\"Petrov\",\"aaa\",7), (\"Sidorov\",\"aaa\",8), (\"Ivanov\",\"bbb\",3), (\"Petrov\",\"bbb\",7), \n",
    "      (\"Sidorov\",\"aaa\",345), (\"Ivanov\",\"ccc\",45), (\"Petrov\",\"ddd\",34), \n",
    "      (\"Ziborov\",\"eee\",234), (\"Ivanov\",\"aaa\",45)],\n",
    "    {'Ivanov': {'aaa': 52, 'bbb': 3, 'ccc': 45},\n",
    "     'Petrov': {'aaa': 9, 'bbb': 7, 'ddd': 34},\n",
    "     'Sidorov': {'aaa': 356},\n",
    "     'Ziborov': {'eee': 234}})\n",
    "]\n",
    "test_problem(lol_kek, AGG_TESTS_DATA)"
   ]
  },
  {
   "cell_type": "code",
   "execution_count": 9,
   "metadata": {},
   "outputs": [],
   "source": [
    "import pandas as pd \n",
    "df = pd.DataFrame(lol_kek(x))"
   ]
  },
  {
   "cell_type": "code",
   "execution_count": 11,
   "metadata": {},
   "outputs": [
    {
     "data": {
      "text/plain": [
       "pens         5.0\n",
       "envelope    20.0\n",
       "marker       NaN\n",
       "paper        NaN\n",
       "Name: Petrov, dtype: float64"
      ]
     },
     "execution_count": 11,
     "metadata": {},
     "output_type": "execute_result"
    }
   ],
   "source": [
    "df['Petrov']"
   ]
  },
  {
   "cell_type": "code",
   "execution_count": 14,
   "metadata": {},
   "outputs": [
    {
     "data": {
      "text/plain": [
       "5.0"
      ]
     },
     "execution_count": 14,
     "metadata": {},
     "output_type": "execute_result"
    }
   ],
   "source": [
    "df.loc['pens', 'Petrov']"
   ]
  },
  {
   "cell_type": "markdown",
   "metadata": {},
   "source": [
    "## Задачка 2: одинаковые строки\n",
    "\n",
    "Напишите функцию, которая приенимает на вход две строки и возвращает True, если перестановкой символов можно получить вторую строку из первой."
   ]
  },
  {
   "cell_type": "code",
   "execution_count": 27,
   "metadata": {},
   "outputs": [],
   "source": [
    "from collections import defaultdict\n",
    "\n",
    "def create_letter_dict(word):\n",
    "    dct = defaultdict(lambda: 0)\n",
    "    for char in word:\n",
    "        dct[char] += 1\n",
    "    return dict(dct)\n",
    "\n",
    "def is_isomorphic(a, b):\n",
    "    return create_letter_dict(a) == create_letter_dict(b)"
   ]
  },
  {
   "cell_type": "code",
   "execution_count": 35,
   "metadata": {},
   "outputs": [
    {
     "data": {
      "text/plain": [
       "{'a': 1, 'b': 1, 'c': 1}"
      ]
     },
     "execution_count": 35,
     "metadata": {},
     "output_type": "execute_result"
    }
   ],
   "source": [
    "create_letter_dict('abc')"
   ]
  },
  {
   "cell_type": "code",
   "execution_count": 34,
   "metadata": {},
   "outputs": [
    {
     "data": {
      "text/plain": [
       "False"
      ]
     },
     "execution_count": 34,
     "metadata": {},
     "output_type": "execute_result"
    }
   ],
   "source": [
    "create_letter_dict('bbca') == create_letter_dict('abc')"
   ]
  },
  {
   "cell_type": "code",
   "execution_count": 30,
   "metadata": {},
   "outputs": [
    {
     "name": "stdout",
     "output_type": "stream",
     "text": [
      "OK!\n"
     ]
    }
   ],
   "source": [
    "TEST_DATA = [\n",
    "    (('foo', 'bar'), False),\n",
    "    (('foo', 'oof'), True),\n",
    "    (('foo', 'off'), False),\n",
    "    (('a', 'a'), True),\n",
    "    (('aaa', 'aaab'), False),\n",
    "    (('140', '041'), True),\n",
    "]\n",
    "\n",
    "test_problem_13(is_isomorphic, TEST_DATA)"
   ]
  },
  {
   "cell_type": "markdown",
   "metadata": {},
   "source": [
    "## Задачка 3. Парковка\n",
    "\n",
    "Напишите функцию, которая принимает на вход словарь, где ключом является индекс парковочного места, а значением True/False (занято/свободно). Вторым аргументом функция должна принимать индекс места, которое хочется занять.\n",
    "Функция должна возращать True, если место можно занять и модифицировать словарь, занимая место. Функция возвращает False, если место уже занято."
   ]
  },
  {
   "cell_type": "code",
   "execution_count": 42,
   "metadata": {},
   "outputs": [
    {
     "data": {
      "text/plain": [
       "'Машина уехала с 2'"
      ]
     },
     "execution_count": 42,
     "metadata": {},
     "output_type": "execute_result"
    }
   ],
   "source": [
    "index = 2\n",
    "f'Машина уехала с {index}'"
   ]
  },
  {
   "cell_type": "code",
   "execution_count": 65,
   "metadata": {},
   "outputs": [],
   "source": [
    "def parking_lot(data, index):\n",
    "    if not data[index]:\n",
    "        data[index] = True \n",
    "        return f'Машина заняла лот {index}'\n",
    "    else:\n",
    "        return f'Машина не смогла занять лот {index}'\n",
    "    \n",
    "def parking_free(data, index):\n",
    "    data[index] = False\n",
    "    return f'Машина уехала с лота {index}'"
   ]
  },
  {
   "cell_type": "code",
   "execution_count": 66,
   "metadata": {},
   "outputs": [
    {
     "name": "stdout",
     "output_type": "stream",
     "text": [
      "Машина заняла лот 0\n",
      "Машина не смогла занять лот 0\n",
      "Машина заняла лот 1\n",
      "Машина заняла лот 3\n",
      "Машина уехала с лота 1\n",
      "Машина заняла лот 1\n",
      "Машина уехала с лота 0\n"
     ]
    }
   ],
   "source": [
    "parking = {0: False, 1: False, 2: False, 3: False}\n",
    "\n",
    "f = open('input.txt')\n",
    "x = f.readline().strip()\n",
    "\n",
    "while x != '':\n",
    "    index, action = x.split()\n",
    "    index = int(index)\n",
    "\n",
    "    if action == 'in':\n",
    "        log = parking_lot(parking, index)\n",
    "    elif action == 'out':\n",
    "        log = parking_free(parking, index)\n",
    "    else:\n",
    "        log = \"Такая команда не предусмотрена\"\n",
    "    print(log)\n",
    "    x = f.readline().strip()\n",
    "\n",
    "f.close()\n"
   ]
  },
  {
   "cell_type": "code",
   "execution_count": 67,
   "metadata": {},
   "outputs": [
    {
     "data": {
      "text/plain": [
       "{0: False, 1: True, 2: False, 3: True}"
      ]
     },
     "execution_count": 67,
     "metadata": {},
     "output_type": "execute_result"
    }
   ],
   "source": [
    "parking "
   ]
  },
  {
   "cell_type": "code",
   "execution_count": 58,
   "metadata": {},
   "outputs": [],
   "source": [
    "f = open('input.txt')"
   ]
  },
  {
   "cell_type": "code",
   "execution_count": 59,
   "metadata": {},
   "outputs": [
    {
     "data": {
      "text/plain": [
       "'0 in'"
      ]
     },
     "execution_count": 59,
     "metadata": {},
     "output_type": "execute_result"
    }
   ],
   "source": [
    "f.readline().strip()"
   ]
  },
  {
   "cell_type": "code",
   "execution_count": 54,
   "metadata": {},
   "outputs": [
    {
     "data": {
      "text/plain": [
       "['0 in\\n', '1 in\\n', '3 in\\n', '1 out\\n', '1 in\\n', '0 out']"
      ]
     },
     "execution_count": 54,
     "metadata": {},
     "output_type": "execute_result"
    }
   ],
   "source": [
    "f.readlines()"
   ]
  },
  {
   "cell_type": "code",
   "execution_count": 55,
   "metadata": {},
   "outputs": [
    {
     "data": {
      "text/plain": [
       "''"
      ]
     },
     "execution_count": 55,
     "metadata": {},
     "output_type": "execute_result"
    }
   ],
   "source": [
    "f.readline()"
   ]
  },
  {
   "cell_type": "code",
   "execution_count": 61,
   "metadata": {},
   "outputs": [],
   "source": [
    "f.close()"
   ]
  },
  {
   "cell_type": "code",
   "execution_count": 68,
   "metadata": {},
   "outputs": [
    {
     "name": "stdout",
     "output_type": "stream",
     "text": [
      "Машина заняла лот 0\n",
      "Машина не смогла занять лот 0\n",
      "Машина заняла лот 1\n",
      "Машина заняла лот 3\n",
      "Машина уехала с лота 1\n",
      "Машина заняла лот 1\n",
      "Машина уехала с лота 0\n"
     ]
    }
   ],
   "source": [
    "parking = {0: False, 1: False, 2: False, 3: False}\n",
    "\n",
    "with open('input.txt', 'r') as f:\n",
    "    x = f.readline().strip()\n",
    "\n",
    "    while x != '':\n",
    "        index, action = x.split()\n",
    "        index = int(index)\n",
    "\n",
    "        if action == 'in':\n",
    "            log = parking_lot(parking, index)\n",
    "        elif action == 'out':\n",
    "            log = parking_free(parking, index)\n",
    "        else:\n",
    "            log = \"Такая команда не предусмотрена\"\n",
    "        print(log)\n",
    "        x = f.readline().strip()\n"
   ]
  },
  {
   "cell_type": "code",
   "execution_count": 72,
   "metadata": {},
   "outputs": [],
   "source": [
    "with open('output.txt', 'w') as f:\n",
    "    f.write('Ахахахахах')\n",
    "    f.write('\\n')\n",
    "    f.write('Ахахахахах')"
   ]
  },
  {
   "cell_type": "code",
   "execution_count": 74,
   "metadata": {},
   "outputs": [],
   "source": [
    "with open('output.txt', 'a') as f:\n",
    "    f.write('\\n')\n",
    "    f.write('Азазазазазаз')"
   ]
  },
  {
   "cell_type": "markdown",
   "metadata": {},
   "source": [
    "## Задачка 4. Последовательность ДНК.\n",
    "\n",
    "Последовательность ДНК содержит четыре вида символов: 'A', 'C', 'G', и 'T'.\n",
    "Напишите функцию, которая будет возращать все подпоследовательности длины 10, которые встретились чаще одного раза."
   ]
  },
  {
   "cell_type": "code",
   "execution_count": 80,
   "metadata": {},
   "outputs": [
    {
     "data": {
      "text/plain": [
       "['AAAAACCCCC', 'CCCCCAAAAA']"
      ]
     },
     "execution_count": 80,
     "metadata": {},
     "output_type": "execute_result"
    }
   ],
   "source": [
    "dna_line = 'AAAAACCCCCAAAAACCCCCCAAAAAGGGTTT'  \n",
    "# Ответ: ['AAAAACCCCC','CCCCCAAAAA']\n",
    "\n",
    "n = len(dna_line)\n",
    "\n",
    "dna_dct = defaultdict(lambda: 0)\n",
    "\n",
    "for i in range(n - 10):\n",
    "    subseq = dna_line[i: i + 10]\n",
    "    dna_dct[subseq] += 1\n",
    "\n",
    "# ans = [ ]\n",
    "# for k,v in dna_dct.items():\n",
    "#     if v > 1:\n",
    "#         ans.append(k)\n",
    "# ans\n",
    "\n",
    "ans = [k for k,v in dna_dct.items() if v > 1]\n",
    "ans"
   ]
  }
 ],
 "metadata": {
  "kernelspec": {
   "display_name": "Python 3",
   "language": "python",
   "name": "python3"
  },
  "language_info": {
   "codemirror_mode": {
    "name": "ipython",
    "version": 3
   },
   "file_extension": ".py",
   "mimetype": "text/x-python",
   "name": "python",
   "nbconvert_exporter": "python",
   "pygments_lexer": "ipython3",
   "version": "3.11.6"
  }
 },
 "nbformat": 4,
 "nbformat_minor": 2
}
