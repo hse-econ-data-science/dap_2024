{
 "cells": [
  {
   "cell_type": "markdown",
   "id": "873b4770",
   "metadata": {},
   "source": [
    "# Программирование на Python \n",
    "\n",
    "# Функции\n",
    "\n",
    "\n",
    "*Автор: Паршина Анастасия, НИУ ВШЭ (tg: @aaparshina)*\n",
    "\n",
    "*Дополнила: Лика Капустина, НИУ ВШЭ (tg: @lika_kapustina)*\n",
    "\n",
    "## Содержание\n",
    "\n",
    "1. [О модулях и импорте функций](#par1)\n",
    "2. [Определение собственной функции](#par2)\n",
    "   1. [Определение функции через `def`](#par2.1)\n",
    "   2. [Пара слов про аннотации к функции](#par2.2)\n",
    "   3. [Аргументы функции](#par2.3)\n",
    "   4. [Глобальные и локальные переменные](#par2.4)\n",
    "3. [Анонимная функция](#par3)\n",
    "3. [Про собрата `map()` — `filter()`](#par4)\n",
    "4. [Дополнительные материалы](#parlast)"
   ]
  },
  {
   "cell_type": "markdown",
   "id": "3118e04e",
   "metadata": {},
   "source": [
    "## О модулях и импорте функций <a name=\"par1\"></a>\n",
    "\n",
    "На самом деле, с функциями мы уже работали. Например, импользовали встроенные функции типа `print()`, `len()`, `round()` (они еще подсвечиваются для нас зеленым). Также мы уже импортировали функции из модулей, и вот теперь подробнее разберемся о том, как это работает. \n",
    "\n",
    "Зачастую в модуль объединены сюжетно похожие функции, переменные и инструменты. Например, в модуле `math` хранится все для математических операций. Как узнать, какой модуль нам нужен? Загуглить. Это нормальная практика, никто и не требует от вас знать название всех модулей и функций в этих модулей. \n",
    "\n",
    "Для примера сейчас импортируем пару функций. Предположим, что нам нужно вычислить квадратный корень. "
   ]
  },
  {
   "cell_type": "code",
   "execution_count": 1,
   "id": "09543e6e",
   "metadata": {},
   "outputs": [],
   "source": [
    "import math  # обратились к модулю"
   ]
  },
  {
   "cell_type": "markdown",
   "id": "c3f7fad1",
   "metadata": {},
   "source": [
    "Если мы хотим использовать функции из модуля, то так нужно к нему обращаться:"
   ]
  },
  {
   "cell_type": "code",
   "execution_count": 2,
   "id": "21d76109",
   "metadata": {},
   "outputs": [
    {
     "data": {
      "text/plain": [
       "5.0"
      ]
     },
     "execution_count": 2,
     "metadata": {},
     "output_type": "execute_result"
    }
   ],
   "source": [
    "math.sqrt(25) # вызвали функцию"
   ]
  },
  {
   "cell_type": "markdown",
   "id": "386f81a2",
   "metadata": {},
   "source": [
    "Чтобы каждый раз так не делать, можно импортировать сразу необходимые функции (или вообще все):"
   ]
  },
  {
   "cell_type": "code",
   "execution_count": 3,
   "id": "0362c363",
   "metadata": {},
   "outputs": [],
   "source": [
    "# from math import *      # а так можно импортировать вообще все\n",
    "from math import sqrt, pi # импортировали только функцию sqrt и переменную с числом пи"
   ]
  },
  {
   "cell_type": "code",
   "execution_count": 4,
   "id": "30c5ad32",
   "metadata": {},
   "outputs": [
    {
     "data": {
      "text/plain": [
       "5.0"
      ]
     },
     "execution_count": 4,
     "metadata": {},
     "output_type": "execute_result"
    }
   ],
   "source": [
    "sqrt(25)"
   ]
  },
  {
   "cell_type": "code",
   "execution_count": 5,
   "id": "c03225d0",
   "metadata": {},
   "outputs": [
    {
     "data": {
      "text/plain": [
       "3.141592653589793"
      ]
     },
     "execution_count": 5,
     "metadata": {},
     "output_type": "execute_result"
    }
   ],
   "source": [
    "pi "
   ]
  },
  {
   "cell_type": "markdown",
   "id": "6aad5bdb",
   "metadata": {},
   "source": [
    "Также, если вдруг нужно сократить название модуля, то можно импортировать его под псевдонимом. Так мы делали при работе с API YouTube — `import googleapiclient.discovery as api` (сократили вот это все до просто `api`).\n",
    "\n",
    "Также мы можем посмотреть документацию к импортированной функции:"
   ]
  },
  {
   "cell_type": "code",
   "execution_count": 6,
   "id": "1e7f86b6",
   "metadata": {},
   "outputs": [
    {
     "name": "stdout",
     "output_type": "stream",
     "text": [
      "Help on built-in function sqrt in module math:\n",
      "\n",
      "sqrt(x, /)\n",
      "    Return the square root of x.\n",
      "\n"
     ]
    }
   ],
   "source": [
    "help(sqrt)"
   ]
  },
  {
   "cell_type": "markdown",
   "id": "c4e310f0",
   "metadata": {},
   "source": [
    "Обратите внимание, что мы видим при работе функции (по крайней мере пока):\n",
    "    \n",
    "   + у нее есть название (как бы очевидно это ни было) — `sqrt`\n",
    "   + мы ей что-то «скармливаем», то есть подаем в качестве аргумента — `25`\n",
    "   + и она нам что-то возвращает — `5.0`\n",
    "\n",
    "   + и можно также прописать документацию \n",
    "\n",
    "Нам ничего не мешает написать что-то такое же. "
   ]
  },
  {
   "cell_type": "markdown",
   "id": "c074b239",
   "metadata": {},
   "source": [
    "## Определение собственной функции <a name=\"par2\"></a>\n",
    "\n",
    "### Определение функции через `def` <a name=\"par2.1\"></a>\n",
    "\n",
    "Давайте сделаем функцию, которая возведет некое число в степень, которую мы хотим. Я намеренно назову ее `sqrt` и посмотрим, как оно будет работать с функцией, которую мы импортировали ранее. Но вообще к названиям функций применимы все те правила, которые применимы к названиям переменных. "
   ]
  },
  {
   "cell_type": "code",
   "execution_count": 7,
   "id": "cb5be1a8",
   "metadata": {},
   "outputs": [],
   "source": [
    "def sqrt(number, degree):\n",
    "    '''\n",
    "    number — число, которое возведется в степень degree\n",
    "    '''\n",
    "    return number ** degree"
   ]
  },
  {
   "cell_type": "markdown",
   "id": "5d183e4e",
   "metadata": {},
   "source": [
    "Итак, у нас есть: \n",
    "+ название — `sqrt`\n",
    "+ два аргумента — number, degree\n",
    "+ строка документации\n",
    "+ возвращаемое значение — number ** degree\n",
    "\n",
    "Вроде бы должно работать. Но сначала проверим, работает ли функция, которую мы импортировали из модуля `math`:"
   ]
  },
  {
   "cell_type": "code",
   "execution_count": 8,
   "id": "b5220738",
   "metadata": {},
   "outputs": [
    {
     "ename": "TypeError",
     "evalue": "sqrt() missing 1 required positional argument: 'degree'",
     "output_type": "error",
     "traceback": [
      "\u001b[0;31m---------------------------------------------------------------------------\u001b[0m",
      "\u001b[0;31mTypeError\u001b[0m                                 Traceback (most recent call last)",
      "Input \u001b[0;32mIn [8]\u001b[0m, in \u001b[0;36m<cell line: 1>\u001b[0;34m()\u001b[0m\n\u001b[0;32m----> 1\u001b[0m \u001b[43msqrt\u001b[49m\u001b[43m(\u001b[49m\u001b[38;5;241;43m25\u001b[39;49m\u001b[43m)\u001b[49m\n",
      "\u001b[0;31mTypeError\u001b[0m: sqrt() missing 1 required positional argument: 'degree'"
     ]
    }
   ],
   "source": [
    "sqrt(25)"
   ]
  },
  {
   "cell_type": "markdown",
   "id": "4336042e",
   "metadata": {},
   "source": [
    "Ошибка указывает на то, что отсутствует второй аргумент нашей функции. Делаем вывод, что, назвав функцию `sqrt`, мы забыли о той, которая берет квадратный корень. Работает все также, как и с переменными. "
   ]
  },
  {
   "cell_type": "code",
   "execution_count": 9,
   "id": "786b0ec7",
   "metadata": {},
   "outputs": [
    {
     "data": {
      "text/plain": [
       "256"
      ]
     },
     "execution_count": 9,
     "metadata": {},
     "output_type": "execute_result"
    }
   ],
   "source": [
    "sqrt(2, 8) # возвели 2 в 8 степень"
   ]
  },
  {
   "cell_type": "markdown",
   "id": "b5d941f6",
   "metadata": {},
   "source": [
    "Обратите внимание, что поменять местами аргументы можно, но тогда мы возведем 8 в степень 2.\n",
    "\n",
    "Либо, если мы знаем, как называются аргументы, то мы можем точно указать, какое значение принимает каждый."
   ]
  },
  {
   "cell_type": "code",
   "execution_count": 10,
   "id": "f37cb714",
   "metadata": {},
   "outputs": [
    {
     "data": {
      "text/plain": [
       "256"
      ]
     },
     "execution_count": 10,
     "metadata": {},
     "output_type": "execute_result"
    }
   ],
   "source": [
    "sqrt(degree = 8, number = 2) # возвели 2 в 8 степень"
   ]
  },
  {
   "cell_type": "markdown",
   "id": "be950e7d",
   "metadata": {},
   "source": [
    "Откуда узнать названия аргументов? Это прописывают в документации. К слову, у нашей функции она тоже есть:"
   ]
  },
  {
   "cell_type": "code",
   "execution_count": 11,
   "id": "4ec8ebd7",
   "metadata": {},
   "outputs": [
    {
     "name": "stdout",
     "output_type": "stream",
     "text": [
      "Help on function sqrt in module __main__:\n",
      "\n",
      "sqrt(number, degree)\n",
      "    number — число, которое возведется в степень degree\n",
      "\n"
     ]
    }
   ],
   "source": [
    "help(sqrt)"
   ]
  },
  {
   "cell_type": "markdown",
   "id": "146ae9c9",
   "metadata": {},
   "source": [
    "Но как проконтролировать, что нашей функции скормлено именно число? "
   ]
  },
  {
   "cell_type": "code",
   "execution_count": 12,
   "id": "055108c4",
   "metadata": {},
   "outputs": [
    {
     "ename": "TypeError",
     "evalue": "unsupported operand type(s) for ** or pow(): 'str' and 'int'",
     "output_type": "error",
     "traceback": [
      "\u001b[0;31m---------------------------------------------------------------------------\u001b[0m",
      "\u001b[0;31mTypeError\u001b[0m                                 Traceback (most recent call last)",
      "Input \u001b[0;32mIn [12]\u001b[0m, in \u001b[0;36m<cell line: 1>\u001b[0;34m()\u001b[0m\n\u001b[0;32m----> 1\u001b[0m \u001b[43msqrt\u001b[49m\u001b[43m(\u001b[49m\u001b[38;5;124;43m'\u001b[39;49m\u001b[38;5;124;43m2\u001b[39;49m\u001b[38;5;124;43m'\u001b[39;49m\u001b[43m,\u001b[49m\u001b[43m \u001b[49m\u001b[38;5;241;43m8\u001b[39;49m\u001b[43m)\u001b[49m\n",
      "Input \u001b[0;32mIn [7]\u001b[0m, in \u001b[0;36msqrt\u001b[0;34m(number, degree)\u001b[0m\n\u001b[1;32m      1\u001b[0m \u001b[38;5;28;01mdef\u001b[39;00m \u001b[38;5;21msqrt\u001b[39m(number, degree):\n\u001b[1;32m      2\u001b[0m     \u001b[38;5;124;03m'''\u001b[39;00m\n\u001b[1;32m      3\u001b[0m \u001b[38;5;124;03m    number — число, которое возведется в степень degree\u001b[39;00m\n\u001b[1;32m      4\u001b[0m \u001b[38;5;124;03m    '''\u001b[39;00m\n\u001b[0;32m----> 5\u001b[0m     \u001b[38;5;28;01mreturn\u001b[39;00m \u001b[43mnumber\u001b[49m\u001b[43m \u001b[49m\u001b[38;5;241;43m*\u001b[39;49m\u001b[38;5;241;43m*\u001b[39;49m\u001b[43m \u001b[49m\u001b[43mdegree\u001b[49m\n",
      "\u001b[0;31mTypeError\u001b[0m: unsupported operand type(s) for ** or pow(): 'str' and 'int'"
     ]
    }
   ],
   "source": [
    "sqrt('2', 8)"
   ]
  },
  {
   "cell_type": "markdown",
   "id": "8538292e",
   "metadata": {},
   "source": [
    "Обратите внимание, на каком моменте возникла ошибка — функция съела все, что мы ей дали, но выдала ошибку, когда попыталась возвести строку в степень.\n",
    "\n",
    "Конечно, можно проверять тип данных через условную конструкцию (обратите внимание на два `return`, подумайте, как они работают):"
   ]
  },
  {
   "cell_type": "code",
   "execution_count": 13,
   "id": "171954e2",
   "metadata": {},
   "outputs": [],
   "source": [
    "def sqrt(number, degree):\n",
    "    '''\n",
    "    number — число, которое возведется в степень degree\n",
    "    '''\n",
    "    if type(number) == int and type(degree) == int: # тут еще и float быть может, но пока опустим это\n",
    "        return number ** degree\n",
    "    return 'Неправильный тип данных'"
   ]
  },
  {
   "cell_type": "code",
   "execution_count": 14,
   "id": "7232b167",
   "metadata": {},
   "outputs": [
    {
     "data": {
      "text/plain": [
       "'Неправильный тип данных'"
      ]
     },
     "execution_count": 14,
     "metadata": {},
     "output_type": "execute_result"
    }
   ],
   "source": [
    "sqrt('2', 8)"
   ]
  },
  {
   "cell_type": "markdown",
   "id": "fb7ec84a",
   "metadata": {},
   "source": [
    "Но, это очень длинно. Можно просто заранее указать, какой тип данных ожидается у функции на входе и какой тип данных она выдает на выходе.\n",
    "\n",
    "### Пара слов про аннотации к функции <a name=\"par2.2\"></a>\n",
    "\n",
    "Сейчас речь пойдет о так называемых аннотациях, которые <b>не</b> являются обязательными при создании функции. Фактически мы вроде как говорим: аргументы являются целыми числами, вывод является целым числом. Это не так работает, дочитайте до конца!!!"
   ]
  },
  {
   "cell_type": "code",
   "execution_count": 15,
   "id": "aa7d1a0d",
   "metadata": {},
   "outputs": [],
   "source": [
    "def sqrt(number: int, degree: int) -> int:\n",
    "    '''\n",
    "    number — число, которое возведется в степень degree\n",
    "    '''\n",
    "    return number ** degree"
   ]
  },
  {
   "cell_type": "markdown",
   "id": "98909b58",
   "metadata": {},
   "source": [
    "Казалось бы — теперь функция не должна работать вообще, но:"
   ]
  },
  {
   "cell_type": "code",
   "execution_count": 16,
   "id": "8088c235",
   "metadata": {},
   "outputs": [
    {
     "ename": "TypeError",
     "evalue": "unsupported operand type(s) for ** or pow(): 'str' and 'int'",
     "output_type": "error",
     "traceback": [
      "\u001b[0;31m---------------------------------------------------------------------------\u001b[0m",
      "\u001b[0;31mTypeError\u001b[0m                                 Traceback (most recent call last)",
      "Input \u001b[0;32mIn [16]\u001b[0m, in \u001b[0;36m<cell line: 1>\u001b[0;34m()\u001b[0m\n\u001b[0;32m----> 1\u001b[0m \u001b[43msqrt\u001b[49m\u001b[43m(\u001b[49m\u001b[38;5;124;43m'\u001b[39;49m\u001b[38;5;124;43m2\u001b[39;49m\u001b[38;5;124;43m'\u001b[39;49m\u001b[43m,\u001b[49m\u001b[43m \u001b[49m\u001b[38;5;241;43m8\u001b[39;49m\u001b[43m)\u001b[49m\n",
      "Input \u001b[0;32mIn [15]\u001b[0m, in \u001b[0;36msqrt\u001b[0;34m(number, degree)\u001b[0m\n\u001b[1;32m      1\u001b[0m \u001b[38;5;28;01mdef\u001b[39;00m \u001b[38;5;21msqrt\u001b[39m(number: \u001b[38;5;28mint\u001b[39m, degree: \u001b[38;5;28mint\u001b[39m) \u001b[38;5;241m-\u001b[39m\u001b[38;5;241m>\u001b[39m \u001b[38;5;28mint\u001b[39m:\n\u001b[1;32m      2\u001b[0m     \u001b[38;5;124;03m'''\u001b[39;00m\n\u001b[1;32m      3\u001b[0m \u001b[38;5;124;03m    number — число, которое возведется в степень degree\u001b[39;00m\n\u001b[1;32m      4\u001b[0m \u001b[38;5;124;03m    '''\u001b[39;00m\n\u001b[0;32m----> 5\u001b[0m     \u001b[38;5;28;01mreturn\u001b[39;00m \u001b[43mnumber\u001b[49m\u001b[43m \u001b[49m\u001b[38;5;241;43m*\u001b[39;49m\u001b[38;5;241;43m*\u001b[39;49m\u001b[43m \u001b[49m\u001b[43mdegree\u001b[49m\n",
      "\u001b[0;31mTypeError\u001b[0m: unsupported operand type(s) for ** or pow(): 'str' and 'int'"
     ]
    }
   ],
   "source": [
    "sqrt('2', 8)"
   ]
  },
  {
   "cell_type": "markdown",
   "id": "b4f1f907",
   "metadata": {},
   "source": [
    "Аннотация никак не влияет на работу функции, но позволяет сторонним инструментам проверки кода отлавливать ошибки (более подробно описано в статье из Доп. материалов)."
   ]
  },
  {
   "cell_type": "markdown",
   "id": "b4fdf61f",
   "metadata": {},
   "source": [
    "### Аргументы функции <a name=\"par2.3\"></a>\n",
    "\n",
    "Об этом мы уже начали говорить. Добавим лишь то, что при объявлении функции можно выставить какое-то дефолтное значение аргумента, которое будет подставяться, если мы ничего не указали."
   ]
  },
  {
   "cell_type": "code",
   "execution_count": 17,
   "id": "1676d777",
   "metadata": {},
   "outputs": [],
   "source": [
    "def get_degree(number, degree = 2):\n",
    "    '''\n",
    "    number — число, которое возведется в степень degree\n",
    "    '''\n",
    "    return number ** degree"
   ]
  },
  {
   "cell_type": "markdown",
   "id": "7b1f695b",
   "metadata": {},
   "source": [
    "Например, сейчас, если я вызову функцию, не подставив второй аргумент, то по умолчанию вместо него будет стоять 2."
   ]
  },
  {
   "cell_type": "code",
   "execution_count": 18,
   "id": "00e5a381",
   "metadata": {},
   "outputs": [
    {
     "data": {
      "text/plain": [
       "25"
      ]
     },
     "execution_count": 18,
     "metadata": {},
     "output_type": "execute_result"
    }
   ],
   "source": [
    "get_degree(5)"
   ]
  },
  {
   "cell_type": "code",
   "execution_count": 19,
   "id": "fa3b9919",
   "metadata": {},
   "outputs": [
    {
     "data": {
      "text/plain": [
       "125"
      ]
     },
     "execution_count": 19,
     "metadata": {},
     "output_type": "execute_result"
    }
   ],
   "source": [
    "get_degree(5, 3)"
   ]
  },
  {
   "cell_type": "markdown",
   "id": "f5d9198c",
   "metadata": {},
   "source": [
    "Помимо таких нюансов, есть еще возможность передавать функции неограниченное число *неименованных* аргументов (тут нам поможет знак `*`)."
   ]
  },
  {
   "cell_type": "code",
   "execution_count": 20,
   "id": "d5ef33ee",
   "metadata": {},
   "outputs": [
    {
     "name": "stdout",
     "output_type": "stream",
     "text": [
      "(1, 9, 'qwerty', 8)\n"
     ]
    }
   ],
   "source": [
    "def our_sum(*args): # args = arguments\n",
    "    return args\n",
    "\n",
    "print(our_sum(1, 9, 'qwerty', 8))"
   ]
  },
  {
   "cell_type": "markdown",
   "id": "3f91a71c",
   "metadata": {},
   "source": [
    "В итоге все наши аргументы преобразовались в один — кортеж, итерируемый объект, с которым дальше можно делать все, что хотим."
   ]
  },
  {
   "cell_type": "code",
   "execution_count": 21,
   "id": "d333bf81",
   "metadata": {},
   "outputs": [
    {
     "name": "stdout",
     "output_type": "stream",
     "text": [
      "21\n"
     ]
    }
   ],
   "source": [
    "def our_sum(*args): # args = arguments\n",
    "    summa = 0\n",
    "    \n",
    "    for var in args:\n",
    "        summa += var\n",
    "        \n",
    "    return summa\n",
    "\n",
    "print(our_sum(1, 9, 3, 8))"
   ]
  },
  {
   "cell_type": "markdown",
   "id": "8da0adf9",
   "metadata": {},
   "source": [
    "Именнованные аргументы также можно передать, но для этого мы используем уже два знака `**`."
   ]
  },
  {
   "cell_type": "code",
   "execution_count": 22,
   "id": "a0cfa4d4",
   "metadata": {},
   "outputs": [
    {
     "name": "stdout",
     "output_type": "stream",
     "text": [
      "name — Anastasia\n",
      "surname — Parshina\n",
      "Добро пожаловать, Anastasia Parshina\n"
     ]
    }
   ],
   "source": [
    "def welcome(**kwargs): # kwargs = keyword arguments\n",
    "    \n",
    "    for key, value in kwargs.items():\n",
    "        print(f'{key} — {value}')\n",
    "    \n",
    "    print(f'Добро пожаловать, {\" \".join(kwargs.values())}')\n",
    "    \n",
    "welcome(name = 'Anastasia', surname = 'Parshina')"
   ]
  },
  {
   "cell_type": "markdown",
   "id": "ea3e5305",
   "metadata": {},
   "source": [
    "Обратите внимание, что мы написали функцию, которая ничего не возвращает, а только печатает. Такие функции тоже бывают, как, например, бывают и те, которым не передаются какие либо аргументы. Чем больше вы с ними работаете и пишете свои собственные функции, тем больше узнаете!"
   ]
  },
  {
   "cell_type": "markdown",
   "id": "074a553e",
   "metadata": {},
   "source": [
    "<center><b><font size=4>Задача №1</font></b></center>\n",
    "\n",
    "**Напишите три функции и проаннотируйте переменные, которые они принимают на вход:**\n",
    "\n",
    "**Функция 1. Создайте функцию `return_gpa()`**, которая принимает на вход последовательность с оценками студента по дисциплине и возвращает его средний балл.\n",
    "\n",
    "Пример работы:\n",
    "```\n",
    "print(return_gpa((10, 5, 0))) # 5.0\n",
    "print(return_gpa((10, 9, 9, 8, 10))) # 9.2\n",
    "print(return_gpa((5, 5, 6, 10))) # 6.5\n",
    "```\n",
    "\n",
    "**Функция 2. Создайте функцию `return_last_name()`**, которая должна принимать на ход ФИО студента в формате `Фамилия Имя Отчество` и возвращать его фамилию.\n",
    "\n",
    "Пример работы:\n",
    "```\n",
    "print(return_last_name('Музыка Кирилл Дмитриевич') # Музыка\n",
    "print(return_last_name('Паршина Анастасия Алексеевна') # Паршина\n",
    "print(return_last_name('Капустина Лика Владимировна') # Капустина\n",
    "```\n",
    "\n",
    "**Функция 3. Создайте функцию `return_only_digits()`**, которая должна принимать на вход номер телефона в любом формате (например, `8-800-555-35-35` или `8(800)555-35-35`) и возвращать только цифры. \n",
    "\n",
    "Пример работы:\n",
    "```\n",
    "print(return_only_digits('8-800-555-35-35')) # 88005553535\n",
    "print(return_only_digits('8(800)555-35-35')) # 88005553535\n",
    "print(return_only_digits('+7-(800)-555-35-35-')) # 88005553535\n",
    "```"
   ]
  },
  {
   "cell_type": "code",
   "execution_count": 26,
   "id": "53733e7a",
   "metadata": {},
   "outputs": [],
   "source": [
    "# YOUR CODE HERE"
   ]
  },
  {
   "cell_type": "markdown",
   "id": "30f4e339",
   "metadata": {},
   "source": [
    "### Глобальные и локальные переменные <a name=\"par2.4\"></a>\n",
    "\n",
    "Простыми словами: локальные переменные — это те, которые создаются внутри функции. "
   ]
  },
  {
   "cell_type": "code",
   "execution_count": 23,
   "id": "86fc43ec",
   "metadata": {},
   "outputs": [
    {
     "name": "stdout",
     "output_type": "stream",
     "text": [
      "10\n",
      "6\n",
      "10\n"
     ]
    }
   ],
   "source": [
    "def our_sum(number): \n",
    "    summa = 0\n",
    "    \n",
    "    for var in range(1, number+1):\n",
    "        summa += var\n",
    "    \n",
    "    print(summa)\n",
    "    return summa\n",
    "\n",
    "#print(summa)\n",
    "\n",
    "summa = 10   # глобальная переменная\n",
    "print(summa)\n",
    "\n",
    "our_sum(3)  # здесь напечаталось 6\n",
    "print(summa)"
   ]
  },
  {
   "cell_type": "markdown",
   "id": "f36e3ddd",
   "metadata": {},
   "source": [
    "Где это может пригодиться? Представьте, что вы пишете приложение и хотите, чтобы оно приветствовало пользователя в зависимости от выбранного языка.\n",
    "\n",
    "Предположим, что опции всего две: `ru` и `eng`, а если введено что-то еще, то функция взывается снова (к слову, это называется рексурсия)."
   ]
  },
  {
   "cell_type": "code",
   "execution_count": 24,
   "id": "6b9f8bed",
   "metadata": {},
   "outputs": [
    {
     "name": "stdout",
     "output_type": "stream",
     "text": [
      "Wrong language! Try again!\n",
      "fr\n",
      "Wrong language! Try again!\n",
      "eng\n",
      "Welcome, Anasasia\n"
     ]
    }
   ],
   "source": [
    "def welcome2(name, language):\n",
    "    if language == 'ru':\n",
    "        print(\"Добро пожаловать,\", name)\n",
    "    elif language == 'eng':\n",
    "        print('Welcome,', name)\n",
    "    else:\n",
    "        print('Wrong language! Try again!')\n",
    "        language = input()\n",
    "        welcome2(name, language)\n",
    "        \n",
    "welcome2('Anasasia', 'e')"
   ]
  },
  {
   "cell_type": "markdown",
   "id": "c063517d",
   "metadata": {},
   "source": [
    "Но если это приложение, то язык там может быть задействован не только в приветствии, а указывать каждый раз новое значение языка как-то слошком не рационально. \n",
    "\n",
    "Важно помнить, что глобальные переменные доступны только для чтения, но не для модификации изнутри функции.\n",
    "\n",
    "Ситуация, при которой функция модифицирует глобальную переменную, обычно не очень желательна: функции должны быть изолированы от кода, который из запускает, иначе вы быстро перестанете понимать, что делает ваша программа. "
   ]
  },
  {
   "cell_type": "code",
   "execution_count": 25,
   "id": "d9aa5acb",
   "metadata": {},
   "outputs": [
    {
     "name": "stdout",
     "output_type": "stream",
     "text": [
      "Wrong language! Try again!\n",
      "en\n",
      "Wrong language! Try again!\n",
      "ru\n",
      "Добро пожаловать, Анастасия\n",
      "ru\n"
     ]
    }
   ],
   "source": [
    "def welcome3(name):\n",
    "    global language\n",
    "    if language == 'ru':\n",
    "        print(\"Добро пожаловать,\", name)\n",
    "    elif language == 'eng':\n",
    "        print('Welcome,', name)\n",
    "    else:\n",
    "        print('Wrong language! Try again!')\n",
    "        language = input()\n",
    "        welcome3(name)\n",
    "\n",
    "language = 'fr'        \n",
    "welcome3('Анастасия')\n",
    "\n",
    "print(language)"
   ]
  },
  {
   "cell_type": "markdown",
   "id": "bbb164c8",
   "metadata": {},
   "source": [
    "Могли ли мы также поступить с нашей переменной `summa`?"
   ]
  },
  {
   "cell_type": "code",
   "execution_count": 26,
   "id": "62a33ded",
   "metadata": {},
   "outputs": [
    {
     "ename": "UnboundLocalError",
     "evalue": "local variable 'summa' referenced before assignment",
     "output_type": "error",
     "traceback": [
      "\u001b[0;31m---------------------------------------------------------------------------\u001b[0m",
      "\u001b[0;31mUnboundLocalError\u001b[0m                         Traceback (most recent call last)",
      "Input \u001b[0;32mIn [26]\u001b[0m, in \u001b[0;36m<cell line: 10>\u001b[0;34m()\u001b[0m\n\u001b[1;32m      7\u001b[0m     \u001b[38;5;28;01mreturn\u001b[39;00m summa\n\u001b[1;32m      9\u001b[0m summa \u001b[38;5;241m=\u001b[39m \u001b[38;5;241m0\u001b[39m\n\u001b[0;32m---> 10\u001b[0m \u001b[43mour_sum2\u001b[49m\u001b[43m(\u001b[49m\u001b[38;5;241;43m10\u001b[39;49m\u001b[43m)\u001b[49m\n",
      "Input \u001b[0;32mIn [26]\u001b[0m, in \u001b[0;36mour_sum2\u001b[0;34m(number)\u001b[0m\n\u001b[1;32m      1\u001b[0m \u001b[38;5;28;01mdef\u001b[39;00m \u001b[38;5;21mour_sum2\u001b[39m(number):     \n\u001b[1;32m      3\u001b[0m     \u001b[38;5;28;01mfor\u001b[39;00m var \u001b[38;5;129;01min\u001b[39;00m \u001b[38;5;28mrange\u001b[39m(\u001b[38;5;241m1\u001b[39m, number\u001b[38;5;241m+\u001b[39m\u001b[38;5;241m1\u001b[39m):\n\u001b[0;32m----> 4\u001b[0m         summa \u001b[38;5;241m+\u001b[39m\u001b[38;5;241m=\u001b[39m var\n\u001b[1;32m      6\u001b[0m     \u001b[38;5;28mprint\u001b[39m(summa)\n\u001b[1;32m      7\u001b[0m     \u001b[38;5;28;01mreturn\u001b[39;00m summa\n",
      "\u001b[0;31mUnboundLocalError\u001b[0m: local variable 'summa' referenced before assignment"
     ]
    }
   ],
   "source": [
    "def our_sum2(number):     \n",
    "    \n",
    "    for var in range(1, number+1):\n",
    "        summa += var\n",
    "    \n",
    "    print(summa)\n",
    "    return summa\n",
    "\n",
    "summa = 0\n",
    "our_sum2(10)"
   ]
  },
  {
   "cell_type": "markdown",
   "id": "1992f360",
   "metadata": {},
   "source": [
    "На нас справделиво ругаются, что мы хотим поменять что-то глобальное. Но если мы все-таки упрямые и очень хотим, то слово `global` в помощь."
   ]
  },
  {
   "cell_type": "code",
   "execution_count": 27,
   "id": "0bba707b",
   "metadata": {},
   "outputs": [
    {
     "name": "stdout",
     "output_type": "stream",
     "text": [
      "55\n"
     ]
    },
    {
     "data": {
      "text/plain": [
       "55"
      ]
     },
     "execution_count": 27,
     "metadata": {},
     "output_type": "execute_result"
    }
   ],
   "source": [
    "def our_sum3(number):     \n",
    "    global summa\n",
    "    for var in range(1, number+1):\n",
    "        summa += var\n",
    "    \n",
    "    print(summa)\n",
    "    return summa\n",
    "\n",
    "summa = 0\n",
    "our_sum3(10)"
   ]
  },
  {
   "cell_type": "markdown",
   "id": "c7dcac6d",
   "metadata": {},
   "source": [
    "В таком случае она сработает, но! при повторном применении будет прибавлять что-то уже к 55. "
   ]
  },
  {
   "cell_type": "code",
   "execution_count": 28,
   "id": "fc0ff345",
   "metadata": {},
   "outputs": [
    {
     "name": "stdout",
     "output_type": "stream",
     "text": [
      "61\n"
     ]
    },
    {
     "data": {
      "text/plain": [
       "61"
      ]
     },
     "execution_count": 28,
     "metadata": {},
     "output_type": "execute_result"
    }
   ],
   "source": [
    "our_sum3(3)"
   ]
  },
  {
   "cell_type": "markdown",
   "id": "c68e5470",
   "metadata": {},
   "source": [
    "## Анонимная функция <a name=\"par3\"></a>\n",
    "\n",
    "А вот ее мы тоже уже встречали! Помните про слово `lambda`? Так вот тут будет речь о нем.\n",
    "\n",
    "Бывает такое, что функция потребуется нам всего раз — здесь и сейчас. Тогда зачем нам как-то ее определять и давать ей название? Можно просто это название заменить словом `lambda`.\n",
    "\n",
    "`lambda`-функции принимают любое количество аргументов, но не могут содержать несколько выражений и всегда возвращают только одно значение.\n",
    "\n",
    "Отдельно синтаксис `lambda`-функций покажется вам странным, но выглядит он так:\n",
    "\n",
    "    `(lambda arguments: exprission)(data)`\n",
    "    \n",
    "Идея такая: \n",
    "\n",
    "+ `arguments` — аргументы, с которыми работает функция\n",
    "+ `exprission` — что функция с этими аргументами должна делать\n",
    "+ `data` — какие значения эти аргументы принимают"
   ]
  },
  {
   "cell_type": "code",
   "execution_count": 29,
   "id": "919d56da",
   "metadata": {},
   "outputs": [
    {
     "data": {
      "text/plain": [
       "9"
      ]
     },
     "execution_count": 29,
     "metadata": {},
     "output_type": "execute_result"
    }
   ],
   "source": [
    "(lambda var1, var2, var3: (var1 + var2) * var3)(1, 2, 3)"
   ]
  },
  {
   "cell_type": "markdown",
   "id": "03a90f66",
   "metadata": {},
   "source": [
    "А вот аналогичное действие, только с созданием функции через `def`:"
   ]
  },
  {
   "cell_type": "code",
   "execution_count": 30,
   "id": "fa76c9f9",
   "metadata": {},
   "outputs": [
    {
     "data": {
      "text/plain": [
       "9"
      ]
     },
     "execution_count": 30,
     "metadata": {},
     "output_type": "execute_result"
    }
   ],
   "source": [
    "def new_func(var1, var2, var3):\n",
    "    return (var1 + var2) * var3\n",
    "\n",
    "new_func(1, 2, 3)"
   ]
  },
  {
   "cell_type": "markdown",
   "id": "58a46cd8",
   "metadata": {},
   "source": [
    "Условные конструкции с ней также работают (но только простой `if-else`):"
   ]
  },
  {
   "cell_type": "code",
   "execution_count": 31,
   "id": "8d19244d",
   "metadata": {},
   "outputs": [
    {
     "data": {
      "text/plain": [
       "[2]"
      ]
     },
     "execution_count": 31,
     "metadata": {},
     "output_type": "execute_result"
    }
   ],
   "source": [
    "(lambda *args: [arg for arg in args if arg % 2 == 0])(1, 2, 3)"
   ]
  },
  {
   "cell_type": "markdown",
   "id": "cf4378c1",
   "metadata": {},
   "source": [
    "Тут нам помогло списковое включение, и фактически `lambda` вернула один объект — список. \n",
    "\n",
    "`lambda`-функции очень часто применяются для преобразования каких-то коллекций через функцию `map()`. "
   ]
  },
  {
   "cell_type": "code",
   "execution_count": 32,
   "id": "51a4cb48",
   "metadata": {},
   "outputs": [
    {
     "data": {
      "text/plain": [
       "[12, 0, 42, 16]"
      ]
     },
     "execution_count": 32,
     "metadata": {},
     "output_type": "execute_result"
    }
   ],
   "source": [
    "numbers = [12, 31, 42, 16]\n",
    "\n",
    "list(map(lambda x: x if x % 2 == 0 else 0, numbers))"
   ]
  },
  {
   "cell_type": "markdown",
   "id": "63888cf1",
   "metadata": {},
   "source": [
    "<center><b><font size=4>Задача №2</font></b></center>\n",
    "\n",
    "**Напишите анонимную функцию, которая принимает на вход строку с id студента и возвращает информацию о нем в формате `Номер группы: Фамилия`**\n",
    "\n",
    "Пример работы функции:\n",
    "```\n",
    "codes = ['БПЛПТЛ_232_Иванов Иван Иванович',\n",
    "        'БМКС_234_Петров Петр Петрович',\n",
    "        'БЭК_211_Ефимов Ефим Ефимович']\n",
    "list(map(... , codes)) # ['232: Иванов', '234: Петров', '211: Ефимов']\n",
    "```"
   ]
  },
  {
   "cell_type": "code",
   "execution_count": 24,
   "id": "4dbc6cb2",
   "metadata": {},
   "outputs": [],
   "source": [
    "codes = ['БПЛПТЛ_232_Иванов Иван Иванович',\n",
    "        'БМКС_234_Петров Петр Петрович',\n",
    "        'БЭК_211_Ефимов Ефим Ефимович']\n",
    "# YOUR CODE HERE"
   ]
  },
  {
   "cell_type": "markdown",
   "id": "f744bb8c",
   "metadata": {},
   "source": [
    "## Про собрата `map()` — `filter()` <a name=\"par4\"></a>"
   ]
  },
  {
   "cell_type": "markdown",
   "id": "576ee250",
   "metadata": {},
   "source": [
    "Если мы хотим отфильтровать данные, то нам поможет функция `filter()`."
   ]
  },
  {
   "cell_type": "code",
   "execution_count": 33,
   "id": "a2455056",
   "metadata": {},
   "outputs": [
    {
     "name": "stdout",
     "output_type": "stream",
     "text": [
      "[2, 2, 8, 10]\n"
     ]
    }
   ],
   "source": [
    "# старый дедовский способ\n",
    "\n",
    "numbers = [2, 5, 2, 1, 9, 8, 10]\n",
    "res = []\n",
    "\n",
    "for num in numbers:\n",
    "    if num % 2 == 0:\n",
    "        res.append(num)\n",
    "        \n",
    "print(res)"
   ]
  },
  {
   "cell_type": "code",
   "execution_count": 34,
   "id": "764a80f6",
   "metadata": {},
   "outputs": [
    {
     "name": "stdout",
     "output_type": "stream",
     "text": [
      "[2, 2, 8, 10]\n"
     ]
    }
   ],
   "source": [
    "# аналогично, но через списковые включения\n",
    "\n",
    "numbers = [2, 5, 2, 1, 9, 8, 10]\n",
    "res = [num for num in numbers if num % 2 == 0]\n",
    "\n",
    "print(res)"
   ]
  },
  {
   "cell_type": "code",
   "execution_count": 35,
   "id": "a6fb60c7",
   "metadata": {},
   "outputs": [
    {
     "name": "stdout",
     "output_type": "stream",
     "text": [
      "[2, 2, 8, 10]\n"
     ]
    }
   ],
   "source": [
    "# с помощью функции filter()\n",
    "\n",
    "numbers = [2, 5, 2, 1, 9, 8, 10]\n",
    "res = list(filter(lambda num: num % 2 == 0, numbers))\n",
    "\n",
    "print(res)"
   ]
  },
  {
   "cell_type": "markdown",
   "id": "7f5aedc3",
   "metadata": {},
   "source": [
    "Фактически, мы здесь фильтруем по *условию*, не заморачиваясь с использованием цикла. "
   ]
  },
  {
   "cell_type": "markdown",
   "id": "ded422a9",
   "metadata": {},
   "source": [
    "## Дополнительные материалы <a name=\"parlast\"></a>\n",
    "\n",
    "+ Разница между методом и функцией [Python for Data Science](https://pythonru.com/osnovy/3-python-dlja-data-science-vstroennye-funkcii-i-metody-python)\n",
    "+ Документация Python [Built-in Functions](https://docs.python.org/3/library/functions.html)\n",
    "+ Документация Python [Support for type hints](https://docs.python.org/3/library/typing.html)\n",
    "+ Введение в аннотации типов Python [Статья на Хабр](https://habr.com/ru/company/lamoda/blog/432656/)\n",
    "+ Что такое \\*args и \\*\\*kwargs в Python? [Статья на Хабр](https://habr.com/ru/company/ruvds/blog/482464/)"
   ]
  }
 ],
 "metadata": {
  "kernelspec": {
   "display_name": "Python 3 (ipykernel)",
   "language": "python",
   "name": "python3"
  },
  "language_info": {
   "codemirror_mode": {
    "name": "ipython",
    "version": 3
   },
   "file_extension": ".py",
   "mimetype": "text/x-python",
   "name": "python",
   "nbconvert_exporter": "python",
   "pygments_lexer": "ipython3",
   "version": "3.9.13"
  }
 },
 "nbformat": 4,
 "nbformat_minor": 5
}
