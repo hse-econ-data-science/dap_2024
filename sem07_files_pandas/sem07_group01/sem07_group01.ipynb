{
 "cells": [
  {
   "cell_type": "markdown",
   "id": "ae1aca18",
   "metadata": {},
   "source": [
    "## Вопросы"
   ]
  },
  {
   "cell_type": "code",
   "execution_count": null,
   "id": "702ed558",
   "metadata": {},
   "outputs": [],
   "source": [
    "# ???????????????????"
   ]
  },
  {
   "cell_type": "markdown",
   "id": "859082d0",
   "metadata": {},
   "source": [
    "## Чтение файлов в python"
   ]
  },
  {
   "cell_type": "code",
   "execution_count": 25,
   "id": "2ec0d868",
   "metadata": {},
   "outputs": [],
   "source": [
    "f = open('test_file.txt', 'w') # w - write (перезапись) r - read (чтение) a - append (дозапись)\n",
    "\n",
    "f.write('Hello!\\n')\n",
    "f.write('My name is Tom Raddle\\n')\n",
    "f.write('I will be glad ')\n",
    "f.write('to see you in the secret room\\n')\n",
    "\n",
    "f.close()\n"
   ]
  },
  {
   "cell_type": "code",
   "execution_count": 26,
   "id": "44fecb97",
   "metadata": {},
   "outputs": [],
   "source": [
    "f = open('test_file.txt', 'a')  # дозапишем новую строку \n",
    "f.write('Hello!\\n')\n",
    "f.close()"
   ]
  },
  {
   "cell_type": "code",
   "execution_count": 27,
   "id": "9a329ecf",
   "metadata": {},
   "outputs": [
    {
     "name": "stdout",
     "output_type": "stream",
     "text": [
      "Hello!\n",
      "My name is Tom Raddle\n",
      "I will be glad to see you in the secret room\n",
      "Hello!\n"
     ]
    }
   ],
   "source": [
    "!cat test_file.txt  # команда из баша для выведения на экран внутренностей"
   ]
  },
  {
   "cell_type": "code",
   "execution_count": 28,
   "id": "0b38b1ac",
   "metadata": {},
   "outputs": [
    {
     "data": {
      "text/plain": [
       "['Hello!\\n',\n",
       " 'My name is Tom Raddle\\n',\n",
       " 'I will be glad to see you in the secret room\\n',\n",
       " 'Hello!\\n']"
      ]
     },
     "execution_count": 28,
     "metadata": {},
     "output_type": "execute_result"
    }
   ],
   "source": [
    "f = open('test_file.txt', 'r')  # дозапишем новую строку \n",
    "\n",
    "x = f.readlines()\n",
    "f.close() \n",
    "\n",
    "x # массив из строк из файла (ура!)"
   ]
  },
  {
   "cell_type": "code",
   "execution_count": 29,
   "id": "82f42803",
   "metadata": {},
   "outputs": [
    {
     "data": {
      "text/plain": [
       "'Hello!\\nMy name is Tom Raddle\\nI will be glad to see you in the secret room\\nHello!\\n'"
      ]
     },
     "execution_count": 29,
     "metadata": {},
     "output_type": "execute_result"
    }
   ],
   "source": [
    "f = open('test_file.txt', 'r') \n",
    "x = f.read()\n",
    "f.close() \n",
    "x # весь файл считался как текст"
   ]
  },
  {
   "cell_type": "code",
   "execution_count": 30,
   "id": "bf428455",
   "metadata": {},
   "outputs": [
    {
     "data": {
      "text/plain": [
       "'Hello!\\n'"
      ]
     },
     "execution_count": 30,
     "metadata": {},
     "output_type": "execute_result"
    }
   ],
   "source": [
    "f = open('test_file.txt', 'r') \n",
    "\n",
    "f.readline()"
   ]
  },
  {
   "cell_type": "code",
   "execution_count": 39,
   "id": "406612b5",
   "metadata": {},
   "outputs": [
    {
     "data": {
      "text/plain": [
       "''"
      ]
     },
     "execution_count": 39,
     "metadata": {},
     "output_type": "execute_result"
    }
   ],
   "source": [
    "f.readline() # при каждом вызове будет доставаться новая строка, все по порядку"
   ]
  },
  {
   "cell_type": "code",
   "execution_count": 46,
   "id": "ca0df16d",
   "metadata": {},
   "outputs": [],
   "source": [
    "f.close() "
   ]
  },
  {
   "cell_type": "markdown",
   "id": "0a475ee7",
   "metadata": {},
   "source": [
    "## Менеджеры контекста \n",
    "\n",
    "Это конструкция, которая умеет поддерживать у кода, записанного внутри неё какое-то временное дополнительное свойство. "
   ]
  },
  {
   "cell_type": "code",
   "execution_count": 51,
   "id": "33b4dcff",
   "metadata": {},
   "outputs": [
    {
     "name": "stdout",
     "output_type": "stream",
     "text": [
      "Hello!\n",
      "My name is Tom Raddle\n",
      "I will be glad to see you in the secret room\n",
      "Hello!\n",
      "\n"
     ]
    }
   ],
   "source": [
    "with open('test_file.txt', 'r') as f:\n",
    "    # мы внутри менеджера, тут файл открыт\n",
    "    text = f.read()\n",
    "\n",
    "# я вышел за пределы -- файл сам закрылся \n",
    "# и мне не надо следить за тем чтобы сделать .close()\n",
    "\n",
    "print(text)"
   ]
  },
  {
   "cell_type": "code",
   "execution_count": 52,
   "id": "5dabeeea",
   "metadata": {},
   "outputs": [
    {
     "ename": "ValueError",
     "evalue": "I/O operation on closed file.",
     "output_type": "error",
     "traceback": [
      "\u001b[0;31m---------------------------------------------------------------------------\u001b[0m",
      "\u001b[0;31mValueError\u001b[0m                                Traceback (most recent call last)",
      "Cell \u001b[0;32mIn[52], line 1\u001b[0m\n\u001b[0;32m----> 1\u001b[0m \u001b[43mf\u001b[49m\u001b[38;5;241;43m.\u001b[39;49m\u001b[43mread\u001b[49m\u001b[43m(\u001b[49m\u001b[43m)\u001b[49m \u001b[38;5;66;03m# обращаться не могу, менеджер сам сделал f.close()\u001b[39;00m\n",
      "\u001b[0;31mValueError\u001b[0m: I/O operation on closed file."
     ]
    }
   ],
   "source": [
    "f.read() # обращаться не могу, менеджер сам сделал f.close()"
   ]
  },
  {
   "cell_type": "markdown",
   "id": "d702963a",
   "metadata": {},
   "source": [
    "## Относительный и абсолютный пути"
   ]
  },
  {
   "cell_type": "code",
   "execution_count": 53,
   "id": "5e694d49",
   "metadata": {},
   "outputs": [
    {
     "name": "stdout",
     "output_type": "stream",
     "text": [
      "/Users/randomwalk/Downloads/sem07_files/sem07_group01\n"
     ]
    }
   ],
   "source": [
    "!pwd"
   ]
  },
  {
   "cell_type": "code",
   "execution_count": 68,
   "id": "72e87ec4",
   "metadata": {},
   "outputs": [
    {
     "data": {
      "text/plain": [
       "'/Users/randomwalk/Downloads/sem07_files/sem07_group01'"
      ]
     },
     "execution_count": 68,
     "metadata": {},
     "output_type": "execute_result"
    }
   ],
   "source": [
    "import os   # библиотека для работы с файловой системой компьютера\n",
    "os.chdir('/Users/randomwalk/Downloads/sem07_files/sem07_group01')\n",
    "os.getcwd() # абсолютный путь где я "
   ]
  },
  {
   "cell_type": "code",
   "execution_count": 69,
   "id": "9d1fe1b1",
   "metadata": {},
   "outputs": [
    {
     "data": {
      "text/plain": [
       "['.DS_Store',\n",
       " 'cheating',\n",
       " 'lst.pickle',\n",
       " 'markup.json',\n",
       " 'test_file.txt',\n",
       " 'sem07_group01.ipynb',\n",
       " 'marks.tsv']"
      ]
     },
     "execution_count": 69,
     "metadata": {},
     "output_type": "execute_result"
    }
   ],
   "source": [
    "os.listdir()"
   ]
  },
  {
   "cell_type": "code",
   "execution_count": 70,
   "id": "dfd2f0f8",
   "metadata": {},
   "outputs": [
    {
     "name": "stdout",
     "output_type": "stream",
     "text": [
      "Hello!\n",
      "My name is Tom Raddle\n",
      "I will be glad to see you in the secret room\n",
      "Hello!\n",
      "\n"
     ]
    }
   ],
   "source": [
    "with open('./test_file.txt', 'r') as f:\n",
    "    text = f.read()\n",
    "print(text)"
   ]
  },
  {
   "cell_type": "code",
   "execution_count": 71,
   "id": "3de29b7e",
   "metadata": {},
   "outputs": [
    {
     "name": "stdout",
     "output_type": "stream",
     "text": [
      "/Users/randomwalk/Downloads/sem07_files\n"
     ]
    },
    {
     "ename": "FileNotFoundError",
     "evalue": "[Errno 2] No such file or directory: './test_file.txt'",
     "output_type": "error",
     "traceback": [
      "\u001b[0;31m---------------------------------------------------------------------------\u001b[0m",
      "\u001b[0;31mFileNotFoundError\u001b[0m                         Traceback (most recent call last)",
      "Cell \u001b[0;32mIn[71], line 4\u001b[0m\n\u001b[1;32m      1\u001b[0m os\u001b[38;5;241m.\u001b[39mchdir(\u001b[38;5;124m'\u001b[39m\u001b[38;5;124m/Users/randomwalk/Downloads/sem07_files\u001b[39m\u001b[38;5;124m'\u001b[39m) \u001b[38;5;66;03m# выйдем в предыдущую папку\u001b[39;00m\n\u001b[1;32m      2\u001b[0m \u001b[38;5;28mprint\u001b[39m(os\u001b[38;5;241m.\u001b[39mgetcwd())\n\u001b[0;32m----> 4\u001b[0m \u001b[38;5;28;01mwith\u001b[39;00m \u001b[38;5;28;43mopen\u001b[39;49m\u001b[43m(\u001b[49m\u001b[38;5;124;43m'\u001b[39;49m\u001b[38;5;124;43m./test_file.txt\u001b[39;49m\u001b[38;5;124;43m'\u001b[39;49m\u001b[43m,\u001b[49m\u001b[43m \u001b[49m\u001b[38;5;124;43m'\u001b[39;49m\u001b[38;5;124;43mr\u001b[39;49m\u001b[38;5;124;43m'\u001b[39;49m\u001b[43m)\u001b[49m \u001b[38;5;28;01mas\u001b[39;00m f:\n\u001b[1;32m      5\u001b[0m     text \u001b[38;5;241m=\u001b[39m f\u001b[38;5;241m.\u001b[39mread()\n\u001b[1;32m      6\u001b[0m \u001b[38;5;28mprint\u001b[39m(text)\n",
      "File \u001b[0;32m~/Library/Python/3.11/lib/python/site-packages/IPython/core/interactiveshell.py:282\u001b[0m, in \u001b[0;36m_modified_open\u001b[0;34m(file, *args, **kwargs)\u001b[0m\n\u001b[1;32m    275\u001b[0m \u001b[38;5;28;01mif\u001b[39;00m file \u001b[38;5;129;01min\u001b[39;00m {\u001b[38;5;241m0\u001b[39m, \u001b[38;5;241m1\u001b[39m, \u001b[38;5;241m2\u001b[39m}:\n\u001b[1;32m    276\u001b[0m     \u001b[38;5;28;01mraise\u001b[39;00m \u001b[38;5;167;01mValueError\u001b[39;00m(\n\u001b[1;32m    277\u001b[0m         \u001b[38;5;124mf\u001b[39m\u001b[38;5;124m\"\u001b[39m\u001b[38;5;124mIPython won\u001b[39m\u001b[38;5;124m'\u001b[39m\u001b[38;5;124mt let you open fd=\u001b[39m\u001b[38;5;132;01m{\u001b[39;00mfile\u001b[38;5;132;01m}\u001b[39;00m\u001b[38;5;124m by default \u001b[39m\u001b[38;5;124m\"\u001b[39m\n\u001b[1;32m    278\u001b[0m         \u001b[38;5;124m\"\u001b[39m\u001b[38;5;124mas it is likely to crash IPython. If you know what you are doing, \u001b[39m\u001b[38;5;124m\"\u001b[39m\n\u001b[1;32m    279\u001b[0m         \u001b[38;5;124m\"\u001b[39m\u001b[38;5;124myou can use builtins\u001b[39m\u001b[38;5;124m'\u001b[39m\u001b[38;5;124m open.\u001b[39m\u001b[38;5;124m\"\u001b[39m\n\u001b[1;32m    280\u001b[0m     )\n\u001b[0;32m--> 282\u001b[0m \u001b[38;5;28;01mreturn\u001b[39;00m \u001b[43mio_open\u001b[49m\u001b[43m(\u001b[49m\u001b[43mfile\u001b[49m\u001b[43m,\u001b[49m\u001b[43m \u001b[49m\u001b[38;5;241;43m*\u001b[39;49m\u001b[43margs\u001b[49m\u001b[43m,\u001b[49m\u001b[43m \u001b[49m\u001b[38;5;241;43m*\u001b[39;49m\u001b[38;5;241;43m*\u001b[39;49m\u001b[43mkwargs\u001b[49m\u001b[43m)\u001b[49m\n",
      "\u001b[0;31mFileNotFoundError\u001b[0m: [Errno 2] No such file or directory: './test_file.txt'"
     ]
    }
   ],
   "source": [
    "os.chdir('/Users/randomwalk/Downloads/sem07_files') # выйдем в предыдущую папку\n",
    "print(os.getcwd())\n",
    "\n",
    "with open('./test_file.txt', 'r') as f:\n",
    "    text = f.read()\n",
    "print(text)"
   ]
  },
  {
   "cell_type": "code",
   "execution_count": 74,
   "id": "380e8c65",
   "metadata": {},
   "outputs": [
    {
     "name": "stdout",
     "output_type": "stream",
     "text": [
      "/Users/randomwalk/Downloads/sem07_files\n",
      "Hello!\n",
      "My name is Tom Raddle\n",
      "I will be glad to see you in the secret room\n",
      "Hello!\n",
      "\n"
     ]
    }
   ],
   "source": [
    "os.chdir('/Users/randomwalk/Downloads/sem07_files') # выйдем в предыдущую папку\n",
    "print(os.getcwd())\n",
    "\n",
    "with open('/Users/randomwalk/Downloads/sem07_files/sem07_group01/test_file.txt', 'r') as f:\n",
    "    text = f.read()\n",
    "print(text)"
   ]
  },
  {
   "cell_type": "code",
   "execution_count": null,
   "id": "410ea41f",
   "metadata": {},
   "outputs": [],
   "source": [
    "# Пути из папки где мы сейчас находимся называются относительными \n",
    "# Пути от корневой директории называются абсолютными"
   ]
  },
  {
   "cell_type": "code",
   "execution_count": 78,
   "id": "620e4a9d",
   "metadata": {},
   "outputs": [
    {
     "name": "stdout",
     "output_type": "stream",
     "text": [
      "/Users/randomwalk/Downloads/sem07_files/sem07_group01\n"
     ]
    }
   ],
   "source": [
    "os.chdir('/Users/randomwalk/Downloads/sem07_files/sem07_group01')\n",
    "print(os.getcwd())"
   ]
  },
  {
   "cell_type": "markdown",
   "id": "cfa55086",
   "metadata": {
    "vscode": {
     "languageId": "plaintext"
    }
   },
   "source": [
    "## Работа с файловой системой компьютера: модули os и sys"
   ]
  },
  {
   "cell_type": "code",
   "execution_count": 2,
   "id": "b96e8777",
   "metadata": {},
   "outputs": [],
   "source": [
    "import os "
   ]
  },
  {
   "cell_type": "code",
   "execution_count": 3,
   "id": "1909506c",
   "metadata": {},
   "outputs": [
    {
     "name": "stdout",
     "output_type": "stream",
     "text": [
      "\u001b[34mcheating\u001b[m\u001b[m            marks.tsv           sem07_group01.ipynb\n",
      "lst.pickle          markup.json\n"
     ]
    }
   ],
   "source": [
    "!ls "
   ]
  },
  {
   "cell_type": "code",
   "execution_count": 4,
   "id": "11cdc3f9",
   "metadata": {},
   "outputs": [
    {
     "name": "stdout",
     "output_type": "stream",
     "text": [
      "Requirement already satisfied: pandas in /opt/homebrew/lib/python3.11/site-packages (2.1.2)\n",
      "Requirement already satisfied: numpy<2,>=1.23.2 in /opt/homebrew/lib/python3.11/site-packages (from pandas) (1.26.1)\n",
      "Requirement already satisfied: python-dateutil>=2.8.2 in /Users/randomwalk/Library/Python/3.11/lib/python/site-packages (from pandas) (2.8.2)\n",
      "Requirement already satisfied: pytz>=2020.1 in /opt/homebrew/lib/python3.11/site-packages (from pandas) (2023.3.post1)\n",
      "Requirement already satisfied: tzdata>=2022.1 in /opt/homebrew/lib/python3.11/site-packages (from pandas) (2023.3)\n",
      "Requirement already satisfied: six>=1.5 in /Users/randomwalk/Library/Python/3.11/lib/python/site-packages (from python-dateutil>=2.8.2->pandas) (1.16.0)\n"
     ]
    }
   ],
   "source": [
    "!pip install pandas"
   ]
  },
  {
   "cell_type": "code",
   "execution_count": 5,
   "id": "74a2e328",
   "metadata": {},
   "outputs": [
    {
     "data": {
      "text/plain": [
       "['.DS_Store',\n",
       " 'cheating',\n",
       " 'lst.pickle',\n",
       " 'markup.json',\n",
       " 'sem07_group01.ipynb',\n",
       " 'marks.tsv']"
      ]
     },
     "execution_count": 5,
     "metadata": {},
     "output_type": "execute_result"
    }
   ],
   "source": [
    "os.listdir() # аналог ls "
   ]
  },
  {
   "cell_type": "code",
   "execution_count": 6,
   "id": "8f11bff2",
   "metadata": {},
   "outputs": [
    {
     "data": {
      "text/plain": [
       "['g.pickle',\n",
       " 'gpickle',\n",
       " 'sem07_group11.ipynb',\n",
       " 'lst.pickle',\n",
       " 'markup.json',\n",
       " 'input.txt',\n",
       " 'marks.tsv']"
      ]
     },
     "execution_count": 6,
     "metadata": {},
     "output_type": "execute_result"
    }
   ],
   "source": [
    "os.listdir(\"../sem07_group11\") # .. - выход на папку назад из текущей"
   ]
  },
  {
   "cell_type": "code",
   "execution_count": 7,
   "id": "58746eb5",
   "metadata": {},
   "outputs": [],
   "source": [
    "os.mkdir('tasks')  # аналог команды mkdir "
   ]
  },
  {
   "cell_type": "code",
   "execution_count": 8,
   "id": "5611965c",
   "metadata": {},
   "outputs": [],
   "source": [
    "os.removedirs('tasks') # аналог rm -r "
   ]
  },
  {
   "cell_type": "markdown",
   "id": "a914a885",
   "metadata": {},
   "source": [
    "## Упражнение 1:\n",
    "\n",
    "В папке `cheating` лежит куча кода на питоне. Его написали студенты эконома. Есть ли те, кто скопировал чужой код? Надо автоматически найти всех, кто списал!"
   ]
  },
  {
   "cell_type": "code",
   "execution_count": 85,
   "id": "e6a8d4be",
   "metadata": {},
   "outputs": [
    {
     "data": {
      "text/plain": [
       "'.py'"
      ]
     },
     "execution_count": 85,
     "metadata": {},
     "output_type": "execute_result"
    }
   ],
   "source": [
    "w = '60.py'\n",
    "w[-3:]"
   ]
  },
  {
   "cell_type": "code",
   "execution_count": 86,
   "id": "501146ba",
   "metadata": {},
   "outputs": [
    {
     "data": {
      "text/plain": [
       "True"
      ]
     },
     "execution_count": 86,
     "metadata": {},
     "output_type": "execute_result"
    }
   ],
   "source": [
    "f = lambda w: w[-3:] == '.py'\n",
    "f('60.py')"
   ]
  },
  {
   "cell_type": "code",
   "execution_count": 87,
   "id": "aeb70e83",
   "metadata": {},
   "outputs": [
    {
     "data": {
      "text/plain": [
       "False"
      ]
     },
     "execution_count": 87,
     "metadata": {},
     "output_type": "execute_result"
    }
   ],
   "source": [
    "f('.DS_Store')"
   ]
  },
  {
   "cell_type": "code",
   "execution_count": 94,
   "id": "333f9181",
   "metadata": {},
   "outputs": [
    {
     "data": {
      "text/plain": [
       "73"
      ]
     },
     "execution_count": 94,
     "metadata": {},
     "output_type": "execute_result"
    }
   ],
   "source": [
    "files = os.listdir('cheating')\n",
    "\n",
    "# Вот такой код применитт функцию ко всем объектам из files по очереди\n",
    "# list(map(lambda w: w[-3:] == '.py', files))\n",
    "\n",
    "# оставит только те объекты где функция выдала True \n",
    "files = list(filter(lambda w: w[-3:] == '.py', files))\n",
    "len(files)"
   ]
  },
  {
   "cell_type": "code",
   "execution_count": 100,
   "id": "6f96a29c",
   "metadata": {},
   "outputs": [
    {
     "name": "stdout",
     "output_type": "stream",
     "text": [
      "Одинаковые файлы: 31.py 23.py\n",
      "Одинаковые файлы: 8.py 7.py\n",
      "Одинаковые файлы: 25.py 26.py\n",
      "Одинаковые файлы: 9.py 10.py\n",
      "Одинаковые файлы: 6.py 4.py\n",
      "Одинаковые файлы: 6.py 5.py\n",
      "Одинаковые файлы: 2.py 1.py\n",
      "Одинаковые файлы: 4.py 5.py\n",
      "Одинаковые файлы: 29.py 22.py\n"
     ]
    }
   ],
   "source": [
    "def read_file(path):\n",
    "    with open(path, 'r') as f:\n",
    "        code = f.read()\n",
    "    return code \n",
    "\n",
    "files = list(filter(lambda w: w[-3:] == '.py', files))\n",
    "n = len(files)\n",
    "\n",
    "for i in range(n):\n",
    "    path = f'cheating/{files[i]}'\n",
    "    code_1 = read_file(path)\n",
    "    \n",
    "    for j in range(i + 1, n):\n",
    "        path = f'cheating/{files[j]}'\n",
    "        code_2 = read_file(path)\n",
    "\n",
    "        if code_1 == code_2:\n",
    "            print('Одинаковые файлы:', files[i], files[j])"
   ]
  },
  {
   "cell_type": "code",
   "execution_count": 102,
   "id": "ab679aae",
   "metadata": {},
   "outputs": [
    {
     "name": "stdout",
     "output_type": "stream",
     "text": [
      "import math\n",
      "\n",
      "\n",
      "def rev():\n",
      "    n = int(input())\n",
      "    if n != 0:\n",
      "        rev()\n",
      "        if (math.sqrt(n).is_integer()):\n",
      "            global flag\n",
      "            flag = 1\n",
      "            print(n)\n",
      "\n",
      "flag = 0\n",
      "rev()\n",
      "if flag == 0:\n",
      "    print(0)\n"
     ]
    }
   ],
   "source": [
    "!cat cheating/8.py"
   ]
  },
  {
   "cell_type": "code",
   "execution_count": 103,
   "id": "ab082635",
   "metadata": {},
   "outputs": [
    {
     "name": "stdout",
     "output_type": "stream",
     "text": [
      "import math\n",
      "\n",
      "\n",
      "def rev():\n",
      "    n = int(input())\n",
      "    if n != 0:\n",
      "        rev()\n",
      "        if (math.sqrt(n).is_integer()):\n",
      "            global flag\n",
      "            flag = 1\n",
      "            print(n)\n",
      "\n",
      "flag = 0\n",
      "rev()\n",
      "if flag == 0:\n",
      "    print(0)\n"
     ]
    }
   ],
   "source": [
    "!cat cheating/7.py"
   ]
  },
  {
   "cell_type": "markdown",
   "id": "76e023a6",
   "metadata": {},
   "source": [
    "## Разговоры про юникод"
   ]
  },
  {
   "cell_type": "code",
   "execution_count": null,
   "id": "30f22e3f",
   "metadata": {},
   "outputs": [],
   "source": [
    "# 1 бит = ячейка где лежит либо 0 либо 1 \n",
    "# 1 байт = 8 бит "
   ]
  },
  {
   "cell_type": "code",
   "execution_count": 104,
   "id": "355d3952",
   "metadata": {},
   "outputs": [
    {
     "data": {
      "text/plain": [
       "'0b10'"
      ]
     },
     "execution_count": 104,
     "metadata": {},
     "output_type": "execute_result"
    }
   ],
   "source": [
    "bin(2)"
   ]
  },
  {
   "cell_type": "code",
   "execution_count": 106,
   "id": "ae828388",
   "metadata": {},
   "outputs": [
    {
     "data": {
      "text/plain": [
       "'0b1010'"
      ]
     },
     "execution_count": 106,
     "metadata": {},
     "output_type": "execute_result"
    }
   ],
   "source": [
    "# двоичное представление числа - это его разложение по степеням двойки\n",
    "bin(10) # 10 = 1 * 2^3 + 0 * 2^2 + 1 * 2^1 + 0 * 2^0"
   ]
  },
  {
   "cell_type": "code",
   "execution_count": null,
   "id": "de210c6d",
   "metadata": {},
   "outputs": [],
   "source": [
    "# Сколько чисел я могу сохранить в ячейке памяти размером 1 байт? \n",
    "\n",
    "# Ответ: число уникальных последовательностей из 0 и 1 длины 8\n",
    "#        2**8"
   ]
  },
  {
   "cell_type": "code",
   "execution_count": 107,
   "id": "7c78c020",
   "metadata": {},
   "outputs": [
    {
     "data": {
      "text/plain": [
       "256"
      ]
     },
     "execution_count": 107,
     "metadata": {},
     "output_type": "execute_result"
    }
   ],
   "source": [
    "2**8"
   ]
  },
  {
   "cell_type": "code",
   "execution_count": 109,
   "id": "9d63977c",
   "metadata": {},
   "outputs": [
    {
     "data": {
      "text/plain": [
       "2147483647.0"
      ]
     },
     "execution_count": 109,
     "metadata": {},
     "output_type": "execute_result"
    }
   ],
   "source": [
    "# Что делать если я хочу сохранить число 300? \n",
    "#  Взять два байта...\n",
    "#  => разные точности чисел \n",
    "#  int32 int64\n",
    "\n",
    "# максимальное целое число в типе данных int32:\n",
    "2**32 / 2 - 1  # делим на 2 тк знак +/-, вычли 1 так как надо хранить 0"
   ]
  },
  {
   "cell_type": "code",
   "execution_count": null,
   "id": "868fefc7",
   "metadata": {},
   "outputs": [],
   "source": [
    "# float8 float16 float32 float64 (double)"
   ]
  },
  {
   "cell_type": "code",
   "execution_count": 113,
   "id": "858fd05f",
   "metadata": {},
   "outputs": [
    {
     "data": {
      "text/plain": [
       "'1101000 1100101'"
      ]
     },
     "execution_count": 113,
     "metadata": {},
     "output_type": "execute_result"
    }
   ],
   "source": [
    "st = \"he\"\n",
    "' '.join(format(ord(x), 'b') for x in st)"
   ]
  },
  {
   "cell_type": "code",
   "execution_count": 114,
   "id": "3c26a896",
   "metadata": {},
   "outputs": [
    {
     "data": {
      "text/plain": [
       "104"
      ]
     },
     "execution_count": 114,
     "metadata": {},
     "output_type": "execute_result"
    }
   ],
   "source": [
    "ord('h')"
   ]
  },
  {
   "cell_type": "code",
   "execution_count": 116,
   "id": "3c994f5b",
   "metadata": {},
   "outputs": [
    {
     "data": {
      "text/plain": [
       "('0b1101000', '0b1100101')"
      ]
     },
     "execution_count": 116,
     "metadata": {},
     "output_type": "execute_result"
    }
   ],
   "source": [
    "bin(104), bin(ord('e'))"
   ]
  },
  {
   "cell_type": "code",
   "execution_count": null,
   "id": "4e5893ef",
   "metadata": {},
   "outputs": [],
   "source": [
    "# юникод - способ хранить в памяти компьютера огромную таблицу с тем какой номер соответствует какому символу\n",
    "# отдельные таблицы называются кодировками \n",
    "# юникод это одна из кодировок\n",
    "# utf-8, utf-16\n",
    "\n",
    "# В 80-е годы существовало огромное количество кодировок\n",
    "# Юникод это попытка унифицировать все существующие кодировки в одну общую универсальную\n",
    "\n",
    "# cp1251 vs utf-8"
   ]
  },
  {
   "cell_type": "code",
   "execution_count": 117,
   "id": "aa791ae7",
   "metadata": {},
   "outputs": [
    {
     "name": "stdout",
     "output_type": "stream",
     "text": [
      "n = int(input())\n",
      "a = {}\n",
      "for i in range(n):\n",
      "    word = input()\n",
      "    b = word.lower()\n",
      "    if b not in a:\n",
      "        a[b] = set()\n",
      "    a[b].add(word)\n",
      "errors = 0\n",
      "s = input().split()\n",
      "for word in s:\n",
      "    b = word.lower()\n",
      "    le = len([l for l in word if l.isupper()])\n",
      "    if (b in a and word not in a[b] or le != 1):\n",
      "        errors += 1\n",
      "print(errors)\n"
     ]
    }
   ],
   "source": [
    "with open(path, 'r', encoding='utf-8') as f:\n",
    "    code = f.read()\n",
    "\n",
    "print(code)"
   ]
  },
  {
   "cell_type": "code",
   "execution_count": null,
   "id": "8fca3451",
   "metadata": {},
   "outputs": [],
   "source": []
  },
  {
   "cell_type": "code",
   "execution_count": null,
   "id": "4fab02ad",
   "metadata": {},
   "outputs": [],
   "source": []
  },
  {
   "cell_type": "code",
   "execution_count": null,
   "id": "b7df9e0e",
   "metadata": {},
   "outputs": [],
   "source": []
  },
  {
   "cell_type": "code",
   "execution_count": null,
   "id": "30dc1069",
   "metadata": {},
   "outputs": [],
   "source": []
  }
 ],
 "metadata": {
  "kernelspec": {
   "display_name": "Python 3 (ipykernel)",
   "language": "python",
   "name": "python3"
  },
  "language_info": {
   "codemirror_mode": {
    "name": "ipython",
    "version": 3
   },
   "file_extension": ".py",
   "mimetype": "text/x-python",
   "name": "python",
   "nbconvert_exporter": "python",
   "pygments_lexer": "ipython3",
   "version": "3.11.6"
  }
 },
 "nbformat": 4,
 "nbformat_minor": 5
}
