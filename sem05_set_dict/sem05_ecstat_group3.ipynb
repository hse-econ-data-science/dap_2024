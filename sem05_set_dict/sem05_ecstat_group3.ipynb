{
 "cells": [
  {
   "cell_type": "markdown",
   "id": "3852d337",
   "metadata": {},
   "source": [
    "#### Разбор задач из БСР (2, 4)"
   ]
  },
  {
   "cell_type": "markdown",
   "id": "5685e328",
   "metadata": {},
   "source": [
    "Вася выписал на листике 1000 первых натуральных чисел (1, 2, 3, ..., 999, 1000).\n",
    "После этого начал вычеркивать каждое 11-е число:\n",
    "\\begin{itemize}\n",
    "\\item Сначала вычеркнул число 1.\n",
    "\\item Затем число 12.\n",
    "\n",
    "...\n",
    "\\item Дошел до числа 991.\n",
    "\\item После этого нужно было вычеркнуть 1002, т.е. число, которого уже нет в списке.\n",
    "\\end{itemize}\n",
    "\n",
    "Т.к. числа в списке все же остались, то Вася решил проделать подобную процедуру еще раз с самого начала с оставшимся списком (т.е. следующим числом будет 2, а потом 14).\n",
    "\n",
    "Определите, в каком порядке числа будут вычеркнуты, если Вася не остановится, пока там есть хотя бы одно число."
   ]
  },
  {
   "cell_type": "code",
   "execution_count": null,
   "id": "027989be",
   "metadata": {},
   "outputs": [],
   "source": [
    "[elem for lst in answer for elem in lst]\n",
    "# for lst in aswer:\n",
    "#     for elem in lst:\n",
    "#         answer_list.append()"
   ]
  },
  {
   "cell_type": "code",
   "execution_count": 72,
   "id": "8a56183a",
   "metadata": {},
   "outputs": [
    {
     "name": "stdout",
     "output_type": "stream",
     "text": [
      "1 12 23 34 45 56 67 78 89 100 111 122 133 144 155 166 177 188 199 210 221 232 243 254 265 276 287 298 309 320 331 342 353 364 375 386 397 408 419 430 441 452 463 474 485 496 507 518 529 540 551 562 573 584 595 606 617 628 639 650 661 672 683 694 705 716 727 738 749 760 771 782 793 804 815 826 837 848 859 870 881 892 903 914 925 936 947 958 969 980 991 2 14 26 38 50 62 74 86 98 110 123 135 147 159 171 183 195 207 219 231 244 256 268 280 292 304 316 328 340 352 365 377 389 401 413 425 437 449 461 473 486 498 510 522 534 546 558 570 582 594 607 619 631 643 655 667 679 691 703 715 728 740 752 764 776 788 800 812 824 836 849 861 873 885 897 909 921 933 945 957 970 982 994 3 16 29 42 55 69 82 95 108 121 136 149 162 175 189 202 215 228 241 255 269 282 295 308 322 335 348 361 374 388 402 415 428 442 455 468 481 494 508 521 535 548 561 575 588 601 614 627 641 654 668 681 695 708 721 734 747 761 774 787 801 814 828 841 854 867 880 894 907 920 934 948 961 974 987 1000 4 18 32 47 61 76 91 105 119 134 150 164 179 193 208 223 237 251 266 281 296 311 325 339 355 369 383 398 412 427 443 457 471 487 501 515 530 544 559 574 589 603 618 633 647 662 676 690 706 720 735 750 765 779 794 808 822 838 852 866 882 896 911 926 940 954 968 984 998 5 20 36 52 68 84 101 116 131 148 165 181 197 213 229 246 261 277 293 310 326 343 358 373 391 406 422 438 454 470 488 503 519 536 552 567 583 599 615 632 648 664 680 697 712 729 744 759 777 792 809 825 842 857 874 889 905 922 938 953 971 986 6 22 40 58 75 93 112 128 145 163 182 200 217 235 252 271 288 305 323 341 359 378 394 411 431 447 465 482 500 517 537 554 571 590 608 624 642 659 677 696 713 731 748 767 784 802 819 835 855 872 890 908 927 943 962 978 996 7 25 44 64 83 103 124 141 160 180 201 220 239 259 278 299 317 336 356 376 395 416 434 453 475 492 512 531 550 569 591 610 629 649 669 687 707 725 745 766 785 805 823 844 863 883 901 919 941 960 979 999 8 28 49 71 92 114 137 156 176 198 222 242 263 285 306 329 349 370 392 414 435 458 478 499 523 542 564 585 605 626 651 671 692 714 736 756 778 798 820 843 864 886 906 929 950 972 992 9 31 54 79 102 126 151 172 194 218 245 267 290 314 337 362 384 407 432 456 479 504 526 549 576 597 621 644 666 689 717 739 762 786 810 832 856 878 902 928 951 975 997 10 35 60 87 113 139 167 190 214 240 270 294 319 346 371 399 423 448 476 502 527 555 579 604 634 657 684 709 733 758 789 813 839 865 891 916 942 966 993 11 39 66 96 125 153 184 209 236 264 297 324 351 381 409 439 466 493 524 553 580 611 637 665 698 723 753 780 807 834 868 895 923 952 981 13 43 73 106 138 169 203 230 260 291 327 357 387 420 450 483 513 543 577 609 638 673 701 732 768 796 829 858 888 918 955 985 15 48 81 117 152 186 224 253 286 321 360 393 426 462 495 532 565 598 635 670 702 741 772 806 845 876 912 944 977 17 53 90 129 168 205 247 279 315 354 396 433 469 509 545 586 622 658 699 737 773 816 850 887 930 964 19 59 99 142 185 226 272 307 347 390 436 477 516 560 600 645 685 724 769 811 851 898 935 976 21 65 109 157 204 249 300 338 382 429 480 525 568 616 660 710 754 797 846 893 937 988 24 72 120 173 225 274 330 372 421 472 528 578 625 678 726 781 830 877 931 983 27 80 132 191 248 302 363 410 464 520 581 636 688 746 799 860 913 965 30 88 146 211 273 333 400 451 511 572 640 700 757 821 879 946 33 97 161 233 301 367 440 497 563 630 704 770 833 904 967 37 107 178 257 332 404 484 547 620 693 775 847 917 995 41 118 196 283 366 445 533 602 682 763 853 932 46 130 216 312 403 490 587 663 751 840 939 51 143 238 344 444 539 646 730 827 924 57 158 262 379 489 593 711 803 910 63 174 289 417 538 653 783 884 70 192 318 459 592 719 862 973 77 212 350 505 652 791 949 85 234 385 556 718 871 94 258 424 612 790 959 104 284 467 674 869 115 313 514 742 956 127 345 566 817 140 380 623 899 154 418 686 989 170 460 755 187 506 831 206 557 915 227 613 250 675 275 743 303 818 334 900 368 990 405 446 491 541 596 656 722 795 875 963\n"
     ]
    }
   ],
   "source": [
    "answer = []\n",
    "\n",
    "lst = list(range(1, 1001))\n",
    "\n",
    "while len(lst) > 0:\n",
    "    answer.append(lst[::11])\n",
    "    del lst[::11]\n",
    "\n",
    "print(' '.join([str(elem) for lst in answer for elem in lst]))"
   ]
  },
  {
   "cell_type": "code",
   "execution_count": null,
   "id": "73f7bf68",
   "metadata": {},
   "outputs": [],
   "source": [
    "4\n",
    "0 0 0 0\n",
    "1 2 3 4\n",
    "0 0 0 0\n",
    "0 0 0 0"
   ]
  },
  {
   "cell_type": "code",
   "execution_count": 83,
   "id": "6d706c50",
   "metadata": {},
   "outputs": [
    {
     "name": "stdout",
     "output_type": "stream",
     "text": [
      "[[0, 0, 0, 0]]\n"
     ]
    }
   ],
   "source": [
    "print(matrix)"
   ]
  },
  {
   "cell_type": "code",
   "execution_count": 86,
   "id": "fa8f5221",
   "metadata": {},
   "outputs": [
    {
     "name": "stdout",
     "output_type": "stream",
     "text": [
      "4\n",
      "0 0 0 0\n",
      "1 2 3 4\n",
      "0 0 0 0\n",
      "0 0 0 0\n",
      "[[0, 0, 0, 0], [1, 2, 3, 4], [0, 0, 0, 0], [0, 0, 0, 0]]\n"
     ]
    },
    {
     "ename": "TypeError",
     "evalue": "list indices must be integers or slices, not tuple",
     "output_type": "error",
     "traceback": [
      "\u001b[1;31m---------------------------------------------------------------------------\u001b[0m",
      "\u001b[1;31mTypeError\u001b[0m                                 Traceback (most recent call last)",
      "\u001b[1;32m~\\AppData\\Local\\Temp/ipykernel_16860/3641921210.py\u001b[0m in \u001b[0;36m<cell line: 11>\u001b[1;34m()\u001b[0m\n\u001b[0;32m     12\u001b[0m     \u001b[1;32mfor\u001b[0m \u001b[0mjin\u001b[0m\u001b[1;33m,\u001b[0m \u001b[0melem\u001b[0m \u001b[1;32min\u001b[0m \u001b[0menumerate\u001b[0m\u001b[1;33m(\u001b[0m\u001b[0mrow\u001b[0m\u001b[1;33m)\u001b[0m\u001b[1;33m:\u001b[0m\u001b[1;33m\u001b[0m\u001b[1;33m\u001b[0m\u001b[0m\n\u001b[0;32m     13\u001b[0m         \u001b[1;32mif\u001b[0m \u001b[0melem\u001b[0m \u001b[1;33m==\u001b[0m \u001b[1;36m0\u001b[0m\u001b[1;33m:\u001b[0m\u001b[1;33m\u001b[0m\u001b[1;33m\u001b[0m\u001b[0m\n\u001b[1;32m---> 14\u001b[1;33m             \u001b[0mmatrix\u001b[0m\u001b[1;33m[\u001b[0m\u001b[0mind\u001b[0m\u001b[1;33m,\u001b[0m \u001b[0mjin\u001b[0m\u001b[1;33m]\u001b[0m \u001b[1;33m=\u001b[0m \u001b[0mmy_set\u001b[0m\u001b[1;33m.\u001b[0m\u001b[0mpop\u001b[0m\u001b[1;33m(\u001b[0m\u001b[1;33m)\u001b[0m\u001b[1;33m\u001b[0m\u001b[1;33m\u001b[0m\u001b[0m\n\u001b[0m\u001b[0;32m     15\u001b[0m \u001b[1;33m\u001b[0m\u001b[0m\n\u001b[0;32m     16\u001b[0m \u001b[0mprint\u001b[0m\u001b[1;33m(\u001b[0m\u001b[0mmatrix\u001b[0m\u001b[1;33m)\u001b[0m\u001b[1;33m\u001b[0m\u001b[1;33m\u001b[0m\u001b[0m\n",
      "\u001b[1;31mTypeError\u001b[0m: list indices must be integers or slices, not tuple"
     ]
    }
   ],
   "source": [
    "n = int(input())\n",
    "my_set = set(range(1, n**2))\n",
    "matrix = []\n",
    "\n",
    "for i in range(n):\n",
    "    row = list(map(int, input().split(' ')))\n",
    "    matrix.append(row)\n",
    "\n",
    "print(matrix)\n",
    "\n",
    "for ind, row in enumerate(matrix):\n",
    "    for jin, elem in enumerate(row):\n",
    "        if elem == 0:\n",
    "            matrix[ind, jin] = my_set.pop()\n",
    "            \n",
    "print(matrix)"
   ]
  },
  {
   "cell_type": "markdown",
   "id": "92258638",
   "metadata": {},
   "source": [
    "# Программирование на Python \n",
    "\n",
    "# Множества и словари.\n",
    "\n",
    "\n",
    "*Автор: Паршина Анастасия, НИУ ВШЭ (tg: @aaparshina)*\n",
    "\n",
    "*Дополнила: Капустина Лика, НИУ ВШЭ (tg: @lika_kapustina)*\n",
    "\n",
    "и доп вставки от Иванова Юрия\n",
    "\n",
    "## Содержание\n",
    "\n",
    "\n",
    "1. [Типы данных — часть 4.1 Множества](#par1)\n",
    "    1. [Создание множеств](#par1.1)\n",
    "    2. [Методы изменения множеств](#par1.2)\n",
    "    3. [Операции для работы с множествами](#par1.3)\n",
    "    4. [Неизменяемое множество](#par1.4)\n",
    "2. [Типы данных — часть 4.2 Словари](#par2)\n",
    "    1. [Создание словаря, ключи и значения](#par2.1)\n",
    "    2. [Методы работы со словарями](#par2.2)\n",
    "3. [Дополнительные материалы](#parlast)"
   ]
  },
  {
   "cell_type": "markdown",
   "id": "6ba3ca3b",
   "metadata": {},
   "source": [
    "Сегодня у нас будет очень много фигурных скобочек `{}`. Визуально вы можете их встретить при работе с множествами и со словарями, однако важно помнить, что это два разных типа данных. Сначала разберемся с множествами.\n",
    "\n",
    "## Типы данных — часть 4.1 Множества <a name=\"par1\"></a>\n",
    "\n",
    "В истории с множествами важно помнить, что сами по себе (`set`) они изменяемы — например, позволяют добавлять в себя элементы или, наоброт, убирать их, однако сужествует и неизменяемое множество (`frozenset`). Сначала обговорим первое, а потом пару слов скажем о втором.\n",
    "\n",
    "### Создание множеств <a name=\"par1.1\"></a>\n",
    "\n",
    "Способов создать множество два:\n",
    "1. через функцию `set()`; \n",
    "2. через фигруные скобки;\n",
    "3. через set comprehension."
   ]
  },
  {
   "cell_type": "code",
   "execution_count": 3,
   "id": "f7fa571a",
   "metadata": {},
   "outputs": [
    {
     "data": {
      "text/plain": [
       "'q'"
      ]
     },
     "execution_count": 3,
     "metadata": {},
     "output_type": "execute_result"
    }
   ],
   "source": [
    "'qwerty'.__iter__().__next__()"
   ]
  },
  {
   "cell_type": "code",
   "execution_count": 4,
   "id": "a5706799",
   "metadata": {},
   "outputs": [
    {
     "name": "stdout",
     "output_type": "stream",
     "text": [
      "{'r', 'q', 'y', 'w', 't', 'e'}\n"
     ]
    }
   ],
   "source": [
    "A = set('qwerty')\n",
    "print(A)"
   ]
  },
  {
   "cell_type": "markdown",
   "id": "698d7fde",
   "metadata": {},
   "source": [
    "Первый на вход обязательно принимает итерируемый объект. Убедимся в этом, скормив ему целое число:"
   ]
  },
  {
   "cell_type": "code",
   "execution_count": 5,
   "id": "27cb992d",
   "metadata": {},
   "outputs": [
    {
     "ename": "TypeError",
     "evalue": "'int' object is not iterable",
     "output_type": "error",
     "traceback": [
      "\u001b[1;31m---------------------------------------------------------------------------\u001b[0m",
      "\u001b[1;31mTypeError\u001b[0m                                 Traceback (most recent call last)",
      "\u001b[1;32m~\\AppData\\Local\\Temp/ipykernel_13048/701262054.py\u001b[0m in \u001b[0;36m<cell line: 1>\u001b[1;34m()\u001b[0m\n\u001b[1;32m----> 1\u001b[1;33m \u001b[0mA\u001b[0m \u001b[1;33m=\u001b[0m \u001b[0mset\u001b[0m\u001b[1;33m(\u001b[0m\u001b[1;36m12\u001b[0m\u001b[1;33m)\u001b[0m\u001b[1;33m\u001b[0m\u001b[1;33m\u001b[0m\u001b[0m\n\u001b[0m\u001b[0;32m      2\u001b[0m \u001b[0mprint\u001b[0m\u001b[1;33m(\u001b[0m\u001b[0mA\u001b[0m\u001b[1;33m)\u001b[0m\u001b[1;33m\u001b[0m\u001b[1;33m\u001b[0m\u001b[0m\n",
      "\u001b[1;31mTypeError\u001b[0m: 'int' object is not iterable"
     ]
    }
   ],
   "source": [
    "A = set(12)\n",
    "print(A)"
   ]
  },
  {
   "cell_type": "code",
   "execution_count": 7,
   "id": "144216f0",
   "metadata": {},
   "outputs": [
    {
     "data": {
      "text/plain": [
       "set"
      ]
     },
     "execution_count": 7,
     "metadata": {},
     "output_type": "execute_result"
    }
   ],
   "source": [
    "type({2})"
   ]
  },
  {
   "cell_type": "markdown",
   "id": "7420288d",
   "metadata": {},
   "source": [
    "Обратим внимание, что просто фиругные скобки принимают любые <u>неизменяемые</u> объекты.  "
   ]
  },
  {
   "cell_type": "code",
   "execution_count": 8,
   "id": "3872a39f",
   "metadata": {},
   "outputs": [
    {
     "ename": "TypeError",
     "evalue": "'str' object does not support item assignment",
     "output_type": "error",
     "traceback": [
      "\u001b[1;31m---------------------------------------------------------------------------\u001b[0m",
      "\u001b[1;31mTypeError\u001b[0m                                 Traceback (most recent call last)",
      "\u001b[1;32m~\\AppData\\Local\\Temp/ipykernel_13048/1893576371.py\u001b[0m in \u001b[0;36m<cell line: 2>\u001b[1;34m()\u001b[0m\n\u001b[0;32m      1\u001b[0m \u001b[0mstring\u001b[0m \u001b[1;33m=\u001b[0m \u001b[1;34m'qwerty'\u001b[0m\u001b[1;33m\u001b[0m\u001b[1;33m\u001b[0m\u001b[0m\n\u001b[1;32m----> 2\u001b[1;33m \u001b[0mstring\u001b[0m\u001b[1;33m[\u001b[0m\u001b[1;33m-\u001b[0m\u001b[1;36m1\u001b[0m\u001b[1;33m]\u001b[0m \u001b[1;33m=\u001b[0m \u001b[1;36m2\u001b[0m\u001b[1;33m\u001b[0m\u001b[1;33m\u001b[0m\u001b[0m\n\u001b[0m",
      "\u001b[1;31mTypeError\u001b[0m: 'str' object does not support item assignment"
     ]
    }
   ],
   "source": [
    "string = 'qwerty'\n",
    "string[-1] = 2"
   ]
  },
  {
   "cell_type": "code",
   "execution_count": 10,
   "id": "440bcb30",
   "metadata": {},
   "outputs": [
    {
     "name": "stdout",
     "output_type": "stream",
     "text": [
      "{True, 12, 12.4, 'qwerty'}\n"
     ]
    }
   ],
   "source": [
    "B = {'qwerty', 12, True, 12.4}\n",
    "print(B)"
   ]
  },
  {
   "cell_type": "code",
   "execution_count": 11,
   "id": "a3da800f-ea04-428a-90db-5dbddd5ac938",
   "metadata": {},
   "outputs": [
    {
     "data": {
      "text/plain": [
       "set"
      ]
     },
     "execution_count": 11,
     "metadata": {},
     "output_type": "execute_result"
    }
   ],
   "source": [
    "type(B)"
   ]
  },
  {
   "cell_type": "markdown",
   "id": "dcf46e33",
   "metadata": {},
   "source": [
    "Если мы попробуем тоже самое сделать с изменяемыми объектами (например, списками или множествами), то увидим ошибку: "
   ]
  },
  {
   "cell_type": "code",
   "execution_count": 12,
   "id": "0e079bbf",
   "metadata": {},
   "outputs": [
    {
     "ename": "TypeError",
     "evalue": "unhashable type: 'list'",
     "output_type": "error",
     "traceback": [
      "\u001b[1;31m---------------------------------------------------------------------------\u001b[0m",
      "\u001b[1;31mTypeError\u001b[0m                                 Traceback (most recent call last)",
      "\u001b[1;32m~\\AppData\\Local\\Temp/ipykernel_13048/2214185812.py\u001b[0m in \u001b[0;36m<cell line: 1>\u001b[1;34m()\u001b[0m\n\u001b[1;32m----> 1\u001b[1;33m \u001b[0mB\u001b[0m \u001b[1;33m=\u001b[0m \u001b[1;33m{\u001b[0m\u001b[1;33m[\u001b[0m\u001b[1;36m1\u001b[0m\u001b[1;33m,\u001b[0m\u001b[1;34m'2'\u001b[0m\u001b[1;33m,\u001b[0m \u001b[1;36m3\u001b[0m\u001b[1;33m]\u001b[0m\u001b[1;33m}\u001b[0m\u001b[1;33m\u001b[0m\u001b[1;33m\u001b[0m\u001b[0m\n\u001b[0m\u001b[0;32m      2\u001b[0m \u001b[0mprint\u001b[0m\u001b[1;33m(\u001b[0m\u001b[0mB\u001b[0m\u001b[1;33m)\u001b[0m\u001b[1;33m\u001b[0m\u001b[1;33m\u001b[0m\u001b[0m\n",
      "\u001b[1;31mTypeError\u001b[0m: unhashable type: 'list'"
     ]
    }
   ],
   "source": [
    "B = {[1,'2', 3]}\n",
    "print(B)"
   ]
  },
  {
   "cell_type": "markdown",
   "id": "672187ef",
   "metadata": {},
   "source": [
    "И последний вариант: помните list comprehension (списковые включения)? С множествами это также возможно, но через, очевидно, фигурные скобки, это еще называют абстракцией множеств: "
   ]
  },
  {
   "cell_type": "code",
   "execution_count": 14,
   "id": "a62e4a55",
   "metadata": {},
   "outputs": [
    {
     "name": "stdout",
     "output_type": "stream",
     "text": [
      "{0, 2, 4, 6, 8}\n"
     ]
    }
   ],
   "source": [
    "even = {i for i in range(10) if i%2 == 0}\n",
    "print(even)"
   ]
  },
  {
   "cell_type": "markdown",
   "id": "e5fec42e",
   "metadata": {},
   "source": [
    "Если же мы хотим создать пустое множество, то важно помнить, что фигурными скобками это сделать не получится: "
   ]
  },
  {
   "cell_type": "code",
   "execution_count": 15,
   "id": "3f11c28f",
   "metadata": {},
   "outputs": [
    {
     "name": "stdout",
     "output_type": "stream",
     "text": [
      "{} <class 'dict'>\n",
      "set() <class 'set'>\n"
     ]
    }
   ],
   "source": [
    "C = {}\n",
    "print(C, type(C))\n",
    "\n",
    "D = set()\n",
    "print(D, type(D))"
   ]
  },
  {
   "cell_type": "markdown",
   "id": "a9175ad7",
   "metadata": {},
   "source": [
    "В первом случае у нас получился словарь, о них мы поговорим чуть ниже. \n",
    "\n",
    "Что еще важно знать о множествах? Элементы в них не упорядочены. А при попытке запихнуть в них повторяющиеся элементы, останется только один уникальный. "
   ]
  },
  {
   "cell_type": "code",
   "execution_count": 17,
   "id": "393f1b87",
   "metadata": {},
   "outputs": [
    {
     "name": "stdout",
     "output_type": "stream",
     "text": [
      "{2, 3, '3', 5, 9}\n"
     ]
    }
   ],
   "source": [
    "E = {3, 5, 9, 2, '3'}\n",
    "print(E)"
   ]
  },
  {
   "cell_type": "markdown",
   "id": "162c26ab",
   "metadata": {},
   "source": [
    "Как следствие, раз элементы не упорядочены, то и обратиться к ним по индексам нельзя. "
   ]
  },
  {
   "cell_type": "code",
   "execution_count": 18,
   "id": "9b72f69c",
   "metadata": {},
   "outputs": [
    {
     "ename": "TypeError",
     "evalue": "'set' object is not subscriptable",
     "output_type": "error",
     "traceback": [
      "\u001b[1;31m---------------------------------------------------------------------------\u001b[0m",
      "\u001b[1;31mTypeError\u001b[0m                                 Traceback (most recent call last)",
      "\u001b[1;32m~\\AppData\\Local\\Temp/ipykernel_13048/3584887765.py\u001b[0m in \u001b[0;36m<cell line: 1>\u001b[1;34m()\u001b[0m\n\u001b[1;32m----> 1\u001b[1;33m \u001b[0mprint\u001b[0m\u001b[1;33m(\u001b[0m\u001b[0mE\u001b[0m\u001b[1;33m[\u001b[0m\u001b[1;36m0\u001b[0m\u001b[1;33m]\u001b[0m\u001b[1;33m)\u001b[0m\u001b[1;33m\u001b[0m\u001b[1;33m\u001b[0m\u001b[0m\n\u001b[0m",
      "\u001b[1;31mTypeError\u001b[0m: 'set' object is not subscriptable"
     ]
    }
   ],
   "source": [
    "print(E[0])"
   ]
  },
  {
   "cell_type": "code",
   "execution_count": 20,
   "id": "4f91475a-f45e-40f6-be3b-1e6edd6e803b",
   "metadata": {},
   "outputs": [],
   "source": [
    "# E.__dir__()"
   ]
  },
  {
   "cell_type": "markdown",
   "id": "fc5bd553",
   "metadata": {},
   "source": [
    "### Методы изменения множеств <a name=\"par1.2\"></a>\n",
    "\n",
    "+ Сначала обсудим разницу между `.add()` и `.update()`. Оба они добавляют элементы в множество, однако второй работает с итерируемыми объектами. "
   ]
  },
  {
   "cell_type": "code",
   "execution_count": 21,
   "id": "7fe8fd90",
   "metadata": {},
   "outputs": [
    {
     "name": "stdout",
     "output_type": "stream",
     "text": [
      "{'яблоки', 'апельсины', 'груши', 'бананы'}\n"
     ]
    }
   ],
   "source": [
    "products = {'яблоки', 'апельсины', 'груши'}\n",
    "products.add('бананы')\n",
    "print(products)"
   ]
  },
  {
   "cell_type": "code",
   "execution_count": 22,
   "id": "d0bcacf7",
   "metadata": {},
   "outputs": [
    {
     "name": "stdout",
     "output_type": "stream",
     "text": [
      "{'яблоки', 'апельсины', 'груши', 'бананы', 'киви', 'виноград'}\n"
     ]
    }
   ],
   "source": [
    "products.update(['киви', 'виноград'])\n",
    "print(products)"
   ]
  },
  {
   "cell_type": "markdown",
   "id": "9f32f09e",
   "metadata": {},
   "source": [
    "Проверьте сами, что наоборот они работать не будут. "
   ]
  },
  {
   "cell_type": "markdown",
   "id": "41bc8c25",
   "metadata": {},
   "source": [
    "+ Для удаления конкретного элемента из множества используется `.remove()`, а если нужно удалить сразу несколько элементов — `.difference_update()`."
   ]
  },
  {
   "cell_type": "code",
   "execution_count": 23,
   "id": "5888cc91",
   "metadata": {},
   "outputs": [
    {
     "name": "stdout",
     "output_type": "stream",
     "text": [
      "{'яблоки', 'груши', 'бананы', 'киви', 'виноград'}\n"
     ]
    }
   ],
   "source": [
    "products.remove('апельсины')\n",
    "print(products)"
   ]
  },
  {
   "cell_type": "code",
   "execution_count": 24,
   "id": "b5d4b5a9",
   "metadata": {},
   "outputs": [
    {
     "name": "stdout",
     "output_type": "stream",
     "text": [
      "{'бананы', 'киви', 'виноград'}\n"
     ]
    }
   ],
   "source": [
    "products.difference_update(['груши', 'яблоки'])\n",
    "print(products)"
   ]
  },
  {
   "cell_type": "markdown",
   "id": "3eae4c66",
   "metadata": {},
   "source": [
    "Важно! Если мы попробуем удалить объект, которого в множестве уже нет, то будет выдана ошибка: "
   ]
  },
  {
   "cell_type": "code",
   "execution_count": 26,
   "id": "2a3f53d7",
   "metadata": {},
   "outputs": [
    {
     "data": {
      "text/plain": [
       "False"
      ]
     },
     "execution_count": 26,
     "metadata": {},
     "output_type": "execute_result"
    }
   ],
   "source": [
    "'апельсины' in products"
   ]
  },
  {
   "cell_type": "code",
   "execution_count": 25,
   "id": "6dd01ca8",
   "metadata": {},
   "outputs": [
    {
     "ename": "KeyError",
     "evalue": "'апельсины'",
     "output_type": "error",
     "traceback": [
      "\u001b[1;31m---------------------------------------------------------------------------\u001b[0m",
      "\u001b[1;31mKeyError\u001b[0m                                  Traceback (most recent call last)",
      "\u001b[1;32m~\\AppData\\Local\\Temp/ipykernel_13048/3659214736.py\u001b[0m in \u001b[0;36m<cell line: 1>\u001b[1;34m()\u001b[0m\n\u001b[1;32m----> 1\u001b[1;33m \u001b[0mproducts\u001b[0m\u001b[1;33m.\u001b[0m\u001b[0mremove\u001b[0m\u001b[1;33m(\u001b[0m\u001b[1;34m'апельсины'\u001b[0m\u001b[1;33m)\u001b[0m\u001b[1;33m\u001b[0m\u001b[1;33m\u001b[0m\u001b[0m\n\u001b[0m\u001b[0;32m      2\u001b[0m \u001b[0mprint\u001b[0m\u001b[1;33m(\u001b[0m\u001b[0mproducts\u001b[0m\u001b[1;33m)\u001b[0m\u001b[1;33m\u001b[0m\u001b[1;33m\u001b[0m\u001b[0m\n",
      "\u001b[1;31mKeyError\u001b[0m: 'апельсины'"
     ]
    }
   ],
   "source": [
    "products.remove('апельсины')\n",
    "print(products)"
   ]
  },
  {
   "cell_type": "markdown",
   "id": "e1c548cb",
   "metadata": {},
   "source": [
    "Чтобы избежать ее, можно пользоваться методом `.discard()` — он не будет возвращать ошибку."
   ]
  },
  {
   "cell_type": "code",
   "execution_count": 27,
   "id": "e4181416",
   "metadata": {},
   "outputs": [
    {
     "name": "stdout",
     "output_type": "stream",
     "text": [
      "{'бананы', 'киви', 'виноград'}\n"
     ]
    }
   ],
   "source": [
    "products.discard('апельсины')\n",
    "print(products)"
   ]
  },
  {
   "cell_type": "markdown",
   "id": "37652c60",
   "metadata": {},
   "source": [
    "И последний метод, который изменяет само множество, — `.pop()`. Он вытаскивает элемент рандомно, при этом дает возможность сохранить его в переменную:"
   ]
  },
  {
   "cell_type": "code",
   "execution_count": 31,
   "id": "8eee700e",
   "metadata": {},
   "outputs": [
    {
     "ename": "KeyError",
     "evalue": "'pop from an empty set'",
     "output_type": "error",
     "traceback": [
      "\u001b[1;31m---------------------------------------------------------------------------\u001b[0m",
      "\u001b[1;31mKeyError\u001b[0m                                  Traceback (most recent call last)",
      "\u001b[1;32m~\\AppData\\Local\\Temp/ipykernel_13048/2129597923.py\u001b[0m in \u001b[0;36m<cell line: 1>\u001b[1;34m()\u001b[0m\n\u001b[1;32m----> 1\u001b[1;33m \u001b[0mget_product\u001b[0m \u001b[1;33m=\u001b[0m \u001b[0mproducts\u001b[0m\u001b[1;33m.\u001b[0m\u001b[0mpop\u001b[0m\u001b[1;33m(\u001b[0m\u001b[1;33m)\u001b[0m\u001b[1;33m\u001b[0m\u001b[1;33m\u001b[0m\u001b[0m\n\u001b[0m\u001b[0;32m      2\u001b[0m \u001b[0mprint\u001b[0m\u001b[1;33m(\u001b[0m\u001b[0mget_product\u001b[0m\u001b[1;33m,\u001b[0m \u001b[0mproducts\u001b[0m\u001b[1;33m)\u001b[0m\u001b[1;33m\u001b[0m\u001b[1;33m\u001b[0m\u001b[0m\n",
      "\u001b[1;31mKeyError\u001b[0m: 'pop from an empty set'"
     ]
    }
   ],
   "source": [
    "get_product = products.pop()\n",
    "print(get_product, products)"
   ]
  },
  {
   "cell_type": "markdown",
   "id": "6b737e52",
   "metadata": {},
   "source": [
    "Проверьте — какую ошибку выдает метод, если работает с пустым множеством? "
   ]
  },
  {
   "cell_type": "markdown",
   "id": "817a968d",
   "metadata": {},
   "source": [
    "<center><b><font size=4>Задача №1</font></b></center>\n",
    "\n",
    "**Иван хочет понять, какие еще предметы он может включить в свой учебный план. Напишите программу, которая принимает на вход строку с названиями предметов в его учебном плане, название нового предмета который Иван хочет включить в УП, и выводит информацию о том можно ли его включить в УП и названия курсов Ивана в УП:**\n",
    "\n",
    "* Сперва программа принимает на вход перечисленные через запятую с точкой и пробелом **названия курсов в учебном плане** и **преобразует эту строку в множество `set`**;\n",
    "* Далее программа принимает на вход **название курса, который студент хочет включить в учебный план**;\n",
    "* Если этот курс **уже включен в учебный план**, программа печатает `Вы уже изучали этот предмет`;\n",
    "* Если этот курс **еще не включен в учебный план**, программа печатает `Вы еще не изучали этот предмет` и **добавляет новое значение в множество**.\n",
    "\n",
    "* В конце программа выводит **отсортированный в алфавитном порядке список предметов в учебном плане**.\n",
    "\n",
    "\n",
    "\n",
    "* *Обратите внимание: Названия предметов перечислены через точку с запятой и пробел*;\n",
    "* <font color='orange'>Использование множеств и методов множеств при решении этой задачи является обязательным. </font>\n",
    "\n",
    "\n",
    "\n",
    "**Ориентируйтесь на тесты ниже:**\n",
    "<center> \n",
    "    <table>\n",
    "        <tr>\n",
    "            <th><center>Ввод</center></th>\n",
    "            <th><center>Результат</center></th>\n",
    "        </tr> \n",
    "        <tr><td><p>Анализ данных; Категории политической науки; Python; R; ТВиМС; Регрессионный анализ</p>\n",
    "                <p>ТВиМС</p></td>\n",
    "            <td><p>Вы уже изучали этот предмет</p>\n",
    "                <p>['Python', 'R', 'Анализ данных', 'Категории политической науки', 'Регрессионный анализ', 'ТВиМС']</p></td></tr>\n",
    "        <tr><td><p>Python; Python; Python; История политических учений</p>\n",
    "                <p>R</p></td>\n",
    "            <td><p>Вы еще не изучали этот предмет</p>\n",
    "                <p>['Python', 'R', 'История политических учений']</p></td></tr>\n",
    "        <tr><td>        \n",
    "            <p>История России; Новейшая история; КПН; ИПУ; История России; Python</p>\n",
    "            <p>Python</p></td>\n",
    "            <td><p>Вы уже изучали этот предмет</p>\n",
    "<p>['Python', 'ИПУ', 'История России', 'КПН', 'Новейшая история']</p></td></tr>\n",
    "    </table>\n",
    "</center>"
   ]
  },
  {
   "cell_type": "code",
   "execution_count": 37,
   "id": "851b0d2e",
   "metadata": {},
   "outputs": [
    {
     "name": "stdout",
     "output_type": "stream",
     "text": [
      "Help on built-in function sort:\n",
      "\n",
      "sort(*, key=None, reverse=False) method of builtins.list instance\n",
      "    Sort the list in ascending order and return None.\n",
      "    \n",
      "    The sort is in-place (i.e. the list itself is modified) and stable (i.e. the\n",
      "    order of two equal elements is maintained).\n",
      "    \n",
      "    If a key function is given, apply it once to each list item and sort them,\n",
      "    ascending or descending, according to their function values.\n",
      "    \n",
      "    The reverse flag can be set to sort in descending order.\n",
      "\n"
     ]
    }
   ],
   "source": [
    "help(lst.sort)"
   ]
  },
  {
   "cell_type": "code",
   "execution_count": 36,
   "id": "9cca8144",
   "metadata": {},
   "outputs": [
    {
     "name": "stdout",
     "output_type": "stream",
     "text": [
      "Анализ данных; Категории политической науки; Python; R; ТВиМС; Регрессионный анализ\n",
      "{'Регрессионный анализ', 'ТВиМС', 'R', 'Python', 'Анализ данных', 'Категории политической науки'}\n",
      "ТВиМС\n",
      "Вы уже изучали этот предмет\n",
      "['Регрессионный анализ', 'ТВиМС', 'R', 'Python', 'Анализ данных', 'Категории политической науки']\n"
     ]
    }
   ],
   "source": [
    "# YOUR CODE HERE\n",
    "my_set = set(input().split('; '))\n",
    "print(my_set)\n",
    "new_subject = input()\n",
    "\n",
    "if new_subject in my_set:\n",
    "    print(\"Вы уже изучали этот предмет\")\n",
    "    lst = list(my_set)\n",
    "    sorted(lst)\n",
    "    print(lst)\n",
    "else:\n",
    "    print(\"Вы НЕ изучали этот предмет\")\n",
    "    lst = list(my_set)\n",
    "    lst = lst.sort(reverse=True)\n",
    "    print(lst)"
   ]
  },
  {
   "cell_type": "markdown",
   "id": "33e42d6e",
   "metadata": {},
   "source": [
    "### Операции для работы с множествами <a name=\"par1.3\"></a>\n",
    "\n",
    "Важно! Операции для работы с множествами множество не изменяют, а буквально создают новый объект.\n",
    "\n",
    "**Здесь и далее мы будем говорить про разные методы и использовать такие термины, как `intersection`, `symmetric_difference`, `difference`, `union`. Чтобы не запутаться и разобраться в том, что возвращают определенные операции работы с множествами, смотрите на это изображение:**\n",
    "\n",
    "![пик](https://www.learnbyexample.org/wp-content/uploads/python/Python-Set-Operatioons.png)\n",
    "\n",
    "Предположим, у нас есть множество респондентов, которые любят кофе, и множество респондентов, которые любят чай. \n",
    "\n",
    "Вопрос — кто из них любит и то, и то?\n",
    "\n"
   ]
  },
  {
   "cell_type": "code",
   "execution_count": null,
   "id": "a3373fd5",
   "metadata": {},
   "outputs": [],
   "source": [
    "# Пересечение множеств\n",
    "\n",
    "coffee = {'Влад', 'Катя', 'Рита', 'Дима'}\n",
    "tea = {'Рита', 'Дима', 'Настя', 'Максим'}\n",
    "\n",
    "print(coffee.intersection(tea))\n",
    "print(coffee & tea) #& - and"
   ]
  },
  {
   "cell_type": "markdown",
   "id": "7d97c237",
   "metadata": {},
   "source": [
    "Вопрос — кто из них любит что-то одно (т.е. не находится на пересечении)? "
   ]
  },
  {
   "cell_type": "code",
   "execution_count": null,
   "id": "9841ce20",
   "metadata": {},
   "outputs": [],
   "source": [
    "# Симметрическая разность множеств\n",
    "coffee = {'Влад', 'Катя', 'Рита', 'Дима'}\n",
    "tea = {'Рита', 'Дима', 'Настя', 'Максим'}\n",
    "\n",
    "print(coffee.symmetric_difference(tea))\n",
    "print(coffee ^ tea)"
   ]
  },
  {
   "cell_type": "markdown",
   "id": "5a360563",
   "metadata": {},
   "source": [
    "Вопрос — кто любит только кофе?"
   ]
  },
  {
   "cell_type": "code",
   "execution_count": null,
   "id": "116c2348",
   "metadata": {},
   "outputs": [],
   "source": [
    "# Разность множеств coffee и tea\n",
    "coffee = {'Влад', 'Катя', 'Рита', 'Дима'}\n",
    "tea = {'Рита', 'Дима', 'Настя', 'Максим'}\n",
    "\n",
    "print(coffee.difference(tea))\n",
    "print(coffee - tea)"
   ]
  },
  {
   "cell_type": "markdown",
   "id": "97f67e1c",
   "metadata": {},
   "source": [
    "Вопрос — кто любит только чай?"
   ]
  },
  {
   "cell_type": "code",
   "execution_count": null,
   "id": "127cd82e",
   "metadata": {},
   "outputs": [],
   "source": [
    "# Разность множеств tea и coffee\n",
    "coffee = {'Влад', 'Катя', 'Рита', 'Дима'}\n",
    "tea = {'Рита', 'Дима', 'Настя', 'Максим'}\n",
    "\n",
    "print(tea.difference(coffee))\n",
    "print(tea - coffee)"
   ]
  },
  {
   "cell_type": "markdown",
   "id": "306ed796",
   "metadata": {},
   "source": [
    "Вопрос — сколько у нас всего респондентов?"
   ]
  },
  {
   "cell_type": "code",
   "execution_count": 38,
   "id": "0347066b",
   "metadata": {},
   "outputs": [
    {
     "name": "stdout",
     "output_type": "stream",
     "text": [
      "{'Катя', 'Дима', 'Рита', 'Настя', 'Максим', 'Влад'}\n",
      "{'Катя', 'Дима', 'Рита', 'Настя', 'Максим', 'Влад'}\n",
      "6\n"
     ]
    }
   ],
   "source": [
    "# Объединение множеств\n",
    "coffee = {'Влад', 'Катя', 'Рита', 'Дима'}\n",
    "tea = {'Рита', 'Дима', 'Настя', 'Максим'}\n",
    "\n",
    "print(coffee.union(tea))\n",
    "print(coffee | tea) # | or\n",
    "print(len(coffee.union(tea)))"
   ]
  },
  {
   "cell_type": "code",
   "execution_count": 39,
   "id": "a7cc8a0d",
   "metadata": {},
   "outputs": [
    {
     "data": {
      "text/plain": [
       "{'Влад', 'Дима', 'Катя', 'Рита'}"
      ]
     },
     "execution_count": 39,
     "metadata": {},
     "output_type": "execute_result"
    }
   ],
   "source": [
    "coffee"
   ]
  },
  {
   "cell_type": "code",
   "execution_count": 40,
   "id": "d210bcef",
   "metadata": {},
   "outputs": [
    {
     "data": {
      "text/plain": [
       "{'Дима', 'Максим', 'Настя', 'Рита'}"
      ]
     },
     "execution_count": 40,
     "metadata": {},
     "output_type": "execute_result"
    }
   ],
   "source": [
    "tea"
   ]
  },
  {
   "cell_type": "markdown",
   "id": "3cc9051d",
   "metadata": {},
   "source": [
    "С основным разобрались. Теперь не основное, но важное. \n",
    "\n",
    "Те же самые команды, НО с добавлением к ним `_update()` меняют множество! Приведем пример с `intersection_update()`, а остальное проверьте сами!"
   ]
  },
  {
   "cell_type": "code",
   "execution_count": 41,
   "id": "86adda35",
   "metadata": {},
   "outputs": [
    {
     "name": "stdout",
     "output_type": "stream",
     "text": [
      "{'Рита', 'Дима', 'Влад', 'Катя'}\n",
      "{'Рита', 'Максим', 'Дима', 'Настя'}\n",
      "Посмотрим, что изменилось после использования coffee.intersection_update(tea): \n",
      "{'Рита', 'Дима'}\n",
      "{'Рита', 'Максим', 'Дима', 'Настя'}\n"
     ]
    }
   ],
   "source": [
    "coffee = {'Влад', 'Катя', 'Рита', 'Дима'}\n",
    "tea = {'Рита', 'Дима', 'Настя', 'Максим'}\n",
    "\n",
    "# Пересечение множеств coffee и tea\n",
    "\n",
    "print(coffee)\n",
    "print(tea)\n",
    "\n",
    "coffee.intersection_update(tea)\n",
    "\n",
    "print('Посмотрим, что изменилось после использования coffee.intersection_update(tea): ')\n",
    "print(coffee) # сюда сохранилось пересечение множеств! \n",
    "print(tea)"
   ]
  },
  {
   "cell_type": "code",
   "execution_count": null,
   "id": "cd17132b",
   "metadata": {},
   "outputs": [],
   "source": [
    "coffee = {'Влад', 'Катя', 'Рита', 'Дима'}\n",
    "tea = {'Рита', 'Дима', 'Настя', 'Максим'}\n",
    "\n",
    "# Пересечение множеств coffee и tea\n",
    "\n",
    "print(coffee)\n",
    "print(tea)\n",
    "\n",
    "coffee &= tea # тоже самое \n",
    "\n",
    "print(coffee) # сюда сохранилось пересечение множеств! \n",
    "print(tea)"
   ]
  },
  {
   "cell_type": "markdown",
   "id": "4d5b27e5",
   "metadata": {},
   "source": [
    "Осталось три метода — `.issubset()`, `.issuperset()` и `.isdisjoint()`. \n",
    "\n",
    "+ `.issubset()` проверяет, что множество является <i>подмножеством</i> другого множества\n",
    "+ `.issuperset()` проверяет, что множество является <i>надмножеством</i> другого множества\n",
    "+ `.isdisjoint()` проверяет, что у множеств нет пересекающихся элементов\n",
    "\n",
    "Все три метода выдают либо `False`, либо `True`."
   ]
  },
  {
   "cell_type": "markdown",
   "id": "29c8fb6b",
   "metadata": {},
   "source": [
    "<center><b><font size=4>Задача №2</font></b></center>\n",
    "\n",
    "**Напишите программу, которая печатает вам информацию о студентах и курсах по выбору, на которые они записались:**\n",
    "\n",
    "\n",
    "**Заранее созданы строки с именами:**\n",
    "* `students_1` – студенты, которые выбрали КПВ \"Ислам и политика\"\n",
    "* `students_2` – студенты, которые выбрали КПВ \"Политическая система США\"\n",
    "* `students_3` – студенты, которые выбрали КПВ \"Web-scraping\"\n",
    "\n",
    "**Напечатайте следующую информацию:**\n",
    "\n",
    "* Имена студентов, которые **пошли на курс \"Ислам и политика\" и пошли на курс \"Полит. система США\"**;\n",
    "* Имена студентов, которые **пошли на курс \"Ислам и политика\", но не пошли на курс \"Полит.система США\"**;\n",
    "* Имена студентов, которые **пошли на курс \"Web-Scraping\", но не пошли на другие два курса**.\n",
    "\n",
    "<font color='orange'>Использование методов множеств обязательно.</font>"
   ]
  },
  {
   "cell_type": "code",
   "execution_count": null,
   "id": "0d4abc18",
   "metadata": {},
   "outputs": [],
   "source": [
    "students_1 = 'Аня Даша Глаша Наташа Марина Ирина' # выбрали КПВ \"Ислам и политика\"\n",
    "students_2 = 'Даша Глаша Марина'                  # выбрали КПВ \"Политическая система США\"\n",
    "students_3 = 'Ирина Наташа Аня Даша Глафира Зина' # выбрали КПВ \"Web-scraping\"\n",
    "\n",
    "\n",
    "# YOUR CODE HERE\n",
    "\n",
    "print(f'На курс \"Ислам и Политика\" и курс \"Полит. система США\" пошли: {# YOUR CODE HERE}')\n",
    "print(f'Выбрали курс \"Ислам и политика\", но не выбрали курс \"Полит. система США\": {# YOUR CODE HERE}')\n",
    "print(f'Пошли на курс \"Web-scraping\", но не пошли на остальные курсы: {# YOUR CODE HERE}')"
   ]
  },
  {
   "cell_type": "markdown",
   "id": "4accf3f6",
   "metadata": {},
   "source": [
    "### Остановились здесь"
   ]
  },
  {
   "cell_type": "markdown",
   "id": "0a88d8a8",
   "metadata": {},
   "source": [
    "### Неизменяемое множество <a name=\"par1.4\"></a>"
   ]
  },
  {
   "cell_type": "markdown",
   "id": "f1f1cde0",
   "metadata": {},
   "source": [
    "Очевидно, что любые методы, которые могут изменять множество, тут не работают. Конец. \n",
    "\n",
    "Ладно, все-таки сделаем одно такое множество и покажем, что с ним работает."
   ]
  },
  {
   "cell_type": "code",
   "execution_count": null,
   "id": "7ef2743f",
   "metadata": {},
   "outputs": [],
   "source": [
    "X = frozenset(1, 2, 4)"
   ]
  },
  {
   "cell_type": "markdown",
   "id": "99594b46",
   "metadata": {},
   "source": [
    "Ой, что-то пошло не так. Помним, что эта функция, аналогично функции `set()` работает только с итерируемыми объектами!"
   ]
  },
  {
   "cell_type": "code",
   "execution_count": null,
   "id": "7d497b6e",
   "metadata": {},
   "outputs": [],
   "source": [
    "X = frozenset(['10', 2, 3, '8', 6, '7'])\n",
    "Y = frozenset((3, 4, '6', 2, '3', 8))\n",
    "print(X)\n",
    "print(Y)"
   ]
  },
  {
   "cell_type": "markdown",
   "id": "59768b3e",
   "metadata": {},
   "source": [
    "Вот все, что работает:"
   ]
  },
  {
   "cell_type": "code",
   "execution_count": null,
   "id": "b9a6f477",
   "metadata": {},
   "outputs": [],
   "source": [
    "print(f'У множеств нет общих элементов (True/False): {X.isdisjoint(Y)}')\n",
    "\n",
    "print(f'Множество Х является подмножеством Y (True/False): {X.isdisjoint(Y)}')\n",
    "\n",
    "print(f'Множество Х является надмножеством Y (True/False): {X.issuperset(Y)}')\n",
    "\n",
    "print(f'Пересечение множеств Х и Y: {X.intersection(Y)}') \n",
    "\n",
    "print(f'Объединение множеств Х и Y: {X.union(Y)}') \n",
    "\n",
    "print(f'Симметрическая разность множеств Х и Y: {X.symmetric_difference(Y)}')\n",
    "\n",
    "print(f'Разность множеств Х и Y: {X.difference(Y)}') \n",
    "\n",
    "print(f'Разность множеств Y и X: {Y.difference(X)}') "
   ]
  },
  {
   "cell_type": "markdown",
   "id": "4f64f4a8-ad7a-4fbf-bad4-b7c600401766",
   "metadata": {},
   "source": [
    "__Подытожим про множество__\n",
    "\n",
    "Множество - это набор уникальных элементов в случайном порядке (неупорядоченный список). Множества примечательны тем, что операция проверки “принадлежит ли объект множеству” происходит значительно быстрее аналогичных операций в других структурах данных.\n",
    "\n",
    "В каких случаях использовать?\n",
    "\n",
    "Когда необходимо проверять принадлежит ли значение набору уникальных элементов и отсутствует необходимость поддерживать порядок в данном наборе Либо вам необходимо осуществлять теоретико-множественные операции над объектами (пересечение, объединение и другие)."
   ]
  },
  {
   "cell_type": "markdown",
   "id": "054622e2",
   "metadata": {},
   "source": [
    "## Типы данных — часть 4.2 Словари <a name=\"par2\"></a>\n",
    "\n",
    "Со словарями мы столкнулись в самом начале, сейчас разберемся подробнее. "
   ]
  },
  {
   "cell_type": "markdown",
   "id": "a1de6329-edd5-42d7-8086-b1ed85669b91",
   "metadata": {},
   "source": [
    "**Словарь** - это реализация т.н. **ассоциативного массива** в Python. \n",
    "\n",
    "* Ассоциативный массив — абстрактный тип данных, позволяющий хранить пары вида «(ключ, значение)» и поддерживающий операции добавления пары, а также поиска и удаления пары по ключу: INSERT(ключ, значение), FIND(ключ), REMOVE(ключ).\n",
    "* Ассоциативный массив не может хранить две пары с одинаковыми ключаоки.\n",
    "* Ассоциативный массив можно реализовать разными способами в языке. Иногда их реализуют с прмощью различных деревьях поиска. Так, например, в стандартной библиотеке STL языка C++ контейнер map реализован на основе красно-чёрного дерева. В Python же используется один из вариантов хеш-таблицы. Что такое хеш-таблица и деревья поиска мы в курсе на затроним, но можете поинтересоваться в качестве дополнительного расширения кругозора. ."
   ]
  },
  {
   "cell_type": "markdown",
   "id": "a70afc32-626a-45fa-a5c4-633b926df7ea",
   "metadata": {},
   "source": [
    "__Для чего он нужен?__ Ассоциативный массив с точки зрения интерфейса удобно рассматривать как __обычный массив__, в котором в качестве __индексов__ можно использовать не только __целые числа__, но и значения __других типов__ — например, строки."
   ]
  },
  {
   "cell_type": "markdown",
   "id": "0c12ddc2-9527-40c4-ae44-3ac1afb1daa8",
   "metadata": {},
   "source": [
    "### Создание словаря, ключи и значения <a name=\"par2.1\"></a>\n",
    "\n",
    "Самое важное (что бы для вас сейчас это ни значило): начиная с Python 3.7 словари стали упорядоченными!\n",
    "\n",
    "Словарь можно создать четырьмя способами: \n",
    "\n",
    "1. Фигурными скобками (это уже было выше)"
   ]
  },
  {
   "cell_type": "code",
   "execution_count": null,
   "id": "2bcf62cb",
   "metadata": {},
   "outputs": [],
   "source": []
  },
  {
   "cell_type": "code",
   "execution_count": 1,
   "id": "1250b028",
   "metadata": {},
   "outputs": [
    {
     "name": "stdout",
     "output_type": "stream",
     "text": [
      "{} <class 'dict'>\n",
      "{'Математика': [3, 5, 2, 3, 5], 'Русский язык': [2, 4, 1, 5, 3]} <class 'dict'>\n"
     ]
    }
   ],
   "source": [
    "new_dict1 = {}\n",
    "print(new_dict1, type(new_dict1))\n",
    "\n",
    "new_dict1 = {'Математика' : [3, 5, 2, 3, 5], 'Русский язык' : [2, 4, 1, 5, 3]}\n",
    "print(new_dict1, type(new_dict1))"
   ]
  },
  {
   "cell_type": "markdown",
   "id": "6822b51d",
   "metadata": {},
   "source": [
    "При таком создании словаря обратите внимание на тип записи: `ключ : значение`!\n",
    "\n",
    "Далее логичный вопрос: что может быть ключом словаря, а что — значением?\n",
    "\n",
    "| Ключ / неизменяемый тип |\n",
    "|:---:|\n",
    "| числа      | \n",
    "| строки       |\n",
    "| кортежи       |\n",
    "| логический тип      | \n",
    "| frozenset      | \n",
    "\n",
    "\n",
    "Значением может быть любой тип данных. \n",
    "\n",
    "Попытка создания словаря, где ключ представлен изменяемым типом, приведет к ошибке: "
   ]
  },
  {
   "cell_type": "code",
   "execution_count": 2,
   "id": "c952f109",
   "metadata": {},
   "outputs": [
    {
     "ename": "TypeError",
     "evalue": "unhashable type: 'list'",
     "output_type": "error",
     "traceback": [
      "\u001b[1;31m---------------------------------------------------------------------------\u001b[0m",
      "\u001b[1;31mTypeError\u001b[0m                                 Traceback (most recent call last)",
      "\u001b[1;32m~\\AppData\\Local\\Temp/ipykernel_16860/163899279.py\u001b[0m in \u001b[0;36m<cell line: 2>\u001b[1;34m()\u001b[0m\n\u001b[0;32m      1\u001b[0m \u001b[1;31m# ключ — список, значение — строка\u001b[0m\u001b[1;33m\u001b[0m\u001b[1;33m\u001b[0m\u001b[0m\n\u001b[1;32m----> 2\u001b[1;33m \u001b[0mnew_dict_try\u001b[0m \u001b[1;33m=\u001b[0m \u001b[1;33m{\u001b[0m\u001b[1;33m[\u001b[0m\u001b[1;36m1\u001b[0m\u001b[1;33m,\u001b[0m \u001b[1;36m2\u001b[0m\u001b[1;33m]\u001b[0m \u001b[1;33m:\u001b[0m \u001b[1;34m'1'\u001b[0m\u001b[1;33m}\u001b[0m\u001b[1;33m\u001b[0m\u001b[1;33m\u001b[0m\u001b[0m\n\u001b[0m",
      "\u001b[1;31mTypeError\u001b[0m: unhashable type: 'list'"
     ]
    }
   ],
   "source": [
    "# ключ — список, значение — строка\n",
    "new_dict_try = {[1, 2] : '1'}"
   ]
  },
  {
   "cell_type": "markdown",
   "id": "ad756b98",
   "metadata": {},
   "source": [
    "Если очень упрощать, то ошибка как раз и ругается на то, что список — объект изменяемый.\n",
    "\n",
    "2. Также создать словарь можно с помощью функции `dict()`, однако вместо двоеточия там будет знак равно."
   ]
  },
  {
   "cell_type": "code",
   "execution_count": 8,
   "id": "22e69781",
   "metadata": {},
   "outputs": [
    {
     "name": "stdout",
     "output_type": "stream",
     "text": [
      "{} <class 'dict'>\n",
      "{'Математика': [3, 5, 2, 3, 5], 'Русский_язык': [2, 4, 1, 5, 3]} <class 'dict'>\n"
     ]
    }
   ],
   "source": [
    "new_dict2 = dict()\n",
    "print(new_dict2, type(new_dict2))\n",
    "\n",
    "new_dict2 = dict(Математика = [3, 5, 2, 3, 5], Русский_язык = [2, 4, 1, 5, 3])\n",
    "print(new_dict2, type(new_dict2))"
   ]
  },
  {
   "cell_type": "code",
   "execution_count": 5,
   "id": "8095037a",
   "metadata": {},
   "outputs": [
    {
     "data": {
      "text/plain": [
       "{'Математика': [3, 5, 2, 3, 5], 'Русский язык': [2, 4, 1, 5, 3]}"
      ]
     },
     "execution_count": 5,
     "metadata": {},
     "output_type": "execute_result"
    }
   ],
   "source": [
    "{\"Математика\" : [3, 5, 2, 3, 5], \"Русский язык\" : [2, 4, 1, 5, 3]}"
   ]
  },
  {
   "cell_type": "markdown",
   "id": "cc052f24",
   "metadata": {},
   "source": [
    "Надесь, вы обратили внимание, что ключи словаря в такой вариации его создания записываются без кавычек, однако они должны быть целыми (то есть, если написать `Русский_язык` раздельно (`Русский язык`), то будет ошибка). \n",
    "\n",
    "3. Можно создать словарь с помощью метода `.fromkeys()`. В качетстве значения он всем ключам подставляет одно единственное (которое мы укажем)."
   ]
  },
  {
   "cell_type": "code",
   "execution_count": 9,
   "id": "466a7d94",
   "metadata": {},
   "outputs": [
    {
     "name": "stdout",
     "output_type": "stream",
     "text": [
      "{'Математика': 0, 'Русский_язык': 0}\n"
     ]
    }
   ],
   "source": [
    "new_dict3 = dict.fromkeys(['Математика', 'Русский_язык'], 0)\n",
    "print(new_dict3)"
   ]
  },
  {
   "cell_type": "markdown",
   "id": "bfbcc9ca",
   "metadata": {},
   "source": [
    "4. Функция `zip()` может создать словарь из двух итерируемых объектов. Например, их двух списоков: "
   ]
  },
  {
   "cell_type": "code",
   "execution_count": 13,
   "id": "1d061ceb",
   "metadata": {},
   "outputs": [
    {
     "name": "stdout",
     "output_type": "stream",
     "text": [
      "{'Математика': [3, 5, 2, 3, 5], 'Русский язык': [2, 4, 1, 5, 3]}\n"
     ]
    }
   ],
   "source": [
    "new_dict4 = dict(zip(['Математика', 'Русский язык'], [[3, 5, 2, 3, 5], [2, 4, 1, 5, 3]]))\n",
    "print(new_dict4)"
   ]
  },
  {
   "cell_type": "markdown",
   "id": "73e8235f",
   "metadata": {},
   "source": [
    "Очень хочу, чтобы вы внимательно посмотрели на все скобки выше и разобрались с тем, почему их так много!"
   ]
  },
  {
   "cell_type": "markdown",
   "id": "aa30d837",
   "metadata": {},
   "source": [
    "### Методы словарей <a name=\"par2.2\"></a>\n",
    "\n",
    "|Есть в онлайн-курсе | Все остальное |\n",
    "|:--------------:|:-----:|\n",
    "| `.keys()` |  `.get()` |\n",
    "| `.values()`      |  `.update()` |\n",
    "| `.items()`      |  `.pop()` |\n",
    "|       |  `.popitem()` |\n",
    "|     |  `.setdefault()` |\n",
    "|     |  `.fromkeys()` |\n",
    "|     |  `.copy()` |\n",
    "|     |  `.clear()` |"
   ]
  },
  {
   "cell_type": "markdown",
   "id": "869b3c0f",
   "metadata": {},
   "source": [
    "На что стоит обратить внимание: скорее всего, вам всегда пригодится метод `.items()`, поэтому с ним нужно очень хорошо разобраться! \n",
    "\n",
    "Метод возвращает <u>пары ключ-значение</u> в виде кортежей:"
   ]
  },
  {
   "cell_type": "code",
   "execution_count": 14,
   "id": "28dd3d03",
   "metadata": {},
   "outputs": [
    {
     "name": "stdout",
     "output_type": "stream",
     "text": [
      "1 3\n",
      "2 4\n"
     ]
    }
   ],
   "source": [
    "for i, j in zip((1,2), (3,4)):\n",
    "    print(i, j)"
   ]
  },
  {
   "cell_type": "code",
   "execution_count": 15,
   "id": "17e0618a",
   "metadata": {},
   "outputs": [
    {
     "name": "stdout",
     "output_type": "stream",
     "text": [
      "('Математика', [3, 5, 2, 3, 5])\n",
      "('Русский язык', [2, 4, 1, 5, 3])\n"
     ]
    }
   ],
   "source": [
    "for pair in new_dict4.items():\n",
    "    print(pair)"
   ]
  },
  {
   "cell_type": "markdown",
   "id": "94f6f2f5",
   "metadata": {},
   "source": [
    "Но мы же можем еще эти кортежи «распаковать», то есть в одну переменную сохранить ключ, а в другую — значение. "
   ]
  },
  {
   "cell_type": "code",
   "execution_count": 16,
   "id": "9b89ad20",
   "metadata": {},
   "outputs": [
    {
     "name": "stdout",
     "output_type": "stream",
     "text": [
      "Ключ Математика, значение [3, 5, 2, 3, 5]\n",
      "Ключ Русский язык, значение [2, 4, 1, 5, 3]\n"
     ]
    }
   ],
   "source": [
    "for key, value in new_dict4.items():\n",
    "    print(f'Ключ {key}, значение {value}')"
   ]
  },
  {
   "cell_type": "markdown",
   "id": "ed6495f4",
   "metadata": {},
   "source": [
    "Давайте я добавлю в наш словарь еще несколько пар ключ-значение и попробуем выполнить с ними какую-нибудь задачку. К слову, обратите внимание, как в словарь добавлять новые данные. "
   ]
  },
  {
   "cell_type": "code",
   "execution_count": 17,
   "id": "43a35e90",
   "metadata": {},
   "outputs": [
    {
     "name": "stdout",
     "output_type": "stream",
     "text": [
      "{'Математика': [3, 5, 2, 3, 5], 'Русский язык': [2, 4, 1, 5, 3], 'Английский язык': [2, 4, 5, 2, 4], 'История': [1, 2, 5, 5, 5], 'Биология': [2, 2, 2, 2, 4]}\n"
     ]
    }
   ],
   "source": [
    "new_dict4['Английский язык'] = [2, 4, 5, 2, 4]\n",
    "new_dict4['История'] = [1, 2, 5, 5, 5]\n",
    "new_dict4['Биология'] = [2, 2, 2, 2, 4]\n",
    "\n",
    "print(new_dict4)"
   ]
  },
  {
   "cell_type": "markdown",
   "id": "d02f7b4c",
   "metadata": {},
   "source": [
    "Предположим, что это оценки студента по соответсвующим предметам. По какому предмету в среднем оценки самые лучшие? "
   ]
  },
  {
   "cell_type": "code",
   "execution_count": 22,
   "id": "d0a94ca0",
   "metadata": {},
   "outputs": [
    {
     "name": "stdout",
     "output_type": "stream",
     "text": [
      "{'Математика': 3.6, 'Русский язык': 3.0, 'Английский язык': 3.4, 'История': 3.6, 'Биология': 2.4}\n"
     ]
    }
   ],
   "source": [
    "new_dict4_av = {}\n",
    "\n",
    "for subject, marks in new_dict4.items():\n",
    "    new_dict4_av[subject] = sum(marks)/len(marks)\n",
    "    \n",
    "print(new_dict4_av)"
   ]
  },
  {
   "cell_type": "markdown",
   "id": "61c8c593",
   "metadata": {},
   "source": [
    "И тут мы сталкиваемся с вопросом — как отсортировать словарь по значениям? Если вы погуглите этот вопрос, то получите очень много ответов. Из них самым понятным мне кажется вот этот: "
   ]
  },
  {
   "cell_type": "code",
   "execution_count": 21,
   "id": "5be65779",
   "metadata": {},
   "outputs": [
    {
     "name": "stdout",
     "output_type": "stream",
     "text": [
      "['Английский язык', 'Биология', 'История', 'Математика', 'Русский язык']\n"
     ]
    }
   ],
   "source": [
    "res_1 = sorted(new_dict4_av)\n",
    "print(res_1)"
   ]
  },
  {
   "cell_type": "code",
   "execution_count": 23,
   "id": "71019a99",
   "metadata": {},
   "outputs": [
    {
     "name": "stdout",
     "output_type": "stream",
     "text": [
      "[(3.6, 'Математика'), (3.0, 'Русский язык'), (3.4, 'Английский язык'), (3.6, 'История'), (2.4, 'Биология')]\n",
      "{3.6: 'История', 3.0: 'Русский язык', 3.4: 'Английский язык', 2.4: 'Биология'}\n"
     ]
    }
   ],
   "source": [
    "res = [(value, key) for key, value in new_dict4_av.items()]\n",
    "print(res)\n",
    "print(dict(res))"
   ]
  },
  {
   "cell_type": "code",
   "execution_count": 26,
   "id": "c48eda2a",
   "metadata": {},
   "outputs": [
    {
     "data": {
      "text/plain": [
       "{3.6: 'История', 3.0: 'Русский язык', 3.4: 'Английский язык', 2.4: 'Биология'}"
      ]
     },
     "execution_count": 26,
     "metadata": {},
     "output_type": "execute_result"
    }
   ],
   "source": [
    "{value:key for key, value in new_dict4_av.items()}"
   ]
  },
  {
   "cell_type": "code",
   "execution_count": 25,
   "id": "e1c5f598",
   "metadata": {
    "scrolled": true
   },
   "outputs": [
    {
     "data": {
      "text/plain": [
       "[(3.6, 'Математика'),\n",
       " (3.6, 'История'),\n",
       " (3.4, 'Английский язык'),\n",
       " (3.0, 'Русский язык'),\n",
       " (2.4, 'Биология')]"
      ]
     },
     "execution_count": 25,
     "metadata": {},
     "output_type": "execute_result"
    }
   ],
   "source": [
    "sorted(res, reverse=True)"
   ]
  },
  {
   "cell_type": "markdown",
   "id": "9dffba6c",
   "metadata": {},
   "source": [
    "Что произошло? Буквально создали пустой список, далее положили в него кортеж `(значение, ключ)`, а потом сказали, откуда эту пару брать — из пары `ключ, значение` в нашем словаре. Иными словами поменяли их местами. \n",
    "\n",
    "Теперь к списку можно спокойно применить функцию `sorted()` и по умолчанию она отсортирует от меньшего к большему. Если хотим в обратном порядке, то также нужно будет прописать `reverse = True`."
   ]
  },
  {
   "cell_type": "code",
   "execution_count": 20,
   "id": "b1d81e68",
   "metadata": {},
   "outputs": [
    {
     "name": "stdout",
     "output_type": "stream",
     "text": [
      "[(3.6, 'Математика'), (3.6, 'История'), (3.4, 'Английский язык'), (3.0, 'Русский язык'), (2.4, 'Биология')]\n"
     ]
    }
   ],
   "source": [
    "res = sorted(res, reverse = True)\n",
    "print(res)"
   ]
  },
  {
   "cell_type": "markdown",
   "id": "dcbc2f61",
   "metadata": {},
   "source": [
    "Если у нас одно максимальное значение, то все просто — печатаем первый элемент нашего списка `res`. Если их несколько, то печатаем все элементы, где значения совпадают с максимальным:"
   ]
  },
  {
   "cell_type": "code",
   "execution_count": null,
   "id": "472bfb70",
   "metadata": {},
   "outputs": [],
   "source": [
    "best = []\n",
    "\n",
    "for pair in res:\n",
    "    if pair[0] == max(new_dict4_av.values()):\n",
    "        best.append(pair[1])\n",
    "        \n",
    "print(f'Лучший средний балл ({max(new_dict4_av.values())}) \\\n",
    "по предметам: {\", \".join(best)}')"
   ]
  },
  {
   "cell_type": "markdown",
   "id": "f7a024cf",
   "metadata": {},
   "source": [
    "<center><b><font size=4>Задача №3</font></b></center>\n",
    "\n",
    "**Вам передан список с абитуриентами `abiturients` и их баллами по математике, русскому языку и обществознанию соответственно. Напишите программу, которая принимает на вход целое число (от `0` до `100`) и название предмета (`математика`, `русский язык`, `обществознание`) и выводит отсортированный список имен студентов, которые набрали столько же или более баллов за вступительный экзамен по этому предмету**\n",
    "\n",
    "* На первой строке вводится **целое число** - пороговое число баллов для прохождения вступительных испытаний по конкретному предмету;\n",
    "* На второй строке вводится **строка - название предмета**. Гарантируется, что будет введено одно из трех значений – `математика`, `русскй язык` или `обществознание`.\n",
    "* В результате программа должна вывести **отсортированный список с именами студентов, набравших не менее порогового числа баллов по этому конкретному предмету.**\n",
    "* Если таких студентов нет, программа должна возвращать пустой список.\n",
    "\n",
    "**Ориентируйтесь на тесты ниже:**\n",
    "<center> \n",
    "    <table>\n",
    "        <tr>\n",
    "            <th><center>Ввод</center></th>\n",
    "            <th><center>Результат</center></th>\n",
    "        </tr> \n",
    "        <tr><td><p>90</p>\n",
    "                <p>математика</p></td>\n",
    "            <td>\n",
    "                <p>['Александров Александр', 'Иванов Иван', 'Сергеев Сергей', 'Федоров Федор']</p></td></tr>\n",
    "        <tr><td><p>73</p>\n",
    "                <p>обществознание</p></td>\n",
    "            <td><p>['Александров Александр', 'Иванов Иван']</p></td></tr>\n",
    "        <tr><td>        \n",
    "            <p>100</p>\n",
    "            <p>русский язык</p></td>\n",
    "            <td><p>[]</p></td></tr>\n",
    "    </table>\n",
    "</center>"
   ]
  },
  {
   "cell_type": "code",
   "execution_count": 33,
   "id": "a4beb2dd",
   "metadata": {},
   "outputs": [
    {
     "name": "stdout",
     "output_type": "stream",
     "text": [
      "75\n",
      "обществознание\n",
      "['Александров Александр', 'Иванов Иван']\n"
     ]
    }
   ],
   "source": [
    "abiturients = {'Иванов Иван': [90, 84, 95], # математика, русс, обществознание\n",
    "           'Федоров Федор': [100, 70, 65],\n",
    "           'Сергеев Сергей': [90, 83, 72],\n",
    "           'Александров Александр': [100, 60, 80],\n",
    "           'Федотов Федот': [60, 75, 60],}\n",
    "\n",
    "subject_to_index = {'математика':0, 'русский язык':1, \"обществознание\":2}\n",
    "\n",
    "score = int(input())\n",
    "subject = input()\n",
    "answer = []\n",
    "\n",
    "for name, mark in abiturients.items():\n",
    "    subject_score = mark[subject_to_index[subject]]\n",
    "    if subject_score >= score:\n",
    "        answer.append(name)\n",
    "print(sorted(answer))"
   ]
  },
  {
   "cell_type": "markdown",
   "id": "040b0d05",
   "metadata": {},
   "source": [
    "Подумайте, как тут работает `\\`.\n",
    "\n",
    "А теперь обсудим остальные методы (из них стоит обратить внимание на `.get()` и `.setgefault()`): "
   ]
  },
  {
   "cell_type": "code",
   "execution_count": 36,
   "id": "ad050f65",
   "metadata": {},
   "outputs": [
    {
     "data": {
      "text/plain": [
       "'такого предмета нет'"
      ]
     },
     "execution_count": 36,
     "metadata": {},
     "output_type": "execute_result"
    }
   ],
   "source": [
    "subject_to_index.get('физ-ра', 'такого предмета нет')"
   ]
  },
  {
   "cell_type": "code",
   "execution_count": 37,
   "id": "6f73f59a",
   "metadata": {},
   "outputs": [
    {
     "data": {
      "text/plain": [
       "{'математика': 0, 'русский язык': 1, 'обществознание': 2}"
      ]
     },
     "execution_count": 37,
     "metadata": {},
     "output_type": "execute_result"
    }
   ],
   "source": [
    "subject_to_index"
   ]
  },
  {
   "cell_type": "code",
   "execution_count": null,
   "id": "8ca378fa",
   "metadata": {},
   "outputs": [],
   "source": [
    "# .get()\n",
    "## возвращает значение ключа, а если его нет, то возвращает то, что мы напишем\n",
    "\n",
    "new_dict4_av.get('Химия', 'Ой, оценок по такому предмету нет')"
   ]
  },
  {
   "cell_type": "code",
   "execution_count": 38,
   "id": "695cb80d",
   "metadata": {},
   "outputs": [
    {
     "name": "stdout",
     "output_type": "stream",
     "text": [
      "{'Математика': 3.6, 'Русский язык': 3.0, 'Английский язык': 3.4, 'История': 3.6, 'Биология': 2.4, 'Физика': 2.7}\n"
     ]
    }
   ],
   "source": [
    "# .setdefault()\n",
    "## возвращает значение ключа, а если его нет, то создает ключ с указанным значением \n",
    "\n",
    "new_dict4_av.setdefault('Физика', 2.7)\n",
    "print(new_dict4_av)"
   ]
  },
  {
   "cell_type": "code",
   "execution_count": null,
   "id": "43914cd1",
   "metadata": {},
   "outputs": [],
   "source": [
    "my_dict['вафываыва'] = 123123"
   ]
  },
  {
   "cell_type": "code",
   "execution_count": 39,
   "id": "256357f5",
   "metadata": {},
   "outputs": [
    {
     "name": "stdout",
     "output_type": "stream",
     "text": [
      "{'Математика': 3.6, 'Русский язык': 3.0, 'Английский язык': 3.4, 'История': 3.6, 'Биология': 2.4, 'Физика': 2.7, 'Химия': 3.2, 'ОБЖ': 5.0}\n"
     ]
    }
   ],
   "source": [
    "# .update()\n",
    "## добавляет пары ключ-значение в словарь\n",
    "\n",
    "new_dict4_av.update({'Химия' : 3.2, 'ОБЖ' : 5.0})\n",
    "\n",
    "print(new_dict4_av)"
   ]
  },
  {
   "cell_type": "code",
   "execution_count": 40,
   "id": "69b5ab35",
   "metadata": {},
   "outputs": [
    {
     "name": "stdout",
     "output_type": "stream",
     "text": [
      "3.0\n",
      "{'Математика': 3.6, 'Английский язык': 3.4, 'История': 3.6, 'Биология': 2.4, 'Физика': 2.7, 'Химия': 3.2, 'ОБЖ': 5.0}\n"
     ]
    }
   ],
   "source": [
    "# .pop()\n",
    "## удаляет ключ и возвращает значение\n",
    "\n",
    "rus_av = new_dict4_av.pop('Русский язык')\n",
    "\n",
    "print(rus_av)\n",
    "print(new_dict4_av)"
   ]
  },
  {
   "cell_type": "code",
   "execution_count": 54,
   "id": "69b39e21",
   "metadata": {},
   "outputs": [
    {
     "name": "stdout",
     "output_type": "stream",
     "text": [
      "Help on built-in function popitem:\n",
      "\n",
      "popitem() method of builtins.dict instance\n",
      "    Remove and return a (key, value) pair as a 2-tuple.\n",
      "    \n",
      "    Pairs are returned in LIFO (last-in, first-out) order.\n",
      "    Raises KeyError if the dict is empty.\n",
      "\n"
     ]
    }
   ],
   "source": [
    "help(new_dict4_av.popitem)"
   ]
  },
  {
   "cell_type": "code",
   "execution_count": 52,
   "id": "817dea6e",
   "metadata": {},
   "outputs": [
    {
     "ename": "TypeError",
     "evalue": "dict.popitem() takes no arguments (1 given)",
     "output_type": "error",
     "traceback": [
      "\u001b[1;31m---------------------------------------------------------------------------\u001b[0m",
      "\u001b[1;31mTypeError\u001b[0m                                 Traceback (most recent call last)",
      "\u001b[1;32m~\\AppData\\Local\\Temp/ipykernel_16860/3057365944.py\u001b[0m in \u001b[0;36m<cell line: 4>\u001b[1;34m()\u001b[0m\n\u001b[0;32m      2\u001b[0m \u001b[1;31m## удаляет и возвращает пару ключ-значение\u001b[0m\u001b[1;33m\u001b[0m\u001b[1;33m\u001b[0m\u001b[0m\n\u001b[0;32m      3\u001b[0m \u001b[1;33m\u001b[0m\u001b[0m\n\u001b[1;32m----> 4\u001b[1;33m \u001b[0mhist_av\u001b[0m \u001b[1;33m=\u001b[0m \u001b[0mnew_dict4_av\u001b[0m\u001b[1;33m.\u001b[0m\u001b[0mpopitem\u001b[0m\u001b[1;33m(\u001b[0m\u001b[1;36m0\u001b[0m\u001b[1;33m)\u001b[0m\u001b[1;33m\u001b[0m\u001b[1;33m\u001b[0m\u001b[0m\n\u001b[0m\u001b[0;32m      5\u001b[0m \u001b[1;33m\u001b[0m\u001b[0m\n\u001b[0;32m      6\u001b[0m \u001b[0mprint\u001b[0m\u001b[1;33m(\u001b[0m\u001b[0mrus_av\u001b[0m\u001b[1;33m)\u001b[0m\u001b[1;33m\u001b[0m\u001b[1;33m\u001b[0m\u001b[0m\n",
      "\u001b[1;31mTypeError\u001b[0m: dict.popitem() takes no arguments (1 given)"
     ]
    }
   ],
   "source": [
    "# .popitem()\n",
    "## удаляет и возвращает пару ключ-значение\n",
    "\n",
    "hist_av = new_dict4_av.popitem()\n",
    "# Удаляет в порядке LIFO - last-in first-out\n",
    "\n",
    "print(rus_av)\n",
    "print(new_dict4_av)"
   ]
  },
  {
   "cell_type": "markdown",
   "id": "fbe9460d",
   "metadata": {},
   "source": [
    "## Дополнительные материалы <a name=\"parlast\"></a>\n",
    "\n",
    "+ Документация Python [Built-in Types](https://docs.python.org/3/library/stdtypes.html)\n",
    "+ Документация Python [More Control Flow Tools](https://docs.python.org/3/tutorial/controlflow.html)\n",
    "+ Щуров И.В., Тамбовцева А.А., Жучкова С.В. —  курс «Основы программирования в Python» ([ссылка на курс](https://allatambov.github.io/pypolit/pypolit.html))\n",
    "+ Очень полезная статья на Хабр. [Python и теория множеств](https://habr.com/ru/post/516858/)\n",
    "+ Python для начинающих. [Работа со словарями и методы словарей](https://pythonworld.ru/tipy-dannyx-v-python/slovari-dict-funkcii-i-metody-slovarej.html)\n",
    "+ Статья на Хабр. [Что такое API?](https://habr.com/ru/post/464261/)\n",
    "+ [Инструкция](https://sphenoid-aluminum-1ba.notion.site/API-YouTube-a1e2552472c246d295b6f1d1dbce5dcb) по получению ключа API YouTube\n",
    "+ Официальная [документация](https://developers.google.com/youtube/v3/docs) к API YouTube\n",
    "+ Статья на Хабр. [Что такое JSON](https://habr.com/ru/post/554274/)"
   ]
  }
 ],
 "metadata": {
  "kernelspec": {
   "display_name": "Python 3 (ipykernel)",
   "language": "python",
   "name": "python3"
  },
  "language_info": {
   "codemirror_mode": {
    "name": "ipython",
    "version": 3
   },
   "file_extension": ".py",
   "mimetype": "text/x-python",
   "name": "python",
   "nbconvert_exporter": "python",
   "pygments_lexer": "ipython3",
   "version": "3.9.7"
  }
 },
 "nbformat": 4,
 "nbformat_minor": 5
}
