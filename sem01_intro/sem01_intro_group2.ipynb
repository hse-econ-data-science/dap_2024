{
 "cells": [
  {
   "cell_type": "markdown",
   "id": "7cbd3ad5",
   "metadata": {},
   "source": [
    "# Семинар 1"
   ]
  },
  {
   "cell_type": "markdown",
   "id": "f6db6230",
   "metadata": {},
   "source": [
    "## Введение в jupyter notebook"
   ]
  },
  {
   "cell_type": "markdown",
   "id": "981cb2bd",
   "metadata": {},
   "source": [
    "Ячейки бывают с кодом и текстом (Markdown - формат написания текста)"
   ]
  },
  {
   "cell_type": "markdown",
   "id": "0113f48e",
   "metadata": {},
   "source": [
    "Создать новую ячейку можно нажав + на панели сверху или Esc + B (Esc нужен для выхода из режима редактирования ячейки)"
   ]
  },
  {
   "cell_type": "markdown",
   "id": "9d28ac1c",
   "metadata": {},
   "source": [
    "Если у вас нет панели сверху с символами команд, то сделайте: Вид -> Показать/скрыть панель мониторинга"
   ]
  },
  {
   "cell_type": "markdown",
   "id": "2a34a667",
   "metadata": {},
   "source": [
    "Когда выделение ячейки синее - вы в режиме перемещения между ячейками (можете перемещаться стрелками и использовать команды для создания новых ячеек и тд), \n",
    "\n",
    "Нажмёте Enter на нужно ячейке - перейдете в режим редактирования (выделение станет зелёным на ячейке, которую вы редактируете), Esc - переход обратно в режим перемещения"
   ]
  },
  {
   "cell_type": "markdown",
   "id": "4b413785",
   "metadata": {},
   "source": [
    "Выполнить ячейку можно нажав Shift + Enter или нажав Запуск на панели"
   ]
  },
  {
   "cell_type": "markdown",
   "id": "64550eda",
   "metadata": {},
   "source": [
    "Поменять тип ячейки можно на панели или через Esc + M для перехода к тексту, или Esc + Y для перехода к коду"
   ]
  },
  {
   "cell_type": "markdown",
   "id": "4ed89448",
   "metadata": {},
   "source": [
    "Можно делать заголовки разного уровня Esc + 1 (или 2/3/4)"
   ]
  },
  {
   "cell_type": "markdown",
   "id": "9f59b3c5",
   "metadata": {},
   "source": [
    "## Python как калькулятор "
   ]
  },
  {
   "cell_type": "code",
   "execution_count": 6,
   "id": "8f884983",
   "metadata": {},
   "outputs": [
    {
     "data": {
      "text/plain": [
       "4"
      ]
     },
     "execution_count": 6,
     "metadata": {},
     "output_type": "execute_result"
    }
   ],
   "source": [
    "2 + 2"
   ]
  },
  {
   "cell_type": "code",
   "execution_count": 7,
   "id": "d71370e5",
   "metadata": {},
   "outputs": [
    {
     "data": {
      "text/plain": [
       "2.2"
      ]
     },
     "execution_count": 7,
     "metadata": {},
     "output_type": "execute_result"
    }
   ],
   "source": [
    "2 + 2 * 2 / 20"
   ]
  },
  {
   "cell_type": "code",
   "execution_count": 8,
   "id": "4a13ddca",
   "metadata": {},
   "outputs": [
    {
     "data": {
      "text/plain": [
       "2.5"
      ]
     },
     "execution_count": 8,
     "metadata": {},
     "output_type": "execute_result"
    }
   ],
   "source": [
    "5 / 2"
   ]
  },
  {
   "cell_type": "code",
   "execution_count": 9,
   "id": "56464ef6",
   "metadata": {
    "scrolled": true
   },
   "outputs": [
    {
     "data": {
      "text/plain": [
       "2"
      ]
     },
     "execution_count": 9,
     "metadata": {},
     "output_type": "execute_result"
    }
   ],
   "source": [
    "5 // 2"
   ]
  },
  {
   "cell_type": "code",
   "execution_count": 11,
   "id": "9ac77270",
   "metadata": {},
   "outputs": [
    {
     "data": {
      "text/plain": [
       "4"
      ]
     },
     "execution_count": 11,
     "metadata": {},
     "output_type": "execute_result"
    }
   ],
   "source": [
    "10 // 3 + 10 % 3"
   ]
  },
  {
   "cell_type": "code",
   "execution_count": 15,
   "id": "18b7f0fd",
   "metadata": {},
   "outputs": [
    {
     "data": {
      "text/plain": [
       "1.4142135623730951"
      ]
     },
     "execution_count": 15,
     "metadata": {},
     "output_type": "execute_result"
    }
   ],
   "source": [
    "2 ** (1/2)"
   ]
  },
  {
   "cell_type": "markdown",
   "id": "c2588bb1",
   "metadata": {},
   "source": [
    "Остаток от деления:"
   ]
  },
  {
   "cell_type": "code",
   "execution_count": 11,
   "id": "980b1f5c",
   "metadata": {},
   "outputs": [
    {
     "data": {
      "text/plain": [
       "1"
      ]
     },
     "execution_count": 11,
     "metadata": {},
     "output_type": "execute_result"
    }
   ],
   "source": [
    "10 % 3 # (10 mod 3) - так выглядит комментарий в коде"
   ]
  },
  {
   "cell_type": "markdown",
   "id": "598ca173",
   "metadata": {},
   "source": [
    "## Дополнительные функции "
   ]
  },
  {
   "cell_type": "code",
   "execution_count": 12,
   "id": "c5241d99",
   "metadata": {},
   "outputs": [
    {
     "ename": "NameError",
     "evalue": "name 'sin' is not defined",
     "output_type": "error",
     "traceback": [
      "\u001b[0;31m---------------------------------------------------------------------------\u001b[0m",
      "\u001b[0;31mNameError\u001b[0m                                 Traceback (most recent call last)",
      "\u001b[0;32m/tmp/ipykernel_11739/76962824.py\u001b[0m in \u001b[0;36m<module>\u001b[0;34m\u001b[0m\n\u001b[0;32m----> 1\u001b[0;31m \u001b[0msin\u001b[0m\u001b[0;34m(\u001b[0m\u001b[0;36m2\u001b[0m\u001b[0;34m)\u001b[0m\u001b[0;34m\u001b[0m\u001b[0;34m\u001b[0m\u001b[0m\n\u001b[0m",
      "\u001b[0;31mNameError\u001b[0m: name 'sin' is not defined"
     ]
    }
   ],
   "source": [
    "sin(123)"
   ]
  },
  {
   "cell_type": "markdown",
   "id": "64ac5ac9",
   "metadata": {},
   "source": [
    "Питон сейчас не знает, что такое sin, так как эта функция в него не встроена"
   ]
  },
  {
   "cell_type": "markdown",
   "id": "8d9cb35b",
   "metadata": {},
   "source": [
    "Подключим дополнительную библиотеку для её использования"
   ]
  },
  {
   "cell_type": "code",
   "execution_count": 13,
   "id": "fb6ea102",
   "metadata": {},
   "outputs": [
    {
     "data": {
      "text/plain": [
       "-0.45990349068959124"
      ]
     },
     "execution_count": 13,
     "metadata": {},
     "output_type": "execute_result"
    }
   ],
   "source": [
    "import math\n",
    "math.sin(123)"
   ]
  },
  {
   "cell_type": "markdown",
   "id": "e1b2006e",
   "metadata": {},
   "source": [
    "Если без import вызвать `math.sin(123)`, будет такая же ошибка `name 'math' is not defined`\n",
    "\n",
    "Только после import питон будет знать, что есть модуль/библиотека с таким названием"
   ]
  },
  {
   "cell_type": "markdown",
   "id": "29689eb8",
   "metadata": {},
   "source": [
    "## Переменные "
   ]
  },
  {
   "cell_type": "markdown",
   "id": "12affeda",
   "metadata": {},
   "source": [
    "Переменные - области в памяти, к которым можно обращаться по имени\n",
    "\n",
    "Оператор присваивания (=) позволят в эту область записать то, что вы хотите"
   ]
  },
  {
   "cell_type": "code",
   "execution_count": 21,
   "id": "35442b56",
   "metadata": {},
   "outputs": [],
   "source": [
    "m = 75 # масса\n",
    "с = 299792458 # скорость света в вакууме\n",
    "E = m * с ** 2 # полная энергия покоя"
   ]
  },
  {
   "cell_type": "markdown",
   "id": "b83f862b",
   "metadata": {},
   "source": [
    "## Вывод результатов "
   ]
  },
  {
   "cell_type": "markdown",
   "id": "328532ae",
   "metadata": {},
   "source": [
    "Jupyter notebook выведет значение любой переменной или выражения в последней строке ячейки"
   ]
  },
  {
   "cell_type": "code",
   "execution_count": 23,
   "id": "ca7f2f10",
   "metadata": {},
   "outputs": [
    {
     "data": {
      "text/plain": [
       "4"
      ]
     },
     "execution_count": 23,
     "metadata": {},
     "output_type": "execute_result"
    }
   ],
   "source": [
    "2 + 2"
   ]
  },
  {
   "cell_type": "code",
   "execution_count": 24,
   "id": "f85e75c9",
   "metadata": {},
   "outputs": [
    {
     "data": {
      "text/plain": [
       "6740663840526132300"
      ]
     },
     "execution_count": 24,
     "metadata": {},
     "output_type": "execute_result"
    }
   ],
   "source": [
    "E"
   ]
  },
  {
   "cell_type": "code",
   "execution_count": 27,
   "id": "79041be5",
   "metadata": {},
   "outputs": [
    {
     "data": {
      "text/plain": [
       "4"
      ]
     },
     "execution_count": 27,
     "metadata": {},
     "output_type": "execute_result"
    }
   ],
   "source": [
    "E \n",
    "2 + 2 # но только в последней"
   ]
  },
  {
   "cell_type": "markdown",
   "id": "184d06e1",
   "metadata": {},
   "source": [
    "Вывести значение в любой момент можно через функцию print()"
   ]
  },
  {
   "cell_type": "code",
   "execution_count": 29,
   "id": "7b3cfadd",
   "metadata": {},
   "outputs": [
    {
     "name": "stdout",
     "output_type": "stream",
     "text": [
      "60\n",
      "4\n",
      "6740663840526132300\n"
     ]
    }
   ],
   "source": [
    "print(6 * 10)\n",
    "print(2 * 2)\n",
    "print(E)"
   ]
  },
  {
   "cell_type": "markdown",
   "id": "91a93abf",
   "metadata": {},
   "source": [
    "## Ввод от пользователя "
   ]
  },
  {
   "cell_type": "code",
   "execution_count": 32,
   "id": "5013b437",
   "metadata": {},
   "outputs": [
    {
     "name": "stdout",
     "output_type": "stream",
     "text": [
      "Robert\n",
      "Hello,  Robert\n"
     ]
    }
   ],
   "source": [
    "name = input()\n",
    "print(\"Hello, \", name)"
   ]
  },
  {
   "cell_type": "code",
   "execution_count": 33,
   "id": "da0dcc23",
   "metadata": {},
   "outputs": [
    {
     "name": "stdout",
     "output_type": "stream",
     "text": [
      "80\n"
     ]
    },
    {
     "ename": "MemoryError",
     "evalue": "",
     "output_type": "error",
     "traceback": [
      "\u001b[0;31m---------------------------------------------------------------------------\u001b[0m",
      "\u001b[0;31mMemoryError\u001b[0m                               Traceback (most recent call last)",
      "\u001b[0;32m/tmp/ipykernel_11739/3759875771.py\u001b[0m in \u001b[0;36m<module>\u001b[0;34m\u001b[0m\n\u001b[1;32m      1\u001b[0m \u001b[0mm\u001b[0m \u001b[0;34m=\u001b[0m \u001b[0minput\u001b[0m\u001b[0;34m(\u001b[0m\u001b[0;34m)\u001b[0m\u001b[0;34m\u001b[0m\u001b[0;34m\u001b[0m\u001b[0m\n\u001b[1;32m      2\u001b[0m \u001b[0mс\u001b[0m \u001b[0;34m=\u001b[0m \u001b[0;36m299792458\u001b[0m \u001b[0;31m# скорость света в вакууме\u001b[0m\u001b[0;34m\u001b[0m\u001b[0;34m\u001b[0m\u001b[0m\n\u001b[0;32m----> 3\u001b[0;31m \u001b[0mE\u001b[0m \u001b[0;34m=\u001b[0m \u001b[0mm\u001b[0m \u001b[0;34m*\u001b[0m \u001b[0mс\u001b[0m \u001b[0;34m**\u001b[0m \u001b[0;36m2\u001b[0m \u001b[0;31m# полная энергия покоя\u001b[0m\u001b[0;34m\u001b[0m\u001b[0;34m\u001b[0m\u001b[0m\n\u001b[0m\u001b[1;32m      4\u001b[0m \u001b[0mprint\u001b[0m\u001b[0;34m(\u001b[0m\u001b[0;34m\"Энергия: \"\u001b[0m\u001b[0;34m,\u001b[0m \u001b[0mE\u001b[0m\u001b[0;34m)\u001b[0m\u001b[0;34m\u001b[0m\u001b[0;34m\u001b[0m\u001b[0m\n",
      "\u001b[0;31mMemoryError\u001b[0m: "
     ]
    }
   ],
   "source": [
    "m = input()\n",
    "с = 299792458 # скорость света в вакууме\n",
    "E = m * с ** 2 # полная энергия покоя\n",
    "print(\"Энергия: \", E)"
   ]
  },
  {
   "cell_type": "markdown",
   "id": "1cccb0d2",
   "metadata": {},
   "source": [
    "Ошибка - кончилась память на компьютере для программы :-("
   ]
  },
  {
   "cell_type": "markdown",
   "id": "d5b99602",
   "metadata": {},
   "source": [
    "Почему? input() возвращает не число, а строку"
   ]
  },
  {
   "cell_type": "markdown",
   "id": "58bfe854",
   "metadata": {},
   "source": [
    "## Строки "
   ]
  },
  {
   "cell_type": "markdown",
   "id": "b786877c",
   "metadata": {},
   "source": [
    "Строка - тип данных, последовательность символов\n",
    "Определить можно через одиночные или двойные кавычки - это равнозначно "
   ]
  },
  {
   "cell_type": "code",
   "execution_count": 4,
   "id": "02369a91",
   "metadata": {},
   "outputs": [
    {
     "name": "stdout",
     "output_type": "stream",
     "text": [
      "Hello \n",
      "Robert\n"
     ]
    }
   ],
   "source": [
    "a = \"Hello \" \n",
    "b = 'Robert'\n",
    "print(a)\n",
    "print(b)"
   ]
  },
  {
   "cell_type": "markdown",
   "id": "aae6b6c6",
   "metadata": {},
   "source": [
    "Их можно складывать"
   ]
  },
  {
   "cell_type": "code",
   "execution_count": 2,
   "id": "7e14d5d0",
   "metadata": {},
   "outputs": [
    {
     "name": "stdout",
     "output_type": "stream",
     "text": [
      "Hello Robert\n",
      "Hello Robert\n",
      "RobertRobertRobert\n"
     ]
    }
   ],
   "source": [
    "\n",
    "print(a + b)\n",
    "print(a + 'Robert')\n"
   ]
  },
  {
   "cell_type": "markdown",
   "id": "dfbee837",
   "metadata": {},
   "source": [
    "Их можно умножать"
   ]
  },
  {
   "cell_type": "code",
   "execution_count": 5,
   "id": "8cbad5b3",
   "metadata": {},
   "outputs": [
    {
     "name": "stdout",
     "output_type": "stream",
     "text": [
      "RobertRobertRobert\n"
     ]
    }
   ],
   "source": [
    "print(b * 3)"
   ]
  },
  {
   "cell_type": "markdown",
   "id": "bce0e825",
   "metadata": {},
   "source": [
    "Теперь мы понимаем, что случилось в ячейке выше: длинные строки в памяти занимают много место\n",
    "Вместо числа с массой мы передали строку и вместо числа: 7190041429894541120 = 80 * 299792458**2 "
   ]
  },
  {
   "cell_type": "markdown",
   "id": "4a29bebb",
   "metadata": {},
   "source": [
    "Мы пытались строку '80' повторить 299792458**2 раз - это очень длинная строка и память просто закончилась"
   ]
  },
  {
   "cell_type": "markdown",
   "id": "9b06581e",
   "metadata": {},
   "source": [
    "## Приведение типов "
   ]
  },
  {
   "cell_type": "markdown",
   "id": "cca0a006",
   "metadata": {},
   "source": [
    "Исправить можно с помощью функции приведения к целому числу:"
   ]
  },
  {
   "cell_type": "code",
   "execution_count": 10,
   "id": "9e8e1ead",
   "metadata": {},
   "outputs": [
    {
     "data": {
      "text/plain": [
       "80"
      ]
     },
     "execution_count": 10,
     "metadata": {},
     "output_type": "execute_result"
    }
   ],
   "source": [
    "'80' # это строка\n",
    "int('80') # это уже число"
   ]
  },
  {
   "cell_type": "code",
   "execution_count": 11,
   "id": "d4351d84",
   "metadata": {},
   "outputs": [
    {
     "name": "stdout",
     "output_type": "stream",
     "text": [
      "80\n",
      "Энергия:  7190041429894541120\n"
     ]
    }
   ],
   "source": [
    "m = int(input()) # получили строку от пользователя и привели её к числу\n",
    "с = 299792458 \n",
    "E = m * с ** 2\n",
    "print(\"Энергия: \", E)"
   ]
  },
  {
   "cell_type": "markdown",
   "id": "62ff3fda",
   "metadata": {},
   "source": [
    "РАБОТАЕТ!"
   ]
  },
  {
   "cell_type": "markdown",
   "id": "ac838df6",
   "metadata": {},
   "source": [
    "Тип переменной можно узнать с помощью функции type()"
   ]
  },
  {
   "cell_type": "code",
   "execution_count": 14,
   "id": "13fbe081",
   "metadata": {},
   "outputs": [
    {
     "data": {
      "text/plain": [
       "int"
      ]
     },
     "execution_count": 14,
     "metadata": {},
     "output_type": "execute_result"
    }
   ],
   "source": [
    "a = 50\n",
    "type(a)"
   ]
  },
  {
   "cell_type": "markdown",
   "id": "27c8d754",
   "metadata": {},
   "source": [
    "int = integer = целое число"
   ]
  },
  {
   "cell_type": "code",
   "execution_count": 15,
   "id": "db6cfe07",
   "metadata": {},
   "outputs": [
    {
     "data": {
      "text/plain": [
       "float"
      ]
     },
     "execution_count": 15,
     "metadata": {},
     "output_type": "execute_result"
    }
   ],
   "source": [
    "b = 60.3423423412342\n",
    "type(b)"
   ]
  },
  {
   "cell_type": "markdown",
   "id": "8d7046b3",
   "metadata": {},
   "source": [
    "float = floating number = число с плавающей запятой = нецелое"
   ]
  },
  {
   "cell_type": "code",
   "execution_count": 16,
   "id": "9dc0c304",
   "metadata": {},
   "outputs": [
    {
     "data": {
      "text/plain": [
       "str"
      ]
     },
     "execution_count": 16,
     "metadata": {},
     "output_type": "execute_result"
    }
   ],
   "source": [
    "name = 'Robert'\n",
    "type(name)"
   ]
  },
  {
   "cell_type": "markdown",
   "id": "34dc2fc0",
   "metadata": {},
   "source": [
    "str = string = строка"
   ]
  },
  {
   "cell_type": "markdown",
   "id": "2dadfafc",
   "metadata": {},
   "source": [
    "## Контест "
   ]
  },
  {
   "cell_type": "markdown",
   "id": "06ae3682",
   "metadata": {},
   "source": [
    "https://contest.yandex.ru/contest/48080/problems/"
   ]
  }
 ],
 "metadata": {
  "kernelspec": {
   "display_name": "Python 3 (ipykernel)",
   "language": "python",
   "name": "python3"
  },
  "language_info": {
   "codemirror_mode": {
    "name": "ipython",
    "version": 3
   },
   "file_extension": ".py",
   "mimetype": "text/x-python",
   "name": "python",
   "nbconvert_exporter": "python",
   "pygments_lexer": "ipython3",
   "version": "3.10.12"
  }
 },
 "nbformat": 4,
 "nbformat_minor": 5
}
